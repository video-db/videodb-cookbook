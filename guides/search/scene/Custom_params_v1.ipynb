{
 "cells": [
  {
   "cell_type": "markdown",
   "metadata": {},
   "source": [
    "## Custom Params - v1\n",
    "<a href=\"https://colab.research.google.com/github/video-db/videodb-cookbook/blob/experiment-scene-index/guides/search/scene/Custom_params_v1.ipynb\" target=\"_parent\"><img src=\"https://colab.research.google.com/assets/colab-badge.svg\" alt=\"Open In Colab\"/></a>"
   ]
  },
  {
   "cell_type": "markdown",
   "metadata": {},
   "source": [
    "## Install"
   ]
  },
  {
   "cell_type": "code",
   "execution_count": null,
   "metadata": {},
   "outputs": [],
   "source": [
    "%pip install git+https://github.com/video-db/videodb-python.git@ankit/add-scene-index"
   ]
  },
  {
   "cell_type": "markdown",
   "metadata": {},
   "source": [
    "### API Key"
   ]
  },
  {
   "cell_type": "code",
   "execution_count": 22,
   "metadata": {},
   "outputs": [],
   "source": [
    "from videodb import connect\n",
    "import os\n",
    "\n",
    "os.environ[\"VIDEO_DB_API_KEY\"] = \"\"\n",
    "\n",
    "conn = connect()\n",
    "coll = conn.get_collection()"
   ]
  },
  {
   "cell_type": "markdown",
   "metadata": {},
   "source": [
    "### Upload"
   ]
  },
  {
   "cell_type": "code",
   "execution_count": 23,
   "metadata": {},
   "outputs": [],
   "source": [
    "video = coll.upload(url=\"https://www.youtube.com/watch?v=BT64N6fTZYE\")"
   ]
  },
  {
   "cell_type": "markdown",
   "metadata": {},
   "source": [
    "### Index with default keyframe params"
   ]
  },
  {
   "cell_type": "code",
   "execution_count": 7,
   "metadata": {},
   "outputs": [],
   "source": [
    "from videodb import SceneModels\n",
    "\n",
    "scenes_normal = video.index_scenes(scene_model=SceneModels.gpt4_vision)"
   ]
  },
  {
   "cell_type": "code",
   "execution_count": null,
   "metadata": {},
   "outputs": [],
   "source": [
    "from videodb import SearchType\n",
    "\n",
    "res = video.search(\"gun\", search_type=SearchType.scene)\n",
    "res.play()"
   ]
  },
  {
   "cell_type": "code",
   "execution_count": 12,
   "metadata": {},
   "outputs": [],
   "source": [
    "video.delete_scene_index(scene_model=SceneModels.gpt4_vision)"
   ]
  },
  {
   "cell_type": "markdown",
   "metadata": {},
   "source": [
    "### Index with custom keyframe params"
   ]
  },
  {
   "cell_type": "code",
   "execution_count": 24,
   "metadata": {},
   "outputs": [],
   "source": [
    "scenes_custom = video.index_scenes(threshold=5, min_scene_len=15, num_images=1, scene_model=SceneModels.gpt4_vision)"
   ]
  },
  {
   "cell_type": "code",
   "execution_count": null,
   "metadata": {},
   "outputs": [],
   "source": [
    "from videodb import SearchType\n",
    "\n",
    "res = video.search(\"firearm\", search_type=SearchType.scene)\n",
    "res.play()"
   ]
  },
  {
   "cell_type": "code",
   "execution_count": 26,
   "metadata": {},
   "outputs": [
    {
     "name": "stdout",
     "output_type": "stream",
     "text": [
      "{'end': '4.6046000000000005', 'response': 'The image shows an interior view of a convenience store captured by a security camera in Monterrey, Mexico, dated April 23, 2018. In the foreground, a person wearing a straw hat is facing away from the camera, standing at a counter marked \"DOS CAJAS\" (two cash registers). To the right, an individual with short hair is seated, facing a computer screen and a checkout counter. In the middle ground, a person in a dark hoodie with a graphic on the front walks towards the camera, hands clasped. The store is stocked with various goods, including snacks and beverages on shelves and refrigeration units.', 'start': '0'}\n",
      "{'end': '8.008000000000001', 'response': 'The image depicts an interior view of a grocery store captured by a security camera, dated 23-04-2018 at 11:07 AM. A person at the center, wearing a motorcycle helmet and a dark hoodie, appears to be mid-motion, facing a checkout counter where another person is standing. In the foreground, an individual wearing a straw hat is visible from behind, signaling with their hand. The shelves are stocked with colorful goods, and the scene conveys a sense of urgency. Text overlays include \"DOS CAJAS\" and \"CARNES CARES\" with a Facebook logo, suggesting a name or location related to the scene.', 'start': '4.6046000000000005'}\n",
      "{'end': '14.014000000000001', 'response': 'The image shows the interior of a brightly lit grocery store captured by a security camera at 11:07 AM on April 23, 2018. In the foreground, a person wearing dark clothing and a ski mask gestures toward an individual in a cowboy hat. Between them, in the lower left corner, text reads \"DOS CAJAS.\" The masked individual appears to be holding something in their right hand, possibly a firearm. On the right, a cashier stands behind a checkout counter, watching the scene. Shelves stocked with items and refrigerated sections with beverages line the background. The store\\'s social media handle hovers above.', 'start': '8.008000000000001'}\n",
      "{'end': '21.021', 'response': 'The image is a surveillance still of a convenience store. Two individuals are near the entrance; one seems to be physically restraining the other. Displays of snacks and beverages line the shelves. The setting appears distressed; items are scattered on the floor. A cashier counter is in the foreground, with a seated employee appearing uninvolved. \"DOS CAJAS,\" meaning \"two checkouts\" in Spanish, is visible at the bottom. The timestamp in the corner reads \"23-04-2018 11:07:11 AM.\" Lighting is bright, typical for retail spaces. The scenario suggests a possible altercation, with the context and outcome unknown from this single image.', 'start': '14.014000000000001'}\n",
      "{'end': '24.024', 'response': 'The image appears to capture a moment in a grocery store from a ceiling-mounted security camera. In the foreground, a cashier station with a seated worker is visible, alongside a computer monitor, keyboard, and checkout conveyor belt. To the left and center, grocery shelves stocked with colorful products lead to a person wearing white, who seems to have slipped or stumbled with a sheet or sign underfoot, creating a dynamic motion blur. The store is well-lit, neatly organized, conveying a typical retail environment. Timestamped \"23-04-2018 11:07:16 AM,\" and a caption \"DOS CAJAS\" indicates two checkout lanes.', 'start': '21.021'}\n",
      "{'end': '30.03', 'response': 'The image is a security camera snapshot inside a store. Timestamped April 23, 2018, at 11:07 AM, the interior features neatly aligned shelves stocked with various products, ranging from beverages to snacks and personal care items. A prominent display of orange-colored drink packages forms an aisle center. To the right, chillers house beverages, and a section adorned with bright pink labels appears to offer beauty or cleaning products. The flooring is light-hued, reflecting the interior lights. A checkout counter, fitted with electronic cash registers and computer screens, awaits customers. A sign saying \"DOS CAJAS\" indicates the presence of two cash registers.', 'start': '24.024'}\n",
      "{'end': '34.60123333333333', 'response': 'The image shows an indoor setting, likely a store or supermarket, captured by a surveillance camera as indicated by the date and time stamp in the upper right corner mentioning \"23-04-2018, 11:07:26 AM.\" In the foreground is a checkout counter with a computer, keyboard, and other electronic equipment. A person is seated near the counter, facing away from the camera. In the middle, there are people wearing white attire, resembling uniforms, who seem to be engaged in a scuffle or physical altercation. The shelves in the background are stocked with various products, presenting a typical retail environment. There\\'s text at the bottom reading \"DOS CAJAS.\"', 'start': '30.03'}\n",
      "{'end': '36.56986666666667', 'response': 'This is a still from a surveillance video in a convenience store. A person blurred in motion is falling with a display stand tipping over. The timestamp indicates 23-04-2018, 11:07:29 AM. In the foreground is a checkout area with a cash register, computer monitor, and various items on the counter. \"DOS CAJAS\" is labeled at the bottom, meaning \"two checkouts\" in Spanish. The store is well-lit, displaying assorted products like snacks, beverages, and personal care items. An individual, likely an employee or customer, is seated facing away from the camera. Emergency exit signage and fire extinguishers are visible, indicating safety measures.', 'start': '34.60123333333333'}\n",
      "{'end': '38.1381', 'response': 'The image displays a bold blue background with white text and logos. It promotes the website \"UnivisionNoticias.com\" and encourages viewers to \"Comparte este video\" which translates to \"Share this video.\" At the top, a shield-like logo with a minimalistic design splits into quadrants, two of which are shaded differently, creating a dynamic contrast. This image appears to be a static screen from a video, suggesting an end slate designed to motivate viewers to engage with the content by sharing it. The message is clear, concise, and aimed at increasing the video\\'s reach on digital platforms.', 'start': '36.56986666666667'}\n",
      "{'end': '45.1451', 'response': 'This image displays a digital, media-themed background with a futuristic aesthetic. It features a prominent blue color scheme with varying shades. The left side shows a dotted world map with North and South America visible, suggesting a global context. On the right, there is a network of connected lines and dots, symbolizing digital connectivity or a neural network. Light nodes illuminate connections within this network, signifying communication or data transfer points. In the upper right corner, a call-to-action, “SUSCRIBETE,” invites viewers to subscribe, typically used in digital content platforms. Overall, the graphic evokes themes of technology, networking, and global outreach.', 'start': '38.1381'}\n"
     ]
    }
   ],
   "source": [
    "for scenes in video.get_scenes(scene_model=SceneModels.gpt4_vision):\n",
    "    print(scenes)"
   ]
  },
  {
   "cell_type": "code",
   "execution_count": null,
   "metadata": {},
   "outputs": [],
   "source": []
  }
 ],
 "metadata": {
  "kernelspec": {
   "display_name": ".venv-main",
   "language": "python",
   "name": "python3"
  },
  "language_info": {
   "codemirror_mode": {
    "name": "ipython",
    "version": 3
   },
   "file_extension": ".py",
   "mimetype": "text/x-python",
   "name": "python",
   "nbconvert_exporter": "python",
   "pygments_lexer": "ipython3",
   "version": "3.11.7"
  }
 },
 "nbformat": 4,
 "nbformat_minor": 2
}
