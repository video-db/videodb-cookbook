{
 "cells": [
  {
   "cell_type": "markdown",
   "metadata": {},
   "source": [
    "<a href=\"https://colab.research.google.com/github/video-db/videodb-cookbook/blob/scene-index/integrations/llama-index/simple_video_rag_with_readers.ipynb\" target=\"_parent\"><img src=\"https://colab.research.google.com/assets/colab-badge.svg\" alt=\"Open In Colab\"/></a>\n",
    "# VideoDB Readers "
   ]
  },
  {
   "cell_type": "markdown",
   "metadata": {},
   "source": [
    "### Note : Draft Notebook & Integrations\n"
   ]
  },
  {
   "cell_type": "markdown",
   "metadata": {},
   "source": [
    "&nbsp;\n",
    "## 🛠️️ Setup connection"
   ]
  },
  {
   "cell_type": "markdown",
   "metadata": {},
   "source": [
    "###  Requirements\n",
    "\n",
    "To connect to VideoDB, simply get the API key and create a connection. This can be done by setting the `VIDEO_DB_API_KEY` environment variable. You can get it from 👉🏼 [VideoDB Console](https://console.videodb.io). ( Free for first 50 uploads, **No credit card required!** )\n",
    "\n",
    "Get your `OPENAI_API_KEY` from OpenAI platform for `llama_index` response synthesizer.\n",
    "\n",
    "<!-- > Set the `OPENAI_API_KEY` & `VIDEO_DB_API_KEY` environment variable with your API keys. -->"
   ]
  },
  {
   "cell_type": "code",
   "execution_count": null,
   "metadata": {},
   "outputs": [],
   "source": [
    "import os\n",
    "\n",
    "os.environ[\"OPENAI_API_KEY\"] = \"\"\n",
    "os.environ[\"VIDEO_DB_API_KEY\"] = \"\""
   ]
  },
  {
   "cell_type": "markdown",
   "metadata": {},
   "source": [
    "### Installing Dependencies\n",
    "\n",
    "To get started, we'll need to install the following packages:\n",
    "\n",
    "- `llama-index`\n",
    "- `llama-index-readers-videodb`\n",
    "- `videodb`"
   ]
  },
  {
   "cell_type": "code",
   "execution_count": null,
   "metadata": {},
   "outputs": [],
   "source": [
    "%pip install llama-index\n",
    "%pip install videodb"
   ]
  },
  {
   "cell_type": "code",
   "execution_count": null,
   "metadata": {},
   "outputs": [],
   "source": [
    "%pip install git+https://github.com/video-db/llama_index@add-videodb-readers#subdirectory=llama-index-integrations/readers/llama-index-readers-videodb"
   ]
  },
  {
   "cell_type": "markdown",
   "metadata": {},
   "source": [
    "### Data Ingestion\n",
    "\n",
    "Let's upload a few video files first. You can use any `public url`, `Youtube link` or `local file` on your system. First 50 uploads are free!"
   ]
  },
  {
   "cell_type": "code",
   "execution_count": null,
   "metadata": {},
   "outputs": [],
   "source": [
    "from videodb import connect\n",
    "\n",
    "# connect to VideoDB\n",
    "conn = connect()\n",
    "\n",
    "# upload videos to default collection in VideoDB\n",
    "print(\"uploading first video\")\n",
    "video = conn.upload(url=\"https://www.youtube.com/watch?v=zdPSaMuLRso&list=PL6duHAYny9nNuTHN2EKNfuhmmRKCJD7os&index=5\")"
   ]
  },
  {
   "cell_type": "markdown",
   "metadata": {},
   "source": [
    "> * `coll = conn.get_collection()` : Returns default collection object.\n",
    "> * `coll.get_videos()` : Returns list of all the videos in a collections.\n",
    "> * `coll.get_video(video_id)`: Returns Video object from given`video_id`."
   ]
  },
  {
   "cell_type": "markdown",
   "metadata": {},
   "source": [
    "### Index Spoken Words "
   ]
  },
  {
   "cell_type": "code",
   "execution_count": null,
   "metadata": {},
   "outputs": [],
   "source": [
    "video.index_spoken_words()"
   ]
  },
  {
   "cell_type": "markdown",
   "metadata": {},
   "source": [
    "### Indexing scenes\n"
   ]
  },
  {
   "cell_type": "code",
   "execution_count": null,
   "metadata": {},
   "outputs": [],
   "source": [
    "from videodb import SceneExtractionType\n",
    "\n",
    "index_id = video.index_scenes(extraction_type=SceneExtractionType.time_based, extraction_config={\"time\": 30}, model_name=\"gemini-1.5-pro\")\n",
    "scenes = video.get_scene_index(index_id)\n",
    "\n",
    "#NOTE: replace this by your scn collection id\n",
    "scn_col_id = \"tt30sf\""
   ]
  },
  {
   "cell_type": "markdown",
   "metadata": {},
   "source": [
    "### SimpleRAG"
   ]
  },
  {
   "cell_type": "code",
   "execution_count": null,
   "metadata": {},
   "outputs": [],
   "source": [
    "from llama_index.core import VectorStoreIndex\n",
    "from llama_index.readers.videodb import VideoDBReader\n",
    "\n",
    "import logging\n",
    "import sys\n",
    "logging.basicConfig(stream=sys.stdout, level=logging.INFO)\n",
    "\n",
    "reader = VideoDBReader(video=video.id, base_url=\"https://api.videodb.io\")\n",
    "\n",
    "scene_nodes = reader.get_scene_nodes(scn_col_id=scn_col_id)\n",
    "transcript_nodes = reader.get_transcript_nodes(50)\n",
    "\n",
    "index = VectorStoreIndex(scene_nodes+transcript_nodes)\n",
    "\n",
    "query_engine = index.as_query_engine()"
   ]
  },
  {
   "cell_type": "code",
   "execution_count": null,
   "metadata": {},
   "outputs": [],
   "source": [
    "res = query_engine.query(\"Projection of a vector\")\n",
    "print(res)"
   ]
  },
  {
   "cell_type": "code",
   "execution_count": null,
   "metadata": {},
   "outputs": [],
   "source": [
    "for node in res.source_nodes:\n",
    "    print(node.metadata)\n",
    "    print(node.text)"
   ]
  },
  {
   "cell_type": "code",
   "execution_count": null,
   "metadata": {},
   "outputs": [],
   "source": [
    "from videodb import connect, play_stream\n",
    "from videodb.timeline import Timeline\n",
    "from videodb.asset import VideoAsset\n",
    "\n",
    "def preview_nodes(nodes, video_id):\n",
    "    # TODO: Support cross collection merge\n",
    "    sorted_shots= sorted([(node.metadata['start'], node.metadata['end']) for node in nodes], key=lambda x: x[0])\n",
    "\n",
    "    merged_shots = []\n",
    "    for start, end in sorted_shots:\n",
    "        if not merged_shots or start > merged_shots[-1][1]:\n",
    "            merged_shots.append((start, end))\n",
    "        else:\n",
    "            merged_shots[-1] = (merged_shots[-1][0], max(merged_shots[-1][1], end))\n",
    "\n",
    "    conn = connect(base_url=\"https://api.dev.videodb.io\")\n",
    "    timeline = Timeline(conn)\n",
    "\n",
    "    for shot in merged_shots:\n",
    "        video_asset = VideoAsset(asset_id=video_id, start=shot[0], end=shot[1])\n",
    "        print(\"adding video_asset \", video_asset)\n",
    "        timeline.add_inline(video_asset)\n",
    "    \n",
    "    stream_url = timeline.generate_stream()\n",
    "    return play_stream(stream_url)\n",
    "\n",
    "print(preview_nodes(res.source_nodes, video.id))"
   ]
  }
 ],
 "metadata": {
  "kernelspec": {
   "display_name": "Python 3 (ipykernel)",
   "language": "python",
   "name": "python3"
  },
  "language_info": {
   "codemirror_mode": {
    "name": "ipython",
    "version": 3
   },
   "file_extension": ".py",
   "mimetype": "text/x-python",
   "name": "python",
   "nbconvert_exporter": "python",
   "pygments_lexer": "ipython3"
  }
 },
 "nbformat": 4,
 "nbformat_minor": 4
}
