{
  "cells": [
    {
      "cell_type": "markdown",
      "metadata": {
        "id": "KZ634ujnvhAr"
      },
      "source": [
        "# 📌 VideoDB F1 Race Search Pipeline (Turn Detection & Metadata Filtering)\n",
        "\n",
        "<a href=\"https://colab.research.google.com/github/video-db/videodb-cookbook/blob/main/quickstart/scene_level_metadata_indexing.ipynb\" target=\"_parent\"><img src=\"https://colab.research.google.com/assets/colab-badge.svg\" alt=\"Open In Colab\"/></a>\n",
        "\n",
        "## 🎯 Objective\n",
        "This notebook demonstrates **scene-level metadata filtering** in an F1 race video to enable precise search and retrieval.\n",
        "\n",
        "## 🔍 What We’re Doing:\n",
        "✔ Uploading an **F1 race video**  \n",
        "✔ **Extracting scenes** every 2 seconds (1 frame per scene)  \n",
        "✔ **Describing scenes** using AI-generated metadata  \n",
        "✔ **Indexing scenes** with structured metadata (`camera_view` & `action_type`)  \n",
        "✔ **Searching scenes** using **semantic search + metadata filtering**  \n"
      ]
    },
    {
      "cell_type": "markdown",
      "metadata": {
        "id": "XMhmSsaEv3wK"
      },
      "source": [
        "# 📦 Install VideoDB SDK  \n",
        "Required for connecting and processing video data.  \n"
      ]
    },
    {
      "cell_type": "code",
      "execution_count": null,
      "metadata": {
        "colab": {
          "base_uri": "https://localhost:8080/"
        },
        "collapsed": true,
        "id": "SX2wQvG8v3es",
        "outputId": "2f19fa41-eea7-4584-f034-0bf07a3f0137"
      },
      "outputs": [
        {
          "name": "stdout",
          "output_type": "stream",
          "text": [
            "Collecting videodb\n",
            "  Downloading videodb-0.2.10.tar.gz (25 kB)\n",
            "  Preparing metadata (setup.py) ... \u001b[?25l\u001b[?25hdone\n",
            "Requirement already satisfied: requests>=2.25.1 in /usr/local/lib/python3.11/dist-packages (from videodb) (2.32.3)\n",
            "Collecting backoff>=2.2.1 (from videodb)\n",
            "  Downloading backoff-2.2.1-py3-none-any.whl.metadata (14 kB)\n",
            "Requirement already satisfied: tqdm>=4.66.1 in /usr/local/lib/python3.11/dist-packages (from videodb) (4.67.1)\n",
            "Requirement already satisfied: charset-normalizer<4,>=2 in /usr/local/lib/python3.11/dist-packages (from requests>=2.25.1->videodb) (3.4.1)\n",
            "Requirement already satisfied: idna<4,>=2.5 in /usr/local/lib/python3.11/dist-packages (from requests>=2.25.1->videodb) (3.10)\n",
            "Requirement already satisfied: urllib3<3,>=1.21.1 in /usr/local/lib/python3.11/dist-packages (from requests>=2.25.1->videodb) (2.3.0)\n",
            "Requirement already satisfied: certifi>=2017.4.17 in /usr/local/lib/python3.11/dist-packages (from requests>=2.25.1->videodb) (2025.1.31)\n",
            "Downloading backoff-2.2.1-py3-none-any.whl (15 kB)\n",
            "Building wheels for collected packages: videodb\n",
            "  Building wheel for videodb (setup.py) ... \u001b[?25l\u001b[?25hdone\n",
            "  Created wheel for videodb: filename=videodb-0.2.10-py3-none-any.whl size=27143 sha256=17790c3062d5620ef1448b2c684de7485815f6d4e401e0aeb980f4ae41081e68\n",
            "  Stored in directory: /root/.cache/pip/wheels/ac/43/46/922da11f9ba349968e03820b5e92a4949c78e423f6c8ec37a3\n",
            "Successfully built videodb\n",
            "Installing collected packages: backoff, videodb\n",
            "Successfully installed backoff-2.2.1 videodb-0.2.10\n"
          ]
        }
      ],
      "source": [
        "!pip install videodb"
      ]
    },
    {
      "cell_type": "markdown",
      "metadata": {
        "id": "qRrD_QWrwC7C"
      },
      "source": [
        "# 🔑 Set Up API Key  \n",
        "Authenticate with VideoDB to access indexing and search functionalities.  \n"
      ]
    },
    {
      "cell_type": "code",
      "execution_count": null,
      "metadata": {
        "id": "PLZ3zTVVv7nM"
      },
      "outputs": [],
      "source": [
        "import os\n",
        "\n",
        "os.environ[\"VIDEO_DB_API_KEY\"] = \"\""
      ]
    },
    {
      "cell_type": "markdown",
      "metadata": {
        "id": "8r002aIkwTpc"
      },
      "source": [
        "# 🌐 Connect to VideoDB  \n",
        "Establishes connection to manage video storage, indexing, and search.  \n"
      ]
    },
    {
      "cell_type": "code",
      "execution_count": null,
      "metadata": {
        "colab": {
          "base_uri": "https://localhost:8080/"
        },
        "id": "b3OqQrzxwQuY",
        "outputId": "c14a24d9-0b47-44f7-aa7e-18fdda67bc94"
      },
      "outputs": [
        {
          "name": "stdout",
          "output_type": "stream",
          "text": [
            "c-81fc6459-fe30-44ac-8c5b-ea0898c2e152\n"
          ]
        }
      ],
      "source": [
        "from videodb import connect\n",
        "\n",
        "conn = connect()\n",
        "coll = conn.get_collection()\n",
        "\n",
        "print(coll.id)"
      ]
    },
    {
      "cell_type": "markdown",
      "metadata": {
        "id": "kJ8mFZtowpaz"
      },
      "source": [
        "# 🎥 Upload F1 Race Video  \n",
        "Adds the video to VideoDB for further processing.  \n"
      ]
    },
    {
      "cell_type": "code",
      "execution_count": null,
      "metadata": {
        "colab": {
          "base_uri": "https://localhost:8080/"
        },
        "id": "jGRKA8wZwZcp",
        "outputId": "fbaf7c62-e372-44a3-b2e2-ea42c6fb80f4"
      },
      "outputs": [
        {
          "name": "stdout",
          "output_type": "stream",
          "text": [
            "m-z-01954d91-651d-7ef0-a022-18aad60eabdb\n"
          ]
        }
      ],
      "source": [
        "video = coll.upload(url=\"https://www.youtube.com/watch?v=2-oslsgSaTI\")\n",
        "print(video.id)"
      ]
    },
    {
      "cell_type": "markdown",
      "metadata": {
        "id": "twKYyQFb2VVl"
      },
      "source": [
        "## ✂️ Extracting Scenes (Every 2 Seconds)\n",
        "We split the video into **2-second scenes**, extracting a **single frame per scene** for indexing.\n",
        "\n",
        "### **Why?**\n",
        "- This ensures **granular indexing**, making **scene-level filtering more precise**.\n",
        "- By extracting **key frames**, we can later **assign AI-generated metadata** to describe each scene accurately.\n"
      ]
    },
    {
      "cell_type": "code",
      "execution_count": null,
      "metadata": {
        "colab": {
          "base_uri": "https://localhost:8080/"
        },
        "id": "XWE6xx0v2h3s",
        "outputId": "b87a73b5-5f75-43d8-d872-4f62a2f4c408"
      },
      "outputs": [
        {
          "name": "stdout",
          "output_type": "stream",
          "text": [
            "Scene Collection ID: tt2smf1\n",
            "Total Scenes Extracted: 148\n"
          ]
        }
      ],
      "source": [
        "# Extract Scenes Every 2 Seconds (1 Frame per Scene)\n",
        "from videodb import SceneExtractionType\n",
        "\n",
        "scene_collection = video.extract_scenes(\n",
        "    extraction_type=SceneExtractionType.time_based,\n",
        "    extraction_config={\"time\": 2, \"select_frames\": [\"middle\"]},\n",
        ")\n",
        "\n",
        "print(f\"Scene Collection ID: {scene_collection.id}\")\n",
        "\n",
        "scenes = scene_collection.scenes\n",
        "\n",
        "print(f\"Total Scenes Extracted: {len(scenes)}\")"
      ]
    },
    {
      "cell_type": "markdown",
      "metadata": {
        "id": "FuftaJDm3-By"
      },
      "source": [
        "## 🔍 Generating Scene Metadata\n",
        "To **make scenes searchable**, we use AI to **describe & categorize** each scene with the following **structured metadata**:\n",
        "\n",
        "### **📌 Scene-Level Metadata Fields:**\n",
        "1️⃣ **`camera_view`** → **Where is the camera placed?**  \n",
        "   - `\"road_ahead\"` → Driver’s **POV looking forward**  \n",
        "   - `\"helmet_selfie\"` → Close-up of **driver’s helmet**  \n",
        "\n",
        "2️⃣ **`action_type`** → **What is the driver doing?**  \n",
        "   - `\"clear_road\"` → No cars ahead (clean lap)  \n",
        "   - `\"chasing\"` → Following another car (intense racing moment)  \n",
        "\n",
        "### **🚀 Why This Matters**\n",
        "- **Metadata filtering** allows us to **search for specific race scenarios.**  \n",
        "- **Combining metadata & semantic search** makes retrieval **highly precise**.  \n"
      ]
    },
    {
      "cell_type": "code",
      "execution_count": null,
      "metadata": {
        "colab": {
          "base_uri": "https://localhost:8080/"
        },
        "collapsed": true,
        "id": "Cumx-35JPL_v",
        "outputId": "0afa1cd5-e42d-4cd2-9040-a569170a79ad"
      },
      "outputs": [
        {
          "name": "stdout",
          "output_type": "stream",
          "text": [
            "Scene from 0.0s to 2.0s\n",
            "Camera View: road_ahead | Action Type: chasing\n",
            "Scene Description: The scene is a tense overtaking maneuver at the Circuit de Monaco, featuring Max Verstappen in the Red Bull and Charles Leclerc in the Ferrari. Verstappen, having closed the gap significantly, is seen approaching Leclerc on the entry to the iconic Tunnel section, a narrow, winding portion of the track. With the tight confines and limited visibility, Verstappen must navigate the challenging turn with precision to make a successful overtake. The significance of the moment lies in the potential for a dramatic change in race leadership, as Verstappen seeks to regain the top position he lost earlier in the race.\n",
            "Scene from 2.0s to 4.0s\n",
            "Camera View: road_ahead | Action Type: chasing\n",
            "Scene Description: The scene depicts a close-up, in-car perspective of a Formula 1 race. The driver, sporting a Walmart-branded livery, is navigating a tight corner on the track. The camera captures the driver's view as they follow a Red Bull Racing car, likely Max Verstappen, in the lead. This particular moment is crucial as it signifies a potential overtake attempt by the Walmart-branded driver, highlighting a critical juncture in the race where the driver is seeking to gain an advantage. The scene is a testament to the intense competition and strategic maneuvers that define Formula 1 racing.\n",
            "Scene from 4.0s to 6.0s\n",
            "Camera View: road_ahead | Action Type: chasing\n",
            "Scene Description: The scene is a close-up, on-board perspective from the cockpit of the Red Bull car, driven by Max Verstappen. The car is navigating the treacherous, high-speed, and winding section of the Nürburgring, specifically the \"Flugplatz\" (airport) corner.  The camera angle captures the rear-view mirror reflecting a preceding car, likely a Ferrari, battling for the lead. The intense focus on the mirror suggests a dramatic battle for position, with Verstappen attempting to close the gap and potentially overtake his rival. The scene highlights the driver's intense concentration and the critical nature of this particular corner, known for its tight radius and potential for overtaking maneuvers.\n",
            "Scene from 6.0s to 8.0s\n",
            "Camera View: road_ahead | Action Type: chasing\n",
            "Scene Description: The scene unfolds at the Hockenheimring, Germany, as the driver of the Red Bull Racing car closes in on a competitor, likely a Ferrari, on the fast and flowing approach to the hairpin. The camera angle provides a cockpit view, capturing the driver's perspective as they meticulously navigate the complex series of curves. The driver is in a tense battle, pushing their car to the limit to attempt an overtaking maneuver. This is a crucial moment in the race, as overtaking opportunities at Hockenheim are limited, and the driver's success here could significantly alter the race outcome.\n",
            "Scene from 8.0s to 10.0s\n",
            "Camera View: road_ahead | Action Type: chasing\n",
            "Scene Description: The scene captures the moment a Red Bull driver, likely Max Verstappen, closes in on a rival car on the Nürburgring circuit. The iconic German track's fast and flowing nature is evident as the driver navigates a long, sweeping corner. The driver's helmet and the \"Red Bull\" branding are the only visible elements in the image, emphasizing the driver's intense focus. This scene is likely a critical moment in the race, with the Red Bull driver pushing for a pass and potentially taking the lead.\n",
            "Scene from 10.0s to 12.0s\n",
            "Camera View: road_ahead | Action Type: chasing\n",
            "Scene Description: This is an in-car perspective shot from a Red Bull car, likely driven by Max Verstappen. The scene takes place on a fast, flowing section of a track, potentially the Hockenheimring.  The car is trailing another car, likely a Mercedes, as they approach a slight bend. This is a pivotal moment as Verstappen is attempting to close the gap and potentially overtake Hamilton, showcasing the intense competition between the two drivers and their teams. The focus is on the aggressive driving style of Verstappen, pushing the limits of his car to gain an advantage.\n",
            "Scene from 12.0s to 14.0s\n",
            "Camera View: road_ahead | Action Type: chasing\n",
            "Scene Description: The scene captures a tense moment during a Formula 1 race, showcasing the driver's perspective from the cockpit. The driver, seemingly in a Red Bull, is approaching a corner, likely the famous Eau Rouge at Spa-Francorchamps. The driver's helmet is visible, highlighting their focus as they navigate the challenging bend. The scene is significant as it portrays the intensity of the race and the driver's skill in managing the car's speed and trajectory. The backdrop features lush greenery and a guardrail, further emphasizing the iconic location of the track.\n",
            "Scene from 14.0s to 16.0s\n",
            "Camera View: road_ahead | Action Type: clear_road\n",
            "Scene Description: The scene captures the thrilling moment as Max Verstappen in his Red Bull,  trailing a competitor,  approaches the challenging Turn 1 of the Hockenheimring. The camera angle, mounted on the Red Bull, provides a driver's perspective as the car navigates the left-hand corner at high speed. This close-up showcases the intense focus and agility required to master this iconic circuit. The scene underscores the raw power and precision of Formula 1 racing.\n",
            "Scene from 16.0s to 18.0s\n",
            "Camera View: helmet_selfie | Action Type: chasing\n",
            "Scene Description: This scene captures a driver, presumably Max Verstappen, in his Red Bull Racing car, navigating the challenging Eau Rouge and Raidillon corners at Spa-Francorchamps. The shot is taken from the driver's perspective, emphasizing the sheer speed and force the car endures as it crests the iconic hill.  The blurred background showcases the challenging nature of the corner, while the driver's helmet, bearing the slogan \"There is still a race to win\", highlights the relentless determination required for success in Formula 1.\n",
            "Scene from 18.0s to 20.0s\n",
            "Camera View: helmet_selfie | Action Type: chasing\n",
            "Scene Description: The scene captures a driver's perspective from the cockpit of a Red Bull Racing car. The driver, likely Max Verstappen, is in the midst of a tight battle for position, battling a rival car alongside him.  The action unfolds on a high-speed section of the track, likely the fast, flowing corners of the Hockenheimring. The driver's helmet, emblazoned with the message \"Race Without Trace, There Is Still A Race To Win,\" conveys the intense determination and competitive spirit driving the moment.  The tension is palpable, as the driver focuses intently on his opponent, poised to make a decisive move for the lead. This scene represents a critical juncture in the race, where a single strategic maneuver could determine the outcome.\n",
            "Scene from 20.0s to 22.0s\n",
            "Camera View: helmet_selfie | Action Type: chasing\n",
            "Scene Description: The scene is a first-person cockpit view, capturing the intense focus of a driver navigating the challenging corners of a Formula 1 circuit. We see the driver, wearing a helmet emblazoned with the message \"Race Without Trace, There is Still a Race to Win,\" which suggests a message of sustainability within the sport. The car, a Red Bull, is in the midst of the race, with the driver's hands gripping the steering wheel as they skillfully maneuver the car through a tight bend. This moment reflects the driver's unwavering determination to push their limits and secure victory despite the challenges ahead.\n",
            "Scene from 22.0s to 24.0s\n",
            "Camera View: helmet_selfie | Action Type: chasing\n",
            "Scene Description: The scene depicts a driver, presumably Sebastian Vettel, in his Red Bull Racing car during a race. The camera captures the driver's perspective, showcasing the cockpit view from the driver's seat. The car is navigating a high-speed corner, the trees lining the track blurring by as Vettel maintains focus. The key element is the \"Race Without Trace\" helmet design featuring the message \"There is still a race to win.\" This signifies Vettel's determination and unwavering spirit in the face of adversity, pushing the limits to secure a victory.\n",
            "Scene from 24.0s to 26.0s\n",
            "Camera View: road_ahead | Action Type: clear_road\n",
            "Scene Description: The scene unfolds at the Nürburgring, a historic and challenging circuit known for its demanding layout. The driver, Sebastian Vettel, is behind the wheel of his Red Bull Racing car, navigating the iconic  \"Schwedenkreuz,\" a high-speed, multi-apex corner. The action is captured from Vettel's perspective, conveying the immense speed and the intricate steering movements required to tame this corner. The significance of the moment lies in the sheer thrill and precision demanded, a testament to the driver's expertise and the demanding nature of the track.\n",
            "Scene from 26.0s to 28.0s\n",
            "Camera View: road_ahead | Action Type: clear_road\n",
            "Scene Description: The scene depicts a driver, likely Max Verstappen in his Red Bull Racing car, navigating the challenging Hockenheimring circuit in Germany. The perspective is from the driver's cockpit, showcasing the exhilarating experience of piloting an F1 car at high speed. This is a crucial moment, possibly during qualifying, as the driver pushes the car to its limits, seeking the perfect lap time. The driver's focus is evident, hands gripping the steering wheel, eyes fixed on the apex of the approaching corner. The blur of the forest surrounding the track adds to the dramatic effect, emphasizing the driver's incredible speed and the technical nature of Formula 1. This scene encapsulates the essence of racing: a driver's mastery, a car's capability, and a relentless pursuit of victory.\n",
            "Scene from 28.0s to 30.0s\n",
            "Camera View: road_ahead | Action Type: clear_road\n",
            "Scene Description: The scene depicts a Red Bull driver, likely Sebastian Vettel, navigating the challenging Ardennes Forest section of the Spa-Francorchamps circuit.  The car is on the approach to the fast, flowing \"Eau Rouge\" and \"Raidillon\" corners, a classic test of driver skill and car balance.  The driver is seen pushing the car to its limits, with the car leaned heavily into the corner as it tackles the uphill climb. This is a crucial moment for the driver, as a slight misstep can easily lead to a costly error in this high-speed section. The scene exemplifies the intensity and precision demanded of Formula 1 drivers on a track renowned for its demanding nature.\n",
            "Scene from 30.0s to 32.0s\n",
            "Camera View: road_ahead | Action Type: clear_road\n",
            "Scene Description: The scene depicts a driver in a Red Bull car navigating the challenging \"S\" curves of the Nürburgring. The driver is pushing hard, the car's tires are angled aggressively, and the blur of the surroundings signifies high speed. The driver is likely in pursuit or defending a position, showcasing the intense battle for track position typical of Formula 1 racing. The \"S\" curves, with their tight turns and elevation changes, demand precision and bravery, making this a defining moment in the race.\n",
            "Scene from 32.0s to 34.0s\n",
            "Camera View: road_ahead | Action Type: chasing\n",
            "Scene Description: The scene depicts a first-person perspective from the cockpit of a Red Bull Formula 1 car. It is a high-speed corner on the Hockenheimring, a German circuit known for its fast and flowing nature. The driver, likely Daniel Ricciardo, is battling for position with an unidentified opponent, as he aggressively leans into the corner, pushing the car to its limits. The significance of the moment lies in the driver's skill and commitment to achieving a strong qualifying lap time, showcasing the thrilling and demanding nature of Formula 1.\n",
            "Scene from 34.0s to 36.0s\n",
            "Camera View: road_ahead | Action Type: clear_road\n",
            "Scene Description: The scene captures a first-person perspective of a Red Bull driver navigating the challenging Hockenheimring circuit. The driver, likely Daniel Ricciardo, is approaching the iconic \"Schwabacher Kurve\" right-hander, a notoriously tricky corner known for its tight apex and potential for overtaking. The driver is smoothly negotiating the turn, maintaining control while pushing the limits of the car's grip, showcasing the finesse required for high-speed cornering in Formula 1. The scene provides a glimpse into the raw experience of a driver at the peak of their abilities, maneuvering a powerful machine with incredible precision.\n",
            "Scene from 36.0s to 38.0s\n",
            "Camera View: helmet_selfie | Action Type: chasing\n",
            "Scene Description: This is a close-up shot from the onboard camera of a Red Bull Racing car, likely driven by Max Verstappen. The scene is set on a fast section of the track, potentially the Monza circuit, where the driver is leading the pack under a Safety Car period.  His helmet inscription \"There is still a race\" emphasizes the driver's determination despite the temporary pause, hinting at his ambition for a strategic advantage during the restart.\n",
            "Scene from 38.0s to 40.0s\n",
            "Camera View: helmet_selfie | Action Type: chasing\n",
            "Scene Description: The scene captures the intense perspective of Sebastian Vettel in his Red Bull Racing car, battling for position with a rival on the fast and flowing corners of the Nurburgring Nordschleife. The German driver, with his iconic \"Race Without Trace\" helmet, pushes hard, seeking a decisive overtaking move. The action unfolds in the latter stages of the race, with Vettel looking to salvage a podium finish after a challenging start. The focus on his helmet emphasizes his determination to make up ground, illustrating the driver's unwavering focus and the high stakes of the race.\n",
            "Scene from 40.0s to 42.0s\n",
            "Camera View: helmet_selfie | Action Type: chasing\n",
            "Scene Description: The scene is an in-car perspective of Max Verstappen, driving the Red Bull Racing car, during a race. We are looking from the driver's seat, with his helmet in focus and the car's side panel partially visible.  The car is navigating a high-speed corner on a track with trees and barriers visible in the background. The significance of the scene lies in its capturing Verstappen's determination as he navigates a challenging corner, likely in the midst of a close battle for position. The focus on his helmet, with the \"There is still a race to win\" inscription, underscores the intensity and competitive spirit of the moment.\n",
            "Scene from 42.0s to 44.0s\n",
            "Camera View: road_ahead | Action Type: clear_road\n",
            "Scene Description: This is a first-person perspective shot from the cockpit of a Red Bull car, driven by Sebastian Vettel. The car is navigating the challenging Hockenheimring track, specifically the infamous \"Motodrom\" corner.  Vettel is aggressively pushing the car, the rear end is slightly loose, and the tire walls are visible as the car grazes the apex of the turn.  The scene highlights the driver's talent in managing a challenging corner while maintaining a high speed and pushing the car to its limits.\n",
            "Scene from 44.0s to 46.0s\n",
            "Camera View: road_ahead | Action Type: clear_road\n",
            "Scene Description: The scene captures the cockpit perspective of a Red Bull driver, presumably Daniel Ricciardo, navigating the tight and challenging corners of the Hockenheimring circuit in Germany. The car is shown with the driver's helmet and the steering wheel clearly visible. The track is lined with a guardrail and green trees on the left side, signifying a fast-paced cornering sequence. The driver's focus and concentration are palpable, highlighting the technical prowess and precision required for navigating such a demanding track. The scene likely depicts a qualifying session, with the driver pushing the car and himself to the limit for a strong grid position.\n",
            "Scene from 46.0s to 48.0s\n",
            "Camera View: road_ahead | Action Type: clear_road\n",
            "Scene Description: The scene captures the cockpit perspective of a Red Bull Racing car, presumably driven by Max Verstappen, as he navigates the challenging Nürburgring track. The iconic German circuit's green foliage and characteristic guardrails frame the action. The driver, in a moment of intense focus, expertly handles the car's powerful acceleration and intricate steering through a high-speed corner. The significance of this moment lies in showcasing the driver's mastery over the car and track, a testament to the precision and skill demanded in Formula 1 racing.\n",
            "Scene from 48.0s to 50.0s\n",
            "Camera View: road_ahead | Action Type: clear_road\n",
            "Scene Description: The scene depicts a Red Bull car, driven by Max Verstappen, navigating the treacherous  Hockenheimring's turn 1. The iconic blue and red livery of the car blends with the verdant backdrop, as Verstappen powers through the turn, leaving a trail of dust in his wake. This moment exemplifies the driver's aggressive driving style and his determination to establish a decisive lead.  The camera angle, likely from the onboard perspective, captures the thrilling experience of the driver pushing the car and himself to the limit.\n",
            "Scene from 50.0s to 52.0s\n",
            "Camera View: road_ahead | Action Type: clear_road\n",
            "Scene Description: The scene is a dramatic overtaking maneuver at the Nürburgring, a track famed for its challenging corners and unforgiving nature.  A Red Bull car, driven by Sebastian Vettel, is locked in a fierce battle with a Mercedes, piloted by Lewis Hamilton. As they approach the daunting, high-speed section known as the \"Flugplatz,\" Vettel executes a daring move, diving down the inside of Hamilton. The camera, mounted on Vettel's car, captures the sheer audacity of the overtaking attempt, the blur of the Mercedes in the background as Vettel's car leans into the corner, tires squealing. This moment marks a turning point in the race, as Vettel's aggression sets the tone for a thrilling, action-packed finish.\n",
            "Scene from 52.0s to 54.0s\n",
            "Camera View: road_ahead | Action Type: clear_road\n",
            "Scene Description: The scene is a first-person perspective from the cockpit of a Red Bull car, likely driven by Sebastian Vettel, as he approaches a left-hand corner. The car is carrying significant speed, evident from the blur of the track ahead. The driver is executing a precise and confident line through the corner, demonstrating exceptional control of the car. The location appears to be a high-speed section of a circuit with a clear view of the surrounding landscape. The scene emphasizes the driver's expertise in navigating the track with precision and control, showcasing the exhilarating nature of Formula 1 racing.\n",
            "Scene from 54.0s to 56.0s\n",
            "Camera View: road_ahead | Action Type: clear_road\n",
            "Scene Description: This is an onboard shot of a Red Bull driver, likely Max Verstappen, exiting the Hockenheimring's Turn 1. The car, carrying the iconic red bull branding, is shown navigating the sharp right-hand corner with precision. The driver is demonstrating his mastery of the track by smoothly taking the apex, showcasing the car's agility and Verstappen's skill in controlling the vehicle's momentum and maintaining speed. This corner is often a crucial overtaking opportunity, and a driver's approach here can significantly impact their race strategy.  The image emphasizes the driver's perspective and the intense focus required for this high-speed turn, showcasing the challenge and skill required to compete in Formula 1.\n",
            "Scene from 56.0s to 58.0s\n",
            "Camera View: road_ahead | Action Type: chasing\n",
            "Scene Description: The scene is a close-up, on-board perspective from the cockpit of a Red Bull car, presumably driven by Sebastian Vettel, navigating the fast and sweeping corners of the Hockenheimring in Germany. The car is trailing another, unseen, competitor but attempting to close the gap. The image captures the intensity of the race, with the driver's helmet and the blur of the track highlighting the speed and concentration required in this high-stakes competition.\n",
            "Scene from 58.0s to 60.0s\n",
            "Camera View: helmet_selfie | Action Type: chasing\n",
            "Scene Description: The scene depicts a first-person perspective of a Red Bull driver during a race. The driver, wearing a helmet emblazoned with \"Race Without Trace\" and the phrase \"There is still a race to go,\" is navigating the track's winding corners. The image captures the driver's focus and determination, highlighting the intensity of the race. The specific location is unclear, but the lush greenery and clear skies suggest a summer race at a circuit known for its challenging curves. The scene emphasizes the driver's resilience and unwavering belief in his ability to compete despite any prior setbacks.\n",
            "Scene from 60.0s to 62.0s\n",
            "Camera View: road_ahead | Action Type: clear_road\n",
            "Scene Description: This scene captures the exhilarating moment of a Red Bull driver, likely Daniel Ricciardo, pushing the limits through the fast-flowing Hockenheimring. The onboard camera perspective grants a thrilling immersion as the car navigates the iconic \"Motodrom,\" showcasing the driver's finesse and precision. The slight spray from the damp track adds an element of drama and highlights the driver's unwavering focus. This iconic German track is known for its high-speed corners and challenging conditions, which further intensifies this adrenaline-fueled moment. The driver's unwavering pursuit of victory is palpable, making this an unforgettable glimpse into the raw energy of Formula 1.\n",
            "Scene from 62.0s to 64.0s\n",
            "Camera View: road_ahead | Action Type: clear_road\n",
            "Scene Description: The scene is a close-up, onboard shot from the cockpit of a Red Bull car, likely driven by Max Verstappen. The car is navigating the tight, high-speed turn at the Red Bull Ring in Austria, known as Turn 9. This corner is a key overtaking opportunity, and the shot highlights Verstappen's precise steering and commitment to the apex, showcasing the driver's skill and the car's grip. The scene conveys the thrill and pressure of a high-stakes battle for position, a defining moment in the race for victory.\n",
            "Scene from 64.0s to 66.0s\n",
            "Camera View: road_ahead | Action Type: clear_road\n",
            "Scene Description: The scene is a close-up, onboard shot from the Red Bull RB18 driven by Sergio Perez, negotiating the sweeping right-hand corner at the end of the long back straight, known as Turn 1 at the Red Bull Ring in Austria. The camera captures the intense perspective from the cockpit, highlighting Perez's meticulous steering and the rapid deceleration of the car as it transitions into the corner, showcasing the demanding nature of this high-speed circuit. This moment symbolizes the intense focus and precision required by drivers in Formula 1, even in a seemingly routine corner.\n",
            "Scene from 66.0s to 68.0s\n",
            "Camera View: helmet_selfie | Action Type: clear_road\n",
            "Scene Description: The scene depicts a Red Bull Racing car, driven by Max Verstappen, navigating the challenging Turn 1 at the Hungaroring circuit in Budapest, Hungary. The onboard camera captures the car's perspective as it enters the high-speed corner, showcasing Verstappen's smooth and precise driving style. The scene highlights the driver's ability to maintain control and momentum in a demanding and technical section of the track, demonstrating his mastery of the car and the circuit.\n",
            "Scene from 68.0s to 70.0s\n",
            "Camera View: road_ahead | Action Type: clear_road\n",
            "Scene Description: The scene depicts a Red Bull car, presumably driven by Max Verstappen, navigating a fast, flowing section of the track. The car is seen from the cockpit perspective, with the driver's helmet and steering wheel visible. The car is in a straight line, possibly approaching a corner, the asphalt streaked with tire rubber from previous laps. The location is likely a high-speed section of the track, characterized by a smooth asphalt surface, low-lying greenery, and distant hills.  The significance of this moment is the driver's focus and control as he navigates a demanding section of the circuit, showcasing the precision and athleticism required in Formula 1.\n",
            "Scene from 70.0s to 72.0s\n",
            "Camera View: road_ahead | Action Type: clear_road\n",
            "Scene Description: The scene depicts a Red Bull driver navigating the Nürburgring's fast and flowing section, the Fuchsröhre. The car, adorned with the iconic Red Bull livery, races through a slight right-hand bend, its rear wing flexing under the strain of high-speed cornering. The driver's focus is evident as they maintain a precise racing line, seeking to maximize speed and precision. The backdrop of lush green hills and the distant sounds of the crowd add to the thrilling atmosphere of the race. This moment showcases the raw speed and agility of Formula 1 machinery as it tackles one of the most iconic and challenging corners in motorsports.\n",
            "Scene from 72.0s to 74.0s\n",
            "Camera View: road_ahead | Action Type: clear_road\n",
            "Scene Description: The scene depicts a Red Bull car, likely driven by Max Verstappen, navigating the iconic Hockenheimring circuit in Germany. The car is approaching the infamous \"Motodrom,\" the high-speed banked corner, a crucial overtaking spot. The camera perspective is from the driver's seat, highlighting the immense speed and g-forces experienced as the car carves through the corner.  The focus is on the driver's exceptional skill in maintaining control at such high speeds, a hallmark of Verstappen's driving style. The scene captures the adrenaline-pumping action of Formula 1, where every corner offers a potential opportunity for a daring maneuver.\n",
            "Scene from 74.0s to 76.0s\n",
            "Camera View: road_ahead | Action Type: clear_road\n",
            "Scene Description: The scene captures a Red Bull driver navigating the challenging, fast-flowing turns of the Hockenheimring circuit. The car, featuring the distinctive Red Bull livery, is pushing its limits, its front wing creating a visible downforce as it carves through the apex of the corner. The driver is exhibiting impressive control and precision, a testament to his skill and the car's handling capabilities. The scene underscores the raw power and technical finesse of Formula 1 racing, showcasing the drivers' commitment to achieving optimal performance.\n",
            "Scene from 76.0s to 78.0s\n",
            "Camera View: road_ahead | Action Type: clear_road\n",
            "Scene Description: The scene depicts a Red Bull car, driven by Daniel Ricciardo, navigating the treacherous Hockenheimring, specifically the fast and flowing section known as the \"Sachskurve.\" The car is seen from the driver's perspective, showcasing Ricciardo's aggressive approach as he pushes the limits of the car through a high-speed corner. The shot highlights the driver's focus and control, demonstrating the immense skill required to master the intricacies of Formula 1. The scene captures the essence of high-speed racing, where every action is calculated and the margin for error is minimal.\n",
            "Scene from 78.0s to 80.0s\n",
            "Camera View: road_ahead | Action Type: chasing\n",
            "Scene Description: The scene depicts a thrilling overtaking maneuver at the Nürburgring's famed \"Flugplatz\" section. A Red Bull driver, likely Max Verstappen or Sergio Perez, aggressively pushes past a Williams car, utilizing the superior power of the Red Bull to slingshot out of the corner. The Williams driver, possibly George Russell or Nicholas Latifi, is seen struggling to maintain pace, highlighting the gap in performance between the two teams. The verdant forest backdrop and the iconic Nürburgring infrastructure create a visually stunning backdrop for this decisive move, which could potentially swing the outcome of the race.\n",
            "Scene from 80.0s to 82.0s\n",
            "Camera View: road_ahead | Action Type: chasing\n",
            "Scene Description: The scene captures a driver, presumably Sebastian Vettel in his Red Bull, approaching a sweeping left-hand corner at the Hockenheimring. The car's onboard camera reveals the driver's perspective, showcasing the green hills and the protective barrier lining the circuit. The action highlights the car's precise handling and Vettel's smooth approach into the corner, demonstrating the driver's mastery and the car's incredible grip. The scene encapsulates the elegance of Formula 1 driving, emphasizing the seamless integration of car and driver in a fast and challenging corner.\n",
            "Scene from 82.0s to 84.0s\n",
            "Camera View: road_ahead | Action Type: chasing\n",
            "Scene Description: The scene depicts a driver in a Red Bull car, likely during a practice session, approaching a right-hand corner on a circuit featuring a high-speed sweeping section before the corner, a characteristic feature of the Hockenheimring. The driver is looking ahead, focused on the apex of the corner while another car is visible in the distance, presumably a rival car. The moment highlights the precision and speed of Formula 1, with the driver's focus and the track's design creating a visually striking scene for motorsport enthusiasts.\n",
            "Scene from 84.0s to 86.0s\n",
            "Camera View: helmet_selfie | Action Type: chasing\n",
            "Scene Description: The scene is a first-person perspective from the cockpit of a Red Bull Racing car, driven by Max Verstappen.  The car is approaching the iconic \"Hockenheimring\" track in Germany, with the distinctive green hills and rolling landscape in the background.  Verstappen's helmet, emblazoned with the \"Race Without Trace\" logo, highlights the driver's focus on sustainability.  The significance of the moment lies in the anticipation of a thrilling race, as Verstappen, a fierce competitor, prepares to conquer the challenging Hockenheim circuit.\n",
            "Scene from 86.0s to 88.0s\n",
            "Camera View: helmet_selfie | Action Type: chasing\n",
            "Scene Description: This is a cockpit view from Sebastian Vettel's Aston Martin, showcasing a tense overtake on the challenging Spa-Francorchamps circuit.  The German driver, sporting his signature \"Race Without Trace\" helmet, is pushing hard, attempting to gain an advantage on a rival car, likely a Red Bull,  as they navigate the fast and flowing section of the track. The close proximity and intense focus of the driver underscore the high-stakes nature of the competition.\n",
            "Scene from 88.0s to 90.0s\n",
            "Camera View: road_ahead | Action Type: clear_road\n",
            "Scene Description: The scene unfolds from the cockpit perspective of a Red Bull car, likely driven by Max Verstappen, navigating the iconic Hockenheimring circuit in Germany. The car is exiting the fast, flowing turn 11, known as the \"Motodrom,\" and accelerating towards the long straight. The key action is the driver's focus on maintaining precise control and speed while battling the aerodynamic forces of the high-speed corner, showcasing the intense physical and technical demands of Formula 1 driving. The backdrop of lush green forests and the concrete barriers add to the scenic beauty and inherent dangers of the iconic track.\n",
            "Scene from 90.0s to 92.0s\n",
            "Camera View: road_ahead | Action Type: clear_road\n",
            "Scene Description: The scene depicts a Red Bull driver navigating the challenging Eau Rouge and Raidillon corners at the Circuit de Spa-Francorchamps. The car, adorned in the iconic blue and red livery, is seen from the driver's perspective. The driver is pushing the limits of adhesion, tires screeching as they grip the asphalt. The background showcases the lush greenery bordering the track, with the distinctive elevation changes of the iconic Belgian circuit. This moment highlights the sheer speed and technical prowess required to master this challenging corner complex. The driver is demonstrating his skill and control as he navigates this crucial section of the track, leaving a trail of tire smoke in his wake.  This scene is not only a testament to the driver's skill but also to the unrelenting demands of Formula 1.\n",
            "Scene from 92.0s to 94.0s\n",
            "Camera View: helmet_selfie | Action Type: chasing\n",
            "Scene Description: The scene captures the perspective of Sebastian Vettel, driving the Red Bull Racing car, as he navigates the challenging corners of the Nürburgring circuit. Vettel is in the lead, closely followed by a McLaren car. The action takes place during the closing stages of the race, where Vettel faces immense pressure from his rivals. This particular moment marks a pivotal turn in the race, highlighting Vettel's grit and determination to maintain his position and ultimately secure the victory. The shot captures the intensity of the competition, the pressure on Vettel, and the potential for a thrilling finish.\n",
            "Scene from 94.0s to 96.0s\n",
            "Camera View: helmet_selfie | Action Type: chasing\n",
            "Scene Description: This is a cockpit view from the Red Bull RB18, piloted by Max Verstappen, as he navigates the challenging uphill climb of Eau Rouge at the Circuit de Spa-Francorchamps. The iconic Belgian track, known for its high-speed corners and elevation changes, presents a thrilling challenge for the drivers. Verstappen is seen concentrating intensely as he steers his car through the treacherous bend, showcasing the incredible precision and control required in Formula 1. The \"Race Without Trace\" helmet inscription signifies the driver's determination and focus to leave his mark on the track. The scene captures the essence of F1's relentless pursuit of speed and precision, emphasizing the driver's unwavering commitment to deliver a dominant performance.\n",
            "Scene from 96.0s to 98.0s\n",
            "Camera View: road_ahead | Action Type: clear_road\n",
            "Scene Description: This is a first-person perspective shot from a Red Bull car, likely driven by Max Verstappen, navigating the challenging \"Schwabacher Kurve\" at the Nürburgring.  The driver is pushing hard, the car leans into the turn, and the forested backdrop emphasizes the speed and the tight confines of the corner. This scene captures the essence of a driver's focus and control while pushing the limits of their car on a renowned, unforgiving circuit.\n",
            "Scene from 98.0s to 100.0s\n",
            "Camera View: road_ahead | Action Type: clear_road\n",
            "Scene Description: The scene captures a thrilling moment from the 2023 Austrian Grand Prix, as Max Verstappen, piloting his Red Bull RB19, navigates the treacherous Turn 4 at the Red Bull Ring. The onboard camera captures the intense focus on Verstappen's face, his hands deftly managing the car's controls. The track, lined by lush green foliage, dips sharply, emphasizing the technical challenge of this corner. This specific moment holds significant weight as Verstappen battles his teammate Sergio Perez for the lead, demonstrating Red Bull's dominance in this race. The scene encapsulates the raw intensity of Formula 1, where every turn and every driver decision can change the race's course.\n",
            "Scene from 100.0s to 102.0s\n",
            "Camera View: road_ahead | Action Type: clear_road\n",
            "Scene Description: The scene depicts a Red Bull car, likely driven by Max Verstappen, exiting the high-speed left-hand corner at the end of the long straight at Hockenheimring.  The car is in the middle of the track, accelerating aggressively, with the green hillsides of the German circuit framing the shot.  The focus on the rear wheels and the car's motion suggests a thrilling overtake or a daring defensive maneuver against a rival, with the driver's helmet momentarily visible in the cockpit.\n",
            "Scene from 102.0s to 104.0s\n",
            "Camera View: road_ahead | Action Type: clear_road\n",
            "Scene Description: This is a first-person perspective shot from the cockpit of a Red Bull Formula 1 car. The driver is navigating the fast and flowing section of the track known as the \"Motodrom\" at the Red Bull Ring in Austria. The car is traveling at high speed, the trees blurring into a green tunnel, showcasing the driver's immense focus and precision as they tackle the challenging corner. The scene highlights the driver's exceptional control and the car's performance on the track.\n",
            "Scene from 104.0s to 106.0s\n",
            "Camera View: road_ahead | Action Type: clear_road\n",
            "Scene Description: The scene is a first-person perspective from the cockpit of a Red Bull car, likely driven by Daniel Ricciardo, as he navigates the treacherous Hockenheimring circuit during a qualifying session.  The car is approaching the iconic \"Schwetzinger\" bend, a high-speed left-hand turn that often tests the driver's bravery and car's handling capabilities.  The driver is pushing the limits, the car slightly sliding on the apex, showcasing the incredible skill and confidence needed to tackle this demanding corner at top speed. This exhilarating moment captures the essence of qualifying, where drivers fight for the pole position, putting their skills and cars under extreme pressure to achieve the best lap time.\n",
            "Scene from 106.0s to 108.0s\n",
            "Camera View: road_ahead | Action Type: clear_road\n",
            "Scene Description: The scene captures Max Verstappen in his Red Bull, navigating the challenging uphill esses of the Hockenheimring. He's pushing hard, the car slightly leaning towards the apex, a testament to the driver's skill and the car's exceptional grip. The background showcases the lush green German countryside, a stark contrast to the intensity of the racing action unfolding on the track. This moment encapsulates the exhilarating combination of technical precision and raw power that defines Formula 1.\n",
            "Scene from 108.0s to 110.0s\n",
            "Camera View: road_ahead | Action Type: clear_road\n",
            "Scene Description: This is a classic overtaking maneuver at the iconic Hockenheimring, Germany.  Max Verstappen, in his Red Bull, is in pursuit of Lewis Hamilton's Mercedes, who is ahead on the track. The scene unfolds at the end of the long, sweeping left-hand curve of the \"Sachskurve,\" just as Verstappen is about to make his move on the inside line, attempting a daring pass on the outside of the apex. This crucial moment captures the intensity of their ongoing rivalry, as Verstappen fights to close the gap and challenge Hamilton's lead.\n",
            "Scene from 110.0s to 112.0s\n",
            "Camera View: helmet_selfie | Action Type: chasing\n",
            "Scene Description: The scene depicts a Red Bull driver, likely Max Verstappen, in the cockpit of his RB18, as he navigates the high-speed esses of the Hockenheimring, a historic circuit known for its flowing layout. The camera, mounted on the car, offers a first-person perspective, capturing the driver's intense focus and the blur of the surrounding landscape. The scene emphasizes the exhilarating experience of driving an F1 car at its limit. The driver's helmet inscription \"Race Without Trace\" alludes to the relentless pursuit of victory and leaving no room for error.\n",
            "Scene from 112.0s to 114.0s\n",
            "Camera View: helmet_selfie | Action Type: chasing\n",
            "Scene Description: The scene captures a tense moment in the cockpit of a Red Bull Formula 1 car, likely during a race. The driver, obscured by their helmet bearing the inscription \"There is still a race\",  navigates the track, possibly at the Hockenheimring, through a series of corners. The angle emphasizes the driver's perspective, highlighting the intensity of the race as their car battles for position against a competitor whose rear wing is visible.  The scene showcases the crucial moments of a Formula 1 race, where every corner presents an opportunity for overtaking or defending position.\n",
            "Scene from 114.0s to 116.0s\n",
            "Camera View: helmet_selfie | Action Type: clear_road\n",
            "Scene Description: The scene is a first-person cockpit view from Max Verstappen's Red Bull Racing car during a lap at the Nürburgring. Verstappen is leading the race, having overtaken Lewis Hamilton's Mercedes earlier on the lap. He is seen raising his right hand in a celebratory gesture as he navigates the challenging corners of the track. The significance of the moment lies in the fact that Verstappen is dominating the race and is in a strong position to secure victory. The image captures the thrill and excitement of a Formula 1 race as Verstappen drives with precision and determination.\n",
            "Scene from 116.0s to 118.0s\n",
            "Camera View: road_ahead | Action Type: clear_road\n",
            "Scene Description: The scene captures a Red Bull car, likely driven by Max Verstappen, exiting the challenging Turn 10 at the Hockenheimring. The car is accelerating up the hill, the driver maintaining a steady line, the car's purple and yellow livery catching the sunlight. The significance lies in Verstappen's ability to maintain momentum through this crucial corner, crucial for maintaining a strong lead. The backdrop of lush greenery and the distant sound of cheering spectators add to the atmosphere of high-octane racing.\n",
            "Scene from 118.0s to 120.0s\n",
            "Camera View: road_ahead | Action Type: chasing\n",
            "Scene Description: The scene captures a Red Bull car, likely driven by Max Verstappen, navigating the challenging uphill section of the iconic Nürburgring circuit. The car is seen driving slowly, seemingly under caution due to the presence of a safety car in the distance. The distinctive yellow and blue livery of the Red Bull is prominent, and the car's rear wing is slightly angled downwards, indicating a low-speed maneuver. This scene reflects a tense moment, as the race is temporarily paused, and the drivers await the signal to resume their battle for the lead.\n",
            "Scene from 120.0s to 122.0s\n",
            "Camera View: road_ahead | Action Type: chasing\n",
            "Scene Description: This is a close-up, onboard shot from the cockpit of a Red Bull car, likely driven by Max Verstappen, as he navigates the tight, wooded section of the Circuit Gilles Villeneuve in Montreal, Canada. The car is in the lead, closely pursued by a black car with a white logo, likely a Mercedes driven by Lewis Hamilton. This dramatic overtake attempt at the hairpin turn is the defining moment of the scene, capturing the raw intensity of a Formula 1 battle.\n",
            "Scene from 122.0s to 124.0s\n",
            "Camera View: road_ahead | Action Type: chasing\n",
            "Scene Description: The scene captures a tense overtaking maneuver at the Nürburgring, a high-speed, challenging circuit in Germany. Max Verstappen in the Red Bull is hot on the tail of Lewis Hamilton in the Mercedes, approaching the daunting Turn 1. The tight, left-hand bend, known for its high-speed entry and potential for slip-ups, is where Verstappen makes his move. As Hamilton slightly overshoots the apex, Verstappen capitalizes, slipping his car through the inside line, leaving Hamilton to fight for the lead in the next sector. This is a pivotal moment in the race, showcasing Verstappen's aggressive driving style and highlighting the intense rivalry between the two championship contenders.\n",
            "Scene from 124.0s to 126.0s\n",
            "Camera View: road_ahead | Action Type: chasing\n",
            "Scene Description: The scene depicts a tense moment during the race. The driver in the lead, Max Verstappen in his Red Bull, is battling for position against a rival car, likely a Ferrari, as they approach a challenging corner on the Nürburgring. The Red Bull is pushing hard, with its front wheels just inside the white line, demonstrating the driver's aggressive pursuit of victory.  The dust kicked up by the preceding car hints at the intensity of the close battle, as the drivers push their cars to the limit in this iconic German circuit.\n",
            "Scene from 126.0s to 128.0s\n",
            "Camera View: road_ahead | Action Type: chasing\n",
            "Scene Description: The scene depicts a Formula 1 car, a Red Bull, approaching a corner on a track. The driver, likely Max Verstappen, is in the cockpit, the view showcasing the front left wheel, part of the car's nose, and the top of the cockpit. The car is approaching a left corner, with a green grassy bank on the left and a barrier on the right. The driver is focused on the corner ahead. Another car, likely a rival, is visible ahead, suggesting a close battle for position. The scene signifies the intense focus and precision required in cornering, highlighting the high-stakes nature of Formula 1 racing.\n",
            "Scene from 128.0s to 130.0s\n",
            "Camera View: road_ahead | Action Type: clear_road\n",
            "Scene Description: The scene depicts a driver, likely in a Formula 1 car, exiting a left-hand corner at the Hockenheimring, a circuit known for its flowing corners and high-speed straights. The driver is leading the pack, showcasing their car's superior acceleration and cornering capabilities. The moment captures the thrilling essence of a lead driver pushing their limits, while the green foliage in the background adds a touch of natural beauty to the scene. This is a testament to the driver's ability to maintain their position in the race, creating a moment of anticipation for the upcoming challenges of the race.\n",
            "Scene from 130.0s to 132.0s\n",
            "Camera View: road_ahead | Action Type: chasing\n",
            "Scene Description: The scene captures a thrilling moment during a Formula 1 race, as Max Verstappen, piloting the Red Bull RB18, navigates the iconic Hockenheimring circuit. The camera follows Verstappen's car as it approaches the challenging hairpin turn, aptly named \"The Hairpin.\" He is closely followed by Lewis Hamilton in the Mercedes W13, who is clearly desperate to close the gap and reclaim the lead.  Verstappen skillfully maneuvers through the tight turn, utilizing his car's superior power and handling to maintain his position, leaving Hamilton struggling to find a way through.  This strategic maneuver, executed with precision and grace, underscores Verstappen's dominance and reaffirms his commitment to victory.\n",
            "Scene from 132.0s to 134.0s\n",
            "Camera View: road_ahead | Action Type: clear_road\n",
            "Scene Description: The scene captures a Red Bull driver, presumably Max Verstappen, navigating a high-speed corner on a circuit resembling the Hockenheimring.  The onboard camera provides a driver's perspective, showing the driver's helmet and steering wheel, showcasing the intensity of the race. This could be a qualifying lap or a critical moment in the race, as Verstappen seeks to maintain his position and pressure his rivals. The blurred background suggests a high speed turn, highlighting the agility and precision required to navigate the demanding track. The scene underscores the thrill of Formula 1, where drivers push the limits of both car and human capabilities.\n",
            "Scene from 134.0s to 136.0s\n",
            "Camera View: road_ahead | Action Type: chasing\n",
            "Scene Description: The scene depicts a Formula 1 car, adorned with the unmistakable Red Bull livery, navigating the challenging corners of the Nürburgring. The driver, Max Verstappen, is battling for the lead in a tense race. The car's onboard camera captures the intense concentration of the driver as he pushes the car to its limits. This moment is particularly significant as it reveals the immense pressure and skill required to succeed in Formula 1. Verstappen is in the midst of a heated duel with Lewis Hamilton, and this scene encapsulates the high-stakes nature of their rivalry. The Nürburgring's notorious corners, known for their demanding curves and unforgiving terrain, provide the perfect backdrop for this thrilling battle. The scene is a testament to the raw power and precision of the sport, highlighting the sheer skill and determination of the drivers as they strive for victory.\n",
            "Scene from 136.0s to 138.0s\n",
            "Camera View: road_ahead | Action Type: chasing\n",
            "Scene Description: The scene is a first-person perspective from the cockpit of a Red Bull car, likely driven by Daniel Ricciardo, navigating the Hockenheimring's fast and flowing \"Motodrom\" section.  The car is comfortably ahead of the pack, with only a few distant competitors visible in the rearview mirror. Ricciardo's focus is on maximizing the car's speed through the high-speed corners, showcasing his precision and confidence. The moment captures the exhilaration of leading the race at a legendary track, where every lap is a high-stakes battle against the clock and other drivers.\n",
            "Scene from 138.0s to 140.0s\n",
            "Camera View: road_ahead | Action Type: clear_road\n",
            "Scene Description: The scene depicts a **qualifying session** at the **Hockenheimring**, where **Max Verstappen** in the **Red Bull** car is **pushing hard**, attempting to set a **fast lap time**. The **onboard camera** captures Verstappen's **intense focus** as he navigates the challenging **turn** leading into the **Motodrom**, showcasing the **driver's skill and the car's capabilities**. The **blurry background** and the **high-speed** perspective convey the **dynamic and exciting nature** of Formula 1.\n",
            "Scene from 140.0s to 142.0s\n",
            "Camera View: road_ahead | Action Type: clear_road\n",
            "Scene Description: This scene captures the exhilarating perspective of a driver, likely Max Verstappen, piloting the Red Bull RB16 through the fast and flowing Turn 11 at the Hockenheimring.  Verstappen's car is visibly leaning as he navigates the apex, a testament to the incredible cornering speeds these machines achieve. The view from the driver's seat showcases the immense precision and commitment required to master this iconic circuit. The scene is reminiscent of a pivotal moment in the 2020 German Grand Prix, where Verstappen's mastery of the Hockenheimring enabled him to secure a hard-fought victory.\n",
            "Scene from 142.0s to 144.0s\n",
            "Camera View: helmet_selfie | Action Type: chasing\n",
            "Scene Description: This scene captures the intense, chaotic aftermath of a multi-car collision at the Hockenheimring, Germany.  The driver, sporting a helmet emblazoned with the words \"Race Without Trace,\" sits trapped in his mangled Red Bull Racing car. The damage is extensive, the front wing crumpled, and the cockpit filled with debris. The scene speaks to the high stakes and potential dangers of Formula 1, as the driver's focus shifts from winning to surviving.\n",
            "Scene from 144.0s to 146.0s\n",
            "Camera View: helmet_selfie | Action Type: clear_road\n",
            "Scene Description: The scene captures a driver, likely Sebastian Vettel, in his Red Bull Racing car during a race. The car is stopped on the track, presumably due to a technical issue, as the driver is wearing his helmet and looking directly at the camera. The specific location is unclear, but the scene hints at the Hockenheimring, a German circuit, due to the driver's helmet featuring the German flag and the inscription \"There is still a race to win\". The image highlights the tension and determination of a driver facing a setback, emphasizing the unpredictable nature of Formula 1 racing.\n",
            "Scene from 146.0s to 148.0s\n",
            "Camera View: road_ahead | Action Type: chasing\n",
            "Scene Description: This is a first-person view from the cockpit of a Red Bull car, driven by Sebastian Vettel,  as he navigates the fast, flowing Esses section of Hockenheimring. The scene captures the intense concentration required to master this high-speed sequence, where a slight misjudgement could lead to a costly spin.  The car is slightly sideways, battling understeer as it exits the Esses, emphasizing the driver's precise control amidst the thrilling challenge of handling the powerful Formula 1 machine.\n",
            "Scene from 148.0s to 150.0s\n",
            "Camera View: road_ahead | Action Type: clear_road\n",
            "Scene Description: The scene captures the onboard perspective of a Red Bull driver, likely Daniel Ricciardo, navigating the challenging Hockenheimring circuit. The car is seen taking on a tight, fast right-hand corner, showcasing the driver's precision control and the car's exceptional handling capabilities. The corner, situated on the outskirts of the track, is a critical point for maintaining momentum and maximizing track position.  Ricciardo's aggressive yet controlled steering through this apex reveals his mastery of the circuit, setting the stage for a potential overtake or a strategic move within the race. The scene encapsulates the high-stakes nature of Formula 1, emphasizing the driver's skill and the car's performance at its peak.\n",
            "Scene from 150.0s to 152.0s\n",
            "Camera View: road_ahead | Action Type: chasing\n",
            "Scene Description: This is a close-up, onboard shot of a Red Bull car navigating a left-hand bend, likely at the Nürburgring. The driver, visibly focused, pushes the car through the corner, spray from the wet track kicking up behind them. While the precise driver cannot be identified, the scene suggests a thrilling battle for position as a competitor can be faintly seen ahead, battling their own cornering challenge. The moment captures the intensity and risk-taking inherent in wet-weather conditions, as the driver pushes the limits of adhesion on the slippery surface.\n",
            "Scene from 152.0s to 154.0s\n",
            "Camera View: helmet_selfie | Action Type: chasing\n",
            "Scene Description: This is a first-person perspective shot from the cockpit of a Red Bull Racing car. The driver, wearing a helmet emblazoned with the message \"Race Without Trace. There Is Still A Race To Win,\" is navigating the track in the midst of a chaotic race restart. The scene captures the driver's intense focus and determination as he maneuvers through the pack of cars, highlighting the inherent danger and thrill of Formula 1 racing. The specific location on the track is unknown, but the surrounding greenery suggests a fast, flowing circuit. The key action is the driver's unwavering focus and determination in the face of a challenging restart.\n",
            "Scene from 154.0s to 156.0s\n",
            "Camera View: helmet_selfie | Action Type: chasing\n",
            "Scene Description: The scene depicts a tense battle for position at the Hockenheimring during the German Grand Prix.  The driver, wearing a white helmet with the words \"There is still a race\" emblazoned on it, is battling for position on the left of the track, positioned slightly behind a rival car, which is partially visible. This particular corner is known for its high-speed nature, often leading to overtaking opportunities, and the driver's determination is evident in their focused expression and tight grip on the steering wheel. The scene encapsulates the essence of Formula 1's competitive spirit, as the driver fights fiercely for every inch of track.\n",
            "Scene from 156.0s to 158.0s\n",
            "Camera View: road_ahead | Action Type: clear_road\n",
            "Scene Description: This scene captures the visceral experience of a driver navigating a challenging wet section of the track. The driver, presumably in a Red Bull car, tackles a high-speed corner, likely the famed \"Eau Rouge\" at Spa-Francorchamps, under treacherous conditions. The blurred background signifies the car's speed as it pushes the limits of adhesion on the damp asphalt. The driver's intense focus and the car's dynamic movement convey the sheer thrill and danger inherent in such moments. This is a defining snapshot of the intensity and risk associated with Formula 1 racing in wet weather.\n",
            "Scene from 158.0s to 160.0s\n",
            "Camera View: road_ahead | Action Type: clear_road\n",
            "Scene Description: The scene is a close-up onboard shot of a Red Bull car navigating a high-speed corner at the Red Bull Ring in Austria. The driver, Max Verstappen, is pushing the car to its limits, showcasing incredible car control and precision as he maintains a tight line through the bend. The significance of this moment lies in Verstappen's dominance on his home track, demonstrating the car's strength and his driving prowess.  The scene portrays the thrill of Formula 1 at its finest, with a focus on technical mastery and speed.  The background features a vibrant green trackside landscape, a stark contrast to the aggressive lines of the Red Bull race car.\n",
            "Scene from 160.0s to 162.0s\n",
            "Camera View: road_ahead | Action Type: clear_road\n",
            "Scene Description: The scene depicts a Formula 1 car, a Red Bull, navigating a tight corner at the Nürburgring. The driver is pushing hard, his tires screaming as he battles for position.  The corner, known for its high-speed entry and challenging exit, is a test of both driver skill and car balance. This is a critical moment in the race, with the Red Bull driver looking to gain an advantage over his rivals.  The high-pressure environment of the Nürburgring puts the driver under immense pressure, demanding precision and focus to maintain control.  This scene captures the raw intensity of Formula 1 racing, showcasing the driver's commitment to pushing the limits of speed and performance.\n",
            "Scene from 162.0s to 164.0s\n",
            "Camera View: road_ahead | Action Type: chasing\n",
            "Scene Description: The scene captures the on-board perspective of a Red Bull driver, likely Max Verstappen, navigating the iconic Hockenheimring in Germany. The driver is positioned in the middle of the track, approaching a slight right-hand curve known as the 'Ostkurve', after the long straight, with a car ahead, possibly a Ferrari, in the distance. The driver is maintaining a high speed, showcasing the raw power and agility of the Red Bull car. This moment exemplifies the intensity and technical challenges drivers face during a Formula 1 race.\n",
            "Scene from 164.0s to 166.0s\n",
            "Camera View: road_ahead | Action Type: chasing\n",
            "Scene Description: The scene captures the perspective of a Red Bull driver, likely Daniel Ricciardo, navigating the iconic Hockenheimring's turn 1. He's pushing the limits, his car slightly off the racing line, creating a sense of tension and anticipation. This scene highlights the driver's skill in maintaining control and pushing the car to its boundaries, a crucial factor in securing a competitive position during the early stages of the race. The bright blue skies and the enthusiastic crowd cheering on the side emphasize the atmosphere of exhilaration and excitement that defines Formula 1.\n",
            "Scene from 166.0s to 168.0s\n",
            "Camera View: road_ahead | Action Type: chasing\n",
            "Scene Description: This is a first-person perspective shot from the cockpit of a Red Bull Formula 1 car. The driver, likely Max Verstappen, is approaching a left-hand corner, possibly the \"Eau Rouge\" at Spa-Francorchamps.  The car is slightly off-line, with the left rear tire on the run-off area, suggesting a potential loss of control or aggressive maneuver. The other car visible in the distance is a competitor, adding to the intensity of the moment. The key action here is the driver's aggressive line through the corner, showcasing their skills and pushing the car to its limits.\n",
            "Scene from 168.0s to 170.0s\n",
            "Camera View: helmet_selfie | Action Type: clear_road\n",
            "Scene Description: The scene captures a driver's perspective from within a Red Bull Racing car. The driver is positioned behind the wheel, looking directly ahead, with the iconic 'Red Bull Racing' branding visible on the side of the car. The shot is taken from the driver's perspective, with their helmet in the foreground and the track ahead, including a forest backdrop, visible in the background. The driver's helmet, adorned with a \"Race Without Track\" sticker, signifies a race-day scenario. The driver is presumably navigating a challenging corner, as evidenced by the slight tilt of the car and the trees bordering the track. The scene evokes the intense focus and determination inherent in Formula 1 racing.\n",
            "Scene from 170.0s to 172.0s\n",
            "Camera View: helmet_selfie | Action Type: clear_road\n",
            "Scene Description: This is a first-person perspective shot from the cockpit of a Red Bull Racing car, likely driven by Max Verstappen. The scene unfolds as the car approaches a corner, possibly the famed Eau Rouge at Spa-Francorchamps, with the driver's helmet displaying the message \"There is still a race to win\" amidst the vibrant German colors. The car is in a tight battle for position with a rival car, potentially a Ferrari, seen in the driver's peripheral vision. This moment encapsulates the raw intensity of a Formula 1 race, highlighting the driver's focus and determination under pressure.\n",
            "Scene from 172.0s to 174.0s\n",
            "Camera View: helmet_selfie | Action Type: chasing\n",
            "Scene Description: This is a first-person onboard view from the cockpit of a Red Bull Racing car, likely driven by Max Verstappen, during a race.  The driver is positioned on the track after a safety car period, with the car in front, likely a Mercedes, visible in the background. The scene captures the moment of the safety car's departure and the subsequent restart, showcasing the intense focus and determination of the driver as they prepare to battle for the lead.\n",
            "Scene from 174.0s to 176.0s\n",
            "Camera View: helmet_selfie | Action Type: chasing\n",
            "Scene Description: The scene captures a dramatic moment in Formula 1, showcasing the aftermath of a collision.  We see a Red Bull driver, helmet obscured by a white towel, likely in a state of shock or frustration, following a crash with a rival car, potentially a Mercedes, on the track. This incident, likely during a high-speed corner, suggests a tense battle for position and the consequences of aggressive maneuvering. The location seems to be a medium-speed corner with greenery surrounding the track, perhaps at the Hockenheimring,  a popular venue known for its challenging layout. This scene embodies the risk and drama inherent in Formula 1, where even the slightest error can lead to costly collisions and disrupt the race's dynamic.\n",
            "Scene from 176.0s to 178.0s\n",
            "Camera View: road_ahead | Action Type: chasing\n",
            "Scene Description: The scene depicts a driver, seemingly Sebastian Vettel in the Red Bull, navigating the treacherous 'Bergwerk' section of the Nürburgring Nordschleife.  The driver is seen pushing the car hard, its rear tires struggling for grip on the undulating tarmac.  This corner is notorious for its sudden elevation changes, challenging even the most seasoned driver, making it a critical point in the race.  Vettel's aggressive driving style and the tight corners in the Bergwerk section make this a tense moment as viewers anticipate a possible loss of control.\n",
            "Scene from 178.0s to 180.0s\n",
            "Camera View: road_ahead | Action Type: clear_road\n",
            "Scene Description: The scene is a driver's perspective, showcasing the exhilarating experience of racing on the iconic Nürburgring Nordschleife. The driver, piloting a car adorned with the iconic red bull livery, navigates the challenging \"Schwabacher Kurve\" section, one of the circuit's most demanding corners. The car is shown at high speed, the blurred background emphasizing the sheer speed and precision required to tackle this legendary track. The driver's helmet and the \"Walmart\" sponsorship on the car's side add details to the scene, painting a vivid picture of the action. This moment captures the essence of Formula 1 racing, where precision, speed, and courage converge in a thrilling display of motorsport.\n",
            "Scene from 180.0s to 182.0s\n",
            "Camera View: road_ahead | Action Type: clear_road\n",
            "Scene Description: This is a first-person onboard shot of a Formula 1 car, likely a Red Bull, navigating a sweeping right-hand corner. The car, sporting the distinctive \"Walmart\" sponsorship, is visibly pushing hard, the front tires being heavily loaded as it tackles the apex. The scene captures the driver's perspective, highlighting the intensity of the race as the car carves its way through the corner. The driver's helmet, barely visible, emphasizes the sense of speed and focus required for this demanding maneuver. The verdant trees lining the track create a picturesque backdrop, adding to the overall spectacle of this high-speed ballet.\n",
            "Scene from 182.0s to 184.0s\n",
            "Camera View: road_ahead | Action Type: clear_road\n",
            "Scene Description: The scene captures a Red Bull driver, likely Max Verstappen, navigating the challenging Hockenheimring circuit in Germany. The onboard camera perspective showcases the driver's precision and speed as the car slices through the sweeping corners, the lush greenery blurring into a vibrant streak. The car is seemingly in the lead, a testament to Red Bull's dominant performance, showcasing the team's dominance during that specific race. The image is a snapshot of raw power and finesse, capturing the essence of Formula 1 racing at its finest.\n",
            "Scene from 184.0s to 186.0s\n",
            "Camera View: road_ahead | Action Type: clear_road\n",
            "Scene Description: This is a shot from the onboard camera of a Formula 1 car, most likely a practice session, approaching the iconic Hockenheimring's \"Motodrom\" section. The car, driven by an unidentified driver,  is navigating the right-hand bend with speed and precision, showcasing the power and agility of the modern F1 machines. The background features lush greenery and distant spectators, adding to the grandeur of the iconic German circuit. The scene captures the essence of an F1 race, showcasing the driver's skill and the car's performance amidst the beautiful backdrop.\n",
            "Scene from 186.0s to 188.0s\n",
            "Camera View: road_ahead | Action Type: clear_road\n",
            "Scene Description: The scene captures a moment of anticipation as the Formula 1 cars approach the Hockenheimring's iconic Ostkurve, a high-speed right-hand corner. The track's distinctive tarmac and a safety barrier lined with a grassy verge are visible, with a glimpse of spectators in the distance. The drivers and teams involved are unknown, as the focus is on the imminent challenge posed by the corner's demanding nature. The scene signifies the thrilling crescendo of speed and precision as the cars prepare to navigate the treacherous bend, a testament to the drivers' expertise and the relentless pace of Formula 1.\n",
            "Scene from 188.0s to 190.0s\n",
            "Camera View: helmet_selfie | Action Type: chasing\n",
            "Scene Description: The scene captures the intense focus of a Red Bull driver during a race, likely at the German Grand Prix. The driver's helmet, emblazoned with \"Race Without Trace,\" reflects a determination to leave a mark on the track.  The car, bearing the iconic Red Bull Racing livery, is nestled behind another car, the rear wing a blur of motion. This close-up view, likely from an onboard camera, reveals the driver's unwavering concentration as they navigate a fast-paced turn. This moment highlights the high stakes and the adrenaline rush of Formula 1, where every maneuver can change the outcome.\n",
            "Scene from 190.0s to 192.0s\n",
            "Camera View: helmet_selfie | Action Type: chasing\n",
            "Scene Description: The scene is a driver's perspective shot from the cockpit of a Red Bull Racing Formula 1 car. The driver, wearing a helmet emblazoned with \"Race Without Trace\" and the German flag, is in the middle of the pack. The car is accelerating through a high-speed corner at a track that features a green, grassy runoff area. The key action is the driver's focus and determination as they navigate the corner, emphasizing the mental fortitude required for Formula 1 racing. This shot provides a unique insight into the driver's world, highlighting their tenacity and skill as they tackle the challenging track.\n",
            "Scene from 192.0s to 194.0s\n",
            "Camera View: helmet_selfie | Action Type: chasing\n",
            "Scene Description: The scene depicts a tense overtaking maneuver, likely during the latter stages of a race. Sebastian Vettel, driving the #5 Red Bull Racing car, is seen from the cockpit perspective as he prepares to pass the car in front, possibly a Ferrari, on a challenging corner. Vettel's focus is evident in his tight grip on the steering wheel, while the blur of the opponent's car is visible in the foreground. The tight corner and the close proximity of the cars emphasize the high stakes of the moment, highlighting the skill and precision required for a successful overtake. The significance of this moment is the opportunity for Vettel to gain a crucial position and potentially impact the race outcome. The backdrop of green grass and trees underscores the scenic beauty of the track, further adding to the visual appeal of this gripping moment.\n",
            "Scene from 194.0s to 196.0s\n",
            "Camera View: road_ahead | Action Type: clear_road\n",
            "Scene Description: The scene captures a driver, likely Max Verstappen in his Red Bull, exiting a medium-speed corner, possibly the Bergwerk on the Nürburgring. His car is angled slightly towards the apex, showcasing his precise control as he navigates the challenging track. The camera perspective, a driver's view, highlights the intense focus and physicality of F1 racing, conveying the driver's perspective and the immense pressure they face. The action emphasizes Verstappen's driving prowess, illustrating how he navigates the challenging circuit with precision and confidence. This scene exemplifies the high-speed thrills and precision required in Formula 1, showcasing the driver's mastery of the car and the track.\n",
            "Scene from 196.0s to 198.0s\n",
            "Camera View: road_ahead | Action Type: clear_road\n",
            "Scene Description: The scene depicts a Red Bull driver, presumably Sebastian Vettel, navigating the fast and flowing section of the Hockenheimring, a high-speed corner known as the \"Motodrom,\" while driving the RB8. The onboard camera captures the driver's perspective as he pushes the car to its limits, showcasing the immense speed and precision required to conquer this legendary circuit. The asphalt stretches before him, lined by dense foliage, as he gracefully carves through the corner, demonstrating both skill and confidence. This scene is significant as it exemplifies the thrilling spectacle of Formula 1, showcasing the power and agility of these racing machines in a visually stunning and technically challenging environment.\n",
            "Scene from 198.0s to 200.0s\n",
            "Camera View: road_ahead | Action Type: clear_road\n",
            "Scene Description: This is a scene from a Formula 1 race, showcasing the **intense spray generated by a car** as it **navigates a corner**. The driver, likely **Max Verstappen** in his **Red Bull**, is seen maneuvering through the **Hockenheimring** track in Germany, specifically the **Sachskurve corner**, the iconic left-hand bend. This moment captures the thrill and the **physicality of driving in wet conditions**, as the spray billows from the car's tires, obscuring the driver's vision and demonstrating the driver's skill in maintaining control amidst the challenging conditions.\n",
            "Scene from 200.0s to 202.0s\n",
            "Camera View: road_ahead | Action Type: clear_road\n",
            "Scene Description: This is a first-person view from the cockpit of a Red Bull Formula 1 car navigating the challenging \"Flugplatz\" section of the Hockenheimring. The driver is likely Daniel Ricciardo, a Red Bull driver, known for his aggressive driving style. This particular moment captures a quick, assertive maneuver through the sweeping right-hander, a corner that often demands precise throttle control and late braking. The driver is visibly pushing the car to its limits, leaving a trail of tire smoke behind as they exit the corner with impressive speed and precision. The scene showcases the raw power and skill involved in driving a Formula 1 car, providing a glimpse into the intense experience of a race driver.\n",
            "Scene from 202.0s to 204.0s\n",
            "Camera View: road_ahead | Action Type: clear_road\n",
            "Scene Description: The scene depicts a driver in a Red Bull car, likely Daniel Ricciardo, navigating the left-hand corner at the Nürburgring, nicknamed \"The Carousel.\" The car is in the middle of the track, utilizing the widest possible line to maintain speed through the long sweeping curve.  The driver is pushing hard, with the car slightly oversteered and tires squealing as he exits the corner.  This is a pivotal moment for Ricciardo as he seeks to maintain his lead in the race.\n",
            "Scene from 204.0s to 206.0s\n",
            "Camera View: road_ahead | Action Type: clear_road\n",
            "Scene Description: The scene captures a Red Bull driver navigating the challenging Hockenheimring track, a legendary circuit known for its high-speed corners and technical sections. The driver is shown approaching a right-hand bend, likely the iconic \"Sachskurve,\" demonstrating precise steering and control as the car leans into the corner with its tires gripping the tarmac. This moment showcases the driver's skill and the car's performance, emphasizing the driver's commitment to pushing the limits on the track. The scene evokes the thrilling tension of a Formula 1 race, leaving viewers on the edge of their seats.\n",
            "Scene from 206.0s to 208.0s\n",
            "Camera View: helmet_selfie | Action Type: chasing\n",
            "Scene Description: The scene is a close-up, cockpit view of a Red Bull Racing car, driven by Sebastian Vettel, navigating the high-speed Esses at the Circuit de Spa-Francorchamps. As Vettel pushes the car to its limit through the fast corners, he is shown battling for position against a rival car. The moment captures the driver's perspective, showcasing the intense focus and skill required to navigate this challenging section of the track. The scene is a testament to the raw power and precision of Formula 1 racing.\n",
            "Scene from 208.0s to 210.0s\n",
            "Camera View: helmet_selfie | Action Type: clear_road\n",
            "Scene Description: The scene is a first-person perspective from the cockpit of Max Verstappen's Red Bull car. The car is approaching the final corner of the Hockenheimring circuit during the German Grand Prix. Verstappen is leading the race and is pushing hard to secure the win. The significance of the moment lies in the driver's focus and determination as he navigates the iconic corner.\n",
            "Scene from 210.0s to 212.0s\n",
            "Camera View: helmet_selfie | Action Type: clear_road\n",
            "Scene Description: The scene depicts Sebastian Vettel, driving the Red Bull RB12, approaching a fast corner on the Hockenheimring. His helmet is visible from a first-person perspective, the \"Race without Trace\" message emblazoned on the visor, a reminder of his commitment to sustainability. The blue and red livery of the Red Bull, with the prominent Total sponsorship, reflects the team's color scheme. The corner, likely the \"Flugplatz Kurve\", is fast and sweeping, offering a challenge to the drivers' precision and car's handling. This moment captures the driver's perspective and emphasizes the dynamic nature of a Formula 1 race, where speed and agility are paramount.\n",
            "Scene from 212.0s to 214.0s\n",
            "Camera View: helmet_selfie | Action Type: clear_road\n",
            "Scene Description: The scene captures Sebastian Vettel in his Red Bull Racing car during a celebratory lap after securing victory. His car is shown leading a pack of cars on a section of the track that features green trees and a large blue sky with white clouds. Vettel can be seen giving a \"peace sign\" to the camera.  The car is adorned with the distinctive Red Bull livery, showcasing the sponsors \"Total\" and \"Boss Orange.\" This victory lap encapsulates the thrill of Formula 1, showcasing the driver's elation after a successful race.\n",
            "Scene from 214.0s to 216.0s\n",
            "Camera View: helmet_selfie | Action Type: chasing\n",
            "Scene Description: This is a cockpit view from the Red Bull of Max Verstappen, leading the race at the Hungaroring. The scene captures a tense moment as he navigates the fast, sweeping turn at the end of the long straight, closely followed by the Ferrari of Charles Leclerc. Verstappen's focus is unwavering as he maintains a slight advantage over Leclerc, showcasing his impressive racecraft.  The intense rivalry between these two drivers is palpable, setting the stage for a thrilling finish.\n",
            "Scene from 216.0s to 218.0s\n",
            "Camera View: helmet_selfie | Action Type: chasing\n",
            "Scene Description: The scene depicts a tense battle for position between two Red Bull Racing cars. The lead car, driven by Max Verstappen, is seen from the onboard perspective, with the rear of the car visible in the frame. The second Red Bull car, driven by Sergio Perez, is directly alongside Verstappen's car, with their wheels almost touching. They are approaching a tight corner, potentially setting up a thrilling overtaking maneuver. The location appears to be a high-speed section of the track, with a slight bend and trees bordering the circuit. This close encounter adds to the excitement and strategy of the race.\n",
            "Scene from 218.0s to 220.0s\n",
            "Camera View: helmet_selfie | Action Type: chasing\n",
            "Scene Description: The scene captures the intense focus of a driver, likely during a race, as he navigates a high-speed corner. The driver, sporting a helmet emblazoned with \"Race Without Trace\" and the bold inscription \"There is still a race to win,\"  is  seated within the cockpit of a Red Bull Racing car. The car's distinctive livery of blue and red, alongside the prominent \"Red Bull Racing.com\" branding,  leaves no doubt about his affiliation. \n",
            "\n",
            "The perspective is from within the cockpit, granting viewers an intimate glimpse of the driver's perspective. The tight bend, the verdant foliage bordering the track, and the blurred background of other cars hint at the immense speed and demanding nature of the circuit.  The driver's focused gaze, fixed ahead, speaks volumes about the concentration and skill required to master the complex dance of Formula 1. This moment encapsulates the raw energy and unwavering determination at the heart of the sport.\n",
            "Scene from 220.0s to 222.0s\n",
            "Camera View: helmet_selfie | Action Type: chasing\n",
            "Scene Description: The scene depicts a close-up perspective from the cockpit of a Red Bull Racing car, presumably driven by Max Verstappen, as he navigates a high-speed corner. The car is trailing another Red Bull, potentially Sergio Perez, with a tight gap separating them. The setting is a circuit featuring a sweeping left-hander, suggestive of a track like Spa-Francorchamps or Monza. This moment signifies a critical battle for track position within the team, showcasing their dominance and highlighting the intra-team competition.\n",
            "Scene from 222.0s to 224.0s\n",
            "Camera View: road_ahead | Action Type: chasing\n",
            "Scene Description: This is a shot from the Red Bull Ring in Austria, capturing the moment Sebastian Vettel, driving the Red Bull, emerges from a plume of tire smoke after overtaking Lewis Hamilton's Mercedes on the long, sweeping turn leading into the first corner.  This overtake, achieved with a daring move on the inside, is a pivotal moment in the race as it signifies the start of a competitive duel between the two drivers, setting the stage for an exciting battle for the lead.\n",
            "Scene from 224.0s to 226.0s\n",
            "Camera View: road_ahead | Action Type: clear_road\n",
            "Scene Description: The scene is a follow-car shot of a single Red Bull car, likely Max Verstappen, on the long, sweeping left-hand corner of the Hockenheimring, Germany. This is during a race, the car is comfortably leading the field, and the scene highlights the driver's dominance and precision while navigating a challenging corner.  The clear blue sky, with just a few fluffy clouds, and the lush greenery on the periphery of the track, create a picturesque backdrop for the scene.\n",
            "Scene from 226.0s to 228.0s\n",
            "Camera View: road_ahead | Action Type: chasing\n",
            "Scene Description: The scene depicts a tense overtaking maneuver on the long, sweeping Turn 1 at the Hungaroring circuit. The driver of the Red Bull, Max Verstappen, is in hot pursuit of the leading Ferrari, driven by Charles Leclerc. The Dutchman is closing in on the Monegasque, his car inches from Leclerc's rear wing. The moment is pivotal as Verstappen seeks to capitalize on a potential slip from Leclerc, aiming to wrest the lead and gain a crucial advantage in the race. The backdrop of the lush Hungarian countryside and the iconic Hungaroring billboards adds to the dramatic atmosphere of the scene.\n",
            "Scene from 228.0s to 230.0s\n",
            "Camera View: helmet_selfie | Action Type: chasing\n",
            "Scene Description: The scene captures the intense moment of a Formula 1 race, likely during a safety car period. The perspective is from inside the cockpit of a Red Bull Racing car, driven by Max Verstappen, as he follows a rival car. The location appears to be a high-speed section of the track, judging by the blur of the surrounding landscape. The significance lies in the dramatic tension, as Verstappen, with his helmet displaying the message \"There is still a race to win,\" remains focused and determined despite the temporary pause in the race.  The image conveys the driver's mindset and the anticipation of the race resuming, adding to the thrilling spectacle of Formula 1.\n",
            "Scene from 230.0s to 232.0s\n",
            "Camera View: road_ahead | Action Type: chasing\n",
            "Scene Description: The scene captures a Red Bull car, likely driven by Sebastian Vettel, as he navigates the fast, sweeping right-hand corner of the Hockenheimring. With a clear track ahead and a single car in the distance, Vettel has the opportunity to push the car to its limits and close the gap to the leader. The iconic \"Red Bull\" logo, along with the sponsor stickers, are prominent, highlighting the brand's dominance in the sport. The scene conveys the thrilling combination of speed and precision that defines Formula 1.\n",
            "Scene from 232.0s to 234.0s\n",
            "Camera View: road_ahead | Action Type: clear_road\n",
            "Scene Description: The scene depicts a first-person perspective of Sebastian Vettel in the Red Bull Racing car driving on the Nurburgring circuit. The camera is mounted on the helmet, capturing the intense focus of the driver as he navigates a fast, flowing section of the track. The clear blue sky and lush green trees surrounding the asphalt provide a visual contrast, highlighting the speed and precision of the car's movements.  This moment is significant as Vettel is known for his mastery of the Nurburgring, demonstrating his confidence and control through this challenging portion of the track.\n",
            "Scene from 234.0s to 236.0s\n",
            "Camera View: helmet_selfie | Action Type: clear_road\n",
            "Scene Description: The scene captures a driver, wearing a helmet emblazoned with \"Race Without Trace\" and \"There is Still a Race to Run,\" navigating through a tight corner on the track. The driver, seemingly undeterred by the challenging conditions, is in the cockpit of a Red Bull Racing car, highlighted by the visible \"Red Bull Racing.com\" branding on the car's side. The backdrop of verdant trees flanking the asphalt suggests a high-speed section of a classic circuit.  The moment portrays the driver's determination to overcome the obstacle and continue the race, encapsulating the relentless spirit of Formula 1.\n",
            "Scene from 236.0s to 238.0s\n",
            "Camera View: road_ahead | Action Type: clear_road\n",
            "Scene Description: The scene depicts a **driver's perspective** shot, likely from an onboard camera, showcasing the **intense battle** for position. The driver in the **Red Bull**, likely **Max Verstappen**, navigates the **Nürburgring's fast flowing corners**, showcasing the **grip and handling** of the car. \n",
            "\n",
            "The shot captures a **close battle** with a **Mercedes** car, likely **Lewis Hamilton**, as the **dust and debris** from a prior incident cloud the track. The **high speeds** and the **aggressive maneuvers** highlight the **raw intensity** of Formula 1 racing.\n",
            "Scene from 238.0s to 240.0s\n",
            "Camera View: road_ahead | Action Type: clear_road\n",
            "Scene Description: The scene captures a Red Bull driver, likely Sebastian Vettel, navigating a left-hand corner, likely the Hockenheimring's Turn 1. The car is at the apex of the corner, with dust kicking up from the rear tires as it accelerates out of the bend. The scene highlights the car's ability to handle the corner with precision and speed, showcasing the driver's skill and the car's performance. The location, turn 1, is crucial for establishing a good starting position in the race. The scene, therefore, represents a key moment in the race, where the driver is attempting to gain an advantage over their competitors.\n",
            "Scene from 240.0s to 242.0s\n",
            "Camera View: road_ahead | Action Type: clear_road\n",
            "Scene Description: The scene is a first-person perspective shot from the cockpit of a Red Bull car, likely driven by Sebastian Vettel, as he navigates the fast and flowing Hockenheimring circuit in Germany. The car is approaching a left-hand bend, kicking up a rooster tail of dust and gravel as it carries significant speed. This signifies the car's aggressive approach and the driver's confidence, perhaps during a qualifying lap. The driver's helmet, bearing the German colors, further underscores the scene's location and the significance of the moment.\n",
            "Scene from 242.0s to 244.0s\n",
            "Camera View: road_ahead | Action Type: clear_road\n",
            "Scene Description: The scene depicts a Formula 1 car, driven by Sebastian Vettel in a Red Bull, navigating a tight corner. The camera is mounted on the car, giving viewers a first-person perspective of the race.  The car is approaching a right-hand bend on a high-speed track, likely the Hockenheimring in Germany, as indicated by the surrounding greenery. Dust kicks up behind the car as it expertly maneuvers through the turn. The scene highlights the driver's skill in managing the car's speed and stability while maintaining a competitive pace.\n",
            "Scene from 244.0s to 246.0s\n",
            "Camera View: road_ahead | Action Type: clear_road\n",
            "Scene Description: The scene depicts a tense overtaking maneuver at the Hockenheimring, a popular German track known for its fast corners and long straights. The driver, Sebastian Vettel, in his Red Bull Racing car, is attempting to pass the leading Ferrari of Kimi Räikkönen on the approach to the infamous Ostkurve (East Curve). Vettel, known for his aggressive driving style, is pushing hard, his car kicking up dust as he tries to close the gap. The scene encapsulates the essence of Formula 1: the raw speed, precision, and strategic maneuvering required for victory.\n",
            "Scene from 246.0s to 248.0s\n",
            "Camera View: helmet_selfie | Action Type: chasing\n",
            "Scene Description: The scene is a first-person perspective from the cockpit of a Red Bull car, likely during a race at the Hockenheimring circuit in Germany. The driver, adorned with the German flag on his helmet, is navigating the track with the car's rear wing visible behind him. The focus is on the driver's helmet, which features a bold inscription: \"Race Without Trace - There Is Still A Race To Win.\" This inscription signifies the driver's unwavering determination to succeed amidst challenging circumstances. The image captures the spirit of competition and resilience in Formula 1, where even in the face of adversity, the race continues.\n",
            "Scene from 248.0s to 250.0s\n",
            "Camera View: helmet_selfie | Action Type: chasing\n",
            "Scene Description: This is a first-person perspective shot from the cockpit of a Red Bull Racing car, likely driven by Max Verstappen. The scene captures the driver's view as he's navigating the track, potentially during a race restart. The camera focuses on Verstappen's gloved hand gripping the steering wheel, while his helmet, emblazoned with the bold inscription \"Race Without Trace,\" prominently displays the phrase \"There is Still a Race to Win.\" This scene exemplifies the intensity and determination inherent in Formula 1, showcasing the driver's unwavering focus amidst the demanding environment.  The backdrop reveals the other cars on the track, emphasizing the competitive nature of the race. The composition of the shot effectively captures the driver's perspective and the surrounding environment, creating a thrilling snapshot of an F1 race moment.\n",
            "Scene from 250.0s to 252.0s\n",
            "Camera View: helmet_selfie | Action Type: chasing\n",
            "Scene Description: This is an in-car perspective from a Formula 1 race. The driver, wearing a helmet emblazoned with \"Race Without Trace: There is Still a Race,\" is in the cockpit of a blue and yellow car, likely a Red Bull.  The car is navigating a corner, the green grass of the trackside visible in the peripheral vision. The driver's gloved hand grips the steering wheel, the intense focus evident in the scene.  The key action is the driver's determination to continue the race despite the \"Race Without Trace\" message on the helmet, hinting at a potentially challenging or risky maneuver.  This scene offers a visceral glimpse into the intensity and commitment required to compete at the highest level of Formula 1.\n",
            "Scene from 252.0s to 254.0s\n",
            "Camera View: helmet_selfie | Action Type: chasing\n",
            "Scene Description: This is a first-person perspective shot of a Formula 1 driver, Max Verstappen, in his Red Bull car, as he races through the tight, high-speed corner of Eau Rouge at the Spa-Francorchamps circuit. The scene captures the intensity of the race as Verstappen battles for the lead, his helmet displaying the message \"Race without a race, there is still a race to win.\" The shot highlights the driver's determination to recover from a poor start and reclaim the lead amidst a chaotic race. The Belgian flag on the helmet adds to the sense of national pride and the race's importance.\n",
            "Scene from 254.0s to 256.0s\n",
            "Camera View: helmet_selfie | Action Type: clear_road\n",
            "Scene Description: The scene is a close-up, in-car perspective of a driver's helmet, likely during the formation lap of a Formula 1 race. The driver is wearing a white helmet with a black and yellow \"Race Without Trace\" inscription and a German flag. The driver's car, a Red Bull, is positioned on the track's right side, just before a series of turns. The significance of this moment lies in the driver's determined expression and the \"There is still a race to win\" inscription on the helmet, hinting at their unwavering focus and competitive spirit despite the early stage of the race.\n",
            "Scene from 256.0s to 258.0s\n",
            "Camera View: road_ahead | Action Type: clear_road\n",
            "Scene Description: The scene is a cockpit view from a Red Bull car, likely driven by Max Verstappen, as he exits the pit lane at the Circuit de Barcelona-Catalunya. The car is accelerating onto the track, potentially at the start of the race or after a pit stop. It is a moment of anticipation and excitement for the driver as they rejoin the race, ready to gain track position and challenge for the win.  The camera angle emphasizes the driver's perspective, showcasing the car's speed and the track layout ahead.\n",
            "Scene from 258.0s to 260.0s\n",
            "Camera View: road_ahead | Action Type: clear_road\n",
            "Scene Description: The scene depicts a Red Bull driver navigating the track, likely at the Hockenheimring, during a practice session. The driver, in the cockpit, is approaching a long, sweeping curve with a wall on the left. The car's front left tire is clearly visible as it tracks the apex of the bend. The driver's focus is evident as they maintain control and momentum. The significance of this moment lies in showcasing the driver's skills in handling the car's speed and trajectory through a demanding corner, highlighting the precision and finesse required in Formula 1.\n",
            "Scene from 260.0s to 262.0s\n",
            "Camera View: road_ahead | Action Type: clear_road\n",
            "Scene Description: The scene is a first-person perspective from the cockpit of a Red Bull Formula 1 car, likely driven by Max Verstappen. The car is approaching the final corner of a circuit, possibly the Circuit de Barcelona-Catalunya. The car is in the lead, with a significant gap to the second-placed car, seen in the background through the windscreen. The driver is accelerating out of the corner, demonstrating the car's impressive power and handling, showcasing the Red Bull's dominance in this race.\n",
            "Scene from 262.0s to 264.0s\n",
            "Camera View: helmet_selfie | Action Type: clear_road\n",
            "Scene Description: This scene captures the cockpit view of a Red Bull Racing driver, likely Max Verstappen, as he approaches the start/finish line of the Hockenheimring circuit. The driver's helmet features the slogan \"Race Without Trace\" and \"There is still a race to win\", highlighting the determination and competitive spirit of the driver.  This moment likely signifies a critical juncture in the race, with the driver pushing hard for victory. The backdrop of the grandstands and the surrounding track further adds to the tense atmosphere, emphasizing the thrill and high stakes of Formula 1 racing.\n",
            "Scene from 264.0s to 266.0s\n",
            "Camera View: road_ahead | Action Type: clear_road\n",
            "Scene Description: The scene captures a thrilling moment in the Malaysian Grand Prix, as Ferrari's Charles Leclerc, pushing his SF90 to its limits, enters Turn 15 at the Sepang International Circuit.  The iconic covered grandstands stand as a backdrop to the action. Leclerc, the reigning race leader, is engaged in a fierce battle with Lewis Hamilton in the Mercedes W10, the two drivers separated by mere inches as they navigate the challenging corner, showcasing the raw speed and precision of Formula 1 at its finest.  The high-stakes duel underscores the unpredictable nature of the race and highlights the crucial battle for the lead.\n",
            "Scene from 266.0s to 268.0s\n",
            "Camera View: road_ahead | Action Type: clear_road\n",
            "Scene Description: The scene depicts Sebastian Vettel in the Red Bull car, navigating a right-hand corner, likely the Turn 10 at the Circuit de Catalunya in Barcelona. The angle suggests an on-board perspective, capturing the driver's point of view. Vettel is pushing hard, utilizing the track's width to maximize his corner exit speed. The scene emphasizes the driver's skill and focus, as he gracefully maneuvers the car through the bend.\n",
            "Scene from 268.0s to 270.0s\n",
            "Camera View: road_ahead | Action Type: clear_road\n",
            "Scene Description: This is a first-person perspective shot, capturing the cockpit view of Sebastian Vettel, driving the Red Bull, as he navigates Turn 1 of the Circuit de Barcelona-Catalunya during the 2016 Spanish Grand Prix. The scene highlights the driver's focus and control as he powers through the corner, the track's edge blurring as his car leans into the turn. The significance lies in showcasing the driver's exceptional handling skills and the sheer speed and precision of Formula 1 racing.\n",
            "Scene from 270.0s to 272.0s\n",
            "Camera View: road_ahead | Action Type: clear_road\n",
            "Scene Description: This scene captures the moment Daniel Ricciardo, piloting the Red Bull RB12, exits the Turn 10 chicane at the Circuit de Barcelona-Catalunya during the 2016 Spanish Grand Prix. The camera angle, a driver's perspective, reveals the car's aggressive acceleration out of the corner, with the rear tires spinning slightly as Ricciardo pushes the car to its limit. This is a pivotal moment in the race as Ricciardo is attempting to close the gap to the leading Mercedes cars and reclaim the lead he lost earlier.  The track's characteristic long, sweeping corners and the vibrant blue of the Red Bull livery highlight the scene's dynamic tension.\n",
            "Scene from 272.0s to 274.0s\n",
            "Camera View: road_ahead | Action Type: clear_road\n",
            "Scene Description: The scene depicts a driver in a Red Bull car, likely Daniel Ricciardo, navigating the Circuit de Catalunya in Barcelona. From the on-board camera perspective, we see the driver approaching Turn 1, the famed left-hand bend known for its potential for overtaking. The car is shown accelerating out of the corner, with the blue and red livery prominently displayed. This moment is crucial as it showcases the driver's ability to generate speed and maintain control, crucial for gaining a competitive edge during the race.\n",
            "Scene from 274.0s to 276.0s\n",
            "Camera View: road_ahead | Action Type: clear_road\n",
            "Scene Description: The scene depicts a Red Bull driver, likely Daniel Ricciardo, navigating the pit lane exit at the Canadian Grand Prix. The iconic \"Formula 1 Montreal\" signage looms above the track, highlighting the race's location. The driver's perspective offers a visceral glimpse of the  pit exit's sharp angle and the surrounding green grass, as he accelerates out of the lane and back onto the race track. The action underscores the crucial moment where drivers must rejoin the circuit with speed and precision, showcasing the challenge of managing tire temperature and track positioning after a pitstop.\n",
            "Scene from 276.0s to 278.0s\n",
            "Camera View: road_ahead | Action Type: chasing\n",
            "Scene Description: The scene captures the intense moment of a Formula 1 driver, likely Sebastian Vettel in his Red Bull, navigating a challenging corner with a dramatic drift.  The camera's perspective is from the cockpit, providing a first-person view of the driver's skill and the car's movements. The rear tires are visibly losing grip as the driver powers through the bend, resulting in a flurry of tire smoke.  The blue, red, and yellow livery of the car is prominently displayed against the backdrop of the asphalt and greenery. The scene emphasizes the raw power and control exhibited during a high-speed cornering maneuver, a trademark of Formula 1 racing.\n",
            "Scene from 278.0s to 280.0s\n",
            "Camera View: road_ahead | Action Type: chasing\n",
            "Scene Description: The scene depicts a tense moment during a Formula 1 race.  The driver, sporting the blue and white livery of a car sponsored by Walmart, is navigating the track, likely on the exit of a corner. The driver is in close pursuit of a Red Bull car, recognizable by its distinctive livery, in front. The action takes place on a fast section of the track, with the driver attempting to close the gap on the Red Bull. The significance of this moment lies in the intense battle for position, highlighting the driver's skill and determination in overtaking the Red Bull.  The scene is captured from the driver's perspective, offering a unique viewpoint of the race.  This close-up perspective gives the viewer a visceral feel for the speed and pressure of the race.\n",
            "Scene from 280.0s to 282.0s\n",
            "Camera View: road_ahead | Action Type: clear_road\n",
            "Scene Description: The scene depicts a Formula 1 car, likely a Red Bull, in a close-up perspective as it navigates a sweeping right-hand corner. The driver, unseen, is focused on the upcoming apex, likely battling for position with a rival.  The \"Walmart\" sponsorship on the car's rear wing suggests a potential IndyCar scene rather than Formula 1. The gritty asphalt and the slightly overcast sky add to the tense atmosphere of the overtaking maneuver. The focus on the driver's perspective provides a thrilling and immersive experience for the viewer.\n",
            "Scene from 282.0s to 284.0s\n",
            "Camera View: road_ahead | Action Type: chasing\n",
            "Scene Description: This is a thrilling overtake scene from an F1 race. The driver in the lead, Max Verstappen, piloting his Red Bull, is exiting a corner at Istanbul Park. He faces fierce competition from the second-placed driver, Lewis Hamilton, in his Mercedes, who is seen attempting a daring overtaking maneuver. The scene captures the intense pressure and maneuvering tactics employed by both drivers, creating a nail-biting moment as the race unfolds.\n",
            "Scene from 284.0s to 286.0s\n",
            "Camera View: road_ahead | Action Type: chasing\n",
            "Scene Description: The scene depicts a dramatic moment during a Formula 1 race. Max Verstappen, piloting the Red Bull RB18, is shown driving through a thick cloud of smoke and debris. The location appears to be the start-finish straight of the Circuit de Monaco, the iconic street circuit known for its tight corners and high-speed sections. The smoke likely originates from a preceding incident, potentially a collision or a spin, highlighting the unpredictable nature of the race and the danger lurking around every corner. Verstappen's determined focus amidst the chaotic cloud of smoke suggests his grit and determination to overcome the obstacle and secure victory. The moment underscores the relentless pursuit of success and the high-stakes nature of Formula 1 racing.\n",
            "Scene from 286.0s to 288.0s\n",
            "Camera View: helmet_selfie | Action Type: clear_road\n",
            "Scene Description: The scene is a tense moment during a Formula 1 race, captured from the driver's perspective. Sebastian Vettel, piloting the Red Bull, navigates through a thick plume of smoke obscuring the track ahead, likely the result of a preceding incident. His focus and determination are palpable as he pushes through the hazardous conditions, highlighting the raw danger and unpredictable nature of the sport. The location appears to be a high-speed corner, adding to the drama and emphasizing the driver's courage and skill. The scene captures the essence of Formula 1 - pushing limits, overcoming challenges, and battling for victory amidst uncertainty.\n",
            "Scene from 288.0s to 290.0s\n",
            "Camera View: helmet_selfie | Action Type: clear_road\n",
            "Scene Description: The scene is a dramatic, almost surreal, depiction of the Red Bull driver navigating through a thick fog bank engulfing the track.  The location is a fast, flowing corner, likely approaching the end of a long straight, where visibility is reduced to mere meters.  The driver, his face obscured by the helmet visor, grips the steering wheel, his eyes straining to make out the track ahead through the dense fog. This scene underscores the high stakes and treacherous conditions drivers face in Formula 1, where even seemingly minor incidents can have significant ramifications.  The significance lies in the driver's calm demeanor and focus despite the perilous situation, demonstrating the composure and precision required at the pinnacle of motorsport.\n",
            "Scene from 290.0s to 292.0s\n",
            "Camera View: helmet_selfie | Action Type: clear_road\n",
            "Scene Description: The scene is a close-up from the cockpit of a Red Bull car, likely driven by Max Verstappen, during a race under extremely foggy conditions. The location appears to be a tight corner, potentially the famous Eau Rouge at Spa-Francorchamps.  The key action is the sheer visibility challenge the driver faces, navigating blind through a thick fog bank, highlighting the immense skill and bravery required in Formula 1.\n",
            "Scene from 292.0s to 294.0s\n",
            "Camera View: helmet_selfie | Action Type: chasing\n",
            "Scene Description: The scene depicts a dramatic moment at the start of the 2011 Canadian Grand Prix.  Sebastian Vettel, driving for Red Bull, is battling through a thick fog of smoke billowing from the rear of a rival car. The car in front, sporting a distinctive red and blue livery, is likely the Ferrari of Fernando Alonso. The action takes place on the start-finish straight, just as the race begins. This is a thrilling scene as Vettel navigates a chaotic situation, attempting to maintain his position in the lead and demonstrating the bravery and skill required to navigate such treacherous conditions.\n",
            "Scene from 294.0s to 295.6s\n",
            "Camera View: road_ahead | Action Type: clear_road\n",
            "Scene Description: The scene captures the exhilarating moment as Sebastian Vettel, driving the Red Bull Racing car, navigates the challenging Nürburgring circuit, a renowned Formula 1 venue. This onboard shot showcases the driver's perspective, the car speeding towards the finish line.  The iconic 'Formula Nürburgring' banner looms above, highlighting the significance of the race.  Vettel's focus is evident as he battles for a podium finish, pushing the car to its limits amidst the roar of the engine.  This scene encapsulates the essence of Formula 1, where speed, precision, and relentless determination intertwine.\n",
            "Total Scenes Indexed: 148\n"
          ]
        }
      ],
      "source": [
        "from videodb.scene import Scene\n",
        "\n",
        "# List to store described scenes\n",
        "described_scenes = []\n",
        "\n",
        "for scene in scenes:\n",
        "    print(f\"Scene from {scene.start}s to {scene.end}s\")\n",
        "\n",
        "    # Generate metadata\n",
        "    camera_view = scene.describe(\n",
        "        'Select ONLY one of these camera views (DO NOT describe it, JUST return the category name): [\"road_ahead\", \"helmet_selfie\"]. If the view does not match exactly, pick the closest one.'\n",
        "    )\n",
        "\n",
        "    action_type = scene.describe(\n",
        "        'Select ONLY one of these options based on the action being performed by the driver (DO NOT describe it, JUST return the category name): [\"clear_road\", \"chasing\"]. If the view does not match exactly, pick the closest one.'\n",
        "    )\n",
        "\n",
        "    scene_description = scene.describe(\n",
        "        \"Clearly describe a Formula 1 scene by specifying the scene type, the drivers and teams involved, the specific location on the track, and the key action or significance of the moment. Use concise, yet rich language, targeting Formula 1 enthusiasts seeking precise scene descriptions.\"\n",
        "    )\n",
        "\n",
        "    print(f\"Camera View: {camera_view} | Action Type: {action_type}\")\n",
        "    print(f\"Scene Description: {scene_description}\")\n",
        "\n",
        "    # Create Scene object with metadata\n",
        "    described_scene = Scene(\n",
        "        video_id=video.id,\n",
        "        start=scene.start,\n",
        "        end=scene.end,\n",
        "        description=scene_description,\n",
        "        metadata={\n",
        "            \"camera_view\": camera_view,\n",
        "            \"action_type\": action_type\n",
        "        }\n",
        "    )\n",
        "    described_scenes.append(described_scene)\n",
        "\n",
        "print(f\"Total Scenes Indexed: {len(described_scenes)}\")\n"
      ]
    },
    {
      "cell_type": "markdown",
      "metadata": {
        "id": "UQsPD3ThIF6D"
      },
      "source": [
        "## 🗂 Indexing Scenes with Metadata\n",
        "Now that we have **generated metadata** for each scene, we **index them** to make them **searchable**.\n",
        "\n",
        "### **🚀 Why This is Powerful**\n",
        "✔ **Scene-level metadata makes filtering more effective**.  \n",
        "✔ **Instead of searching the entire video, we only search relevant indexed segments.**  \n",
        "✔ **Future searches can now filter by camera view & driver action.**  \n"
      ]
    },
    {
      "cell_type": "code",
      "execution_count": null,
      "metadata": {
        "colab": {
          "base_uri": "https://localhost:8080/"
        },
        "id": "IDwn56ISINIU",
        "outputId": "373d3568-0186-410f-ef7e-cc5bbaeeb602"
      },
      "outputs": [
        {
          "name": "stdout",
          "output_type": "stream",
          "text": [
            "Scenes Indexed under ID: 5748b6e4c9b64156\n"
          ]
        }
      ],
      "source": [
        "if described_scenes:\n",
        "    scene_index_id = video.index_scenes(\n",
        "        scenes=described_scenes,\n",
        "        name=\"F1 Scenes\"\n",
        "    )\n",
        "    print(f\"Scenes Indexed under ID: {scene_index_id}\")"
      ]
    },
    {
      "cell_type": "markdown",
      "metadata": {
        "id": "K7ZPGGq3JoFb"
      },
      "source": [
        "## 🔎 Searching Scenes with Metadata & AI  \n",
        "Now that our scenes are indexed, we can **search using a combination of**:  \n",
        "✅ **Semantic Search** → AI understands the meaning of the query.  \n",
        "✅ **Metadata Filters** → Only return relevant scenes based on camera view & action type.  \n",
        "\n",
        "---\n",
        "\n",
        "#### 🔍 **Example 1: Finding Intense Chasing Moments**  \n",
        "Search for **scenes where a driver is chasing another car**, viewed from the **driver's perspective**.  \n"
      ]
    },
    {
      "cell_type": "code",
      "execution_count": null,
      "metadata": {
        "colab": {
          "base_uri": "https://localhost:8080/",
          "height": 422
        },
        "id": "lF4LwgyxJsu-",
        "outputId": "b234ce29-845d-4b8a-fce4-61b1e3dc9513"
      },
      "outputs": [
        {
          "data": {
            "text/html": [
              "\n",
              "        <iframe\n",
              "            width=\"800\"\n",
              "            height=\"400\"\n",
              "            src=\"https://console.videodb.io/player?url=https://stream.videodb.io/v3/published/manifests/70048f66-7da5-494f-a2cf-00b983539f5e.m3u8\"\n",
              "            frameborder=\"0\"\n",
              "            allowfullscreen\n",
              "            \n",
              "        ></iframe>\n",
              "        "
            ],
            "text/plain": [
              "<IPython.lib.display.IFrame at 0x793280c40910>"
            ]
          },
          "execution_count": 21,
          "metadata": {},
          "output_type": "execute_result"
        }
      ],
      "source": [
        "from videodb import IndexType\n",
        "from videodb import SearchType\n",
        "\n",
        "search_results = video.search(\n",
        "    query = \"A skillful chasing scene\",\n",
        "    filter = [{\"camera_view\": \"road_ahead\"}, {\"action_type\": \"chasing\"}],   # Using metadata filter\n",
        "    search_type = SearchType.semantic,\n",
        "    index_type = IndexType.scene,\n",
        "    result_threshold = 100,\n",
        "    scene_index_id = scene_index_id  # Our indexed scenes\n",
        ")\n",
        "# Play the search results\n",
        "search_results.play()"
      ]
    },
    {
      "cell_type": "markdown",
      "metadata": {
        "id": "097qWtFY4vN6"
      },
      "source": [
        "#### **🔍 Example 2: Finding Smooth Solo Driving Moments**  \n",
        "Search for **scenes with clean, precise turns**, where the driver has an **open road ahead**.  \n"
      ]
    },
    {
      "cell_type": "code",
      "execution_count": null,
      "metadata": {
        "colab": {
          "base_uri": "https://localhost:8080/",
          "height": 422
        },
        "id": "RZa41OZmzKKl",
        "outputId": "b6cd5642-bd9c-4ef2-94e1-1e275339853b"
      },
      "outputs": [
        {
          "data": {
            "text/html": [
              "\n",
              "        <iframe\n",
              "            width=\"800\"\n",
              "            height=\"400\"\n",
              "            src=\"https://console.videodb.io/player?url=https://stream.videodb.io/v3/published/manifests/0c58d2d2-e44d-4ed3-bd8d-b535155f6263.m3u8\"\n",
              "            frameborder=\"0\"\n",
              "            allowfullscreen\n",
              "            \n",
              "        ></iframe>\n",
              "        "
            ],
            "text/plain": [
              "<IPython.lib.display.IFrame at 0x793280234390>"
            ]
          },
          "execution_count": 11,
          "metadata": {},
          "output_type": "execute_result"
        }
      ],
      "source": [
        "search_results = video.search(\n",
        "    query = \"Smooth turns\",\n",
        "    filter = [{\"camera_view\": \"road_ahead\"}, {\"action_type\": \"clear_road\"}],   # Using metadata filter\n",
        "    search_type = SearchType.semantic,\n",
        "    index_type = IndexType.scene,\n",
        "    result_threshold = 100,\n",
        "    scene_index_id = scene_index_id\n",
        ")\n",
        "# Play the search results\n",
        "search_results.play()"
      ]
    },
    {
      "cell_type": "markdown",
      "metadata": {
        "id": "6ZOyc3Lg484a"
      },
      "source": [
        "# ✅ Conclusion: Precision Search with Scene Metadata  \n",
        "With **scene-level metadata indexing**, we can:  \n",
        "✔ **Precisely filter race footage** by camera angles & driver actions.  \n",
        "✔ **Use AI-powered semantic search** to find **specific race moments.**  \n",
        "✔ **Enhance video retrieval** for F1 analysis, highlights & research.  \n",
        "\n",
        "🚀 **This approach unlocks smarter, metadata-driven video search—making every second of race footage instantly accessible.**  \n"
      ]
    }
  ],
  "metadata": {
    "colab": {
      "provenance": []
    },
    "kernelspec": {
      "display_name": "Python 3",
      "name": "python3"
    },
    "language_info": {
      "name": "python"
    }
  },
  "nbformat": 4,
  "nbformat_minor": 0
}
