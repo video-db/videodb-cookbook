{
 "cells": [
  {
   "cell_type": "markdown",
   "metadata": {},
   "source": [
    "## Effortlessly Remove Unwanted Content from videos with VideoDB: Say Goodbye to Inappropriate Sections\n",
    "\n",
    "`VideoDB`gives you power to choose any bits from any video in an instant. If you are streaming a content that has unwanted section for minors and NSFW content, you can easily skip that by just identifying the timeline where unwanted content exists and videoDB would take care of your stream to skip those secions. "
   ]
  },
  {
   "cell_type": "markdown",
   "metadata": {},
   "source": [
    "### Workflow\n",
    "\n",
    "1. Let's use this 9-minute clip from Youtube that may contain some alchohol visual scenes . You can view the clip here: [Stop Drinking Alcohol now](https://www.youtube.com/watch?v=DE9K5N18rf0)\n",
    "2. We've identified specific times when inappropriate video content appears. This was achieved using AWS Rekognition API. If you're curious about the full process, including how to find visual inappropriate content in a video, check out our [blog](https://docs.videodb.io/aws-rekognition-and-videodb-effortlessly-remove-inappropriate-co-6) where we walk through the entire process.\n",
    "3. In this blog post, however, we're going to skip the details of AWS Rekognition APIs and jump straight to the timestamps.\n",
    "4. We've analyzed the appearances of visually inappropriate content, and then relatively computed the section of video which are safe.\n",
    "5. Next, we'll upload the video to VideoDb and generate a safe stream ⚡️!"
   ]
  },
  {
   "cell_type": "markdown",
   "metadata": {},
   "source": [
    "### Setup\n",
    "\n",
    "To get started, we need to install VideoDB to our python environment:"
   ]
  },
  {
   "cell_type": "code",
   "execution_count": 1,
   "metadata": {},
   "outputs": [
    {
     "name": "stdout",
     "output_type": "stream",
     "text": [
      "Requirement already satisfied: videodb in /Users/ashu/videodb/videodb-python (0.0.2)\n",
      "Requirement already satisfied: requests>=2.25.1 in /Users/ashu/opt/anaconda3/envs/videoDB/lib/python3.12/site-packages (from videodb) (2.31.0)\n",
      "Requirement already satisfied: backoff>=2.2.1 in /Users/ashu/opt/anaconda3/envs/videoDB/lib/python3.12/site-packages (from videodb) (2.2.1)\n",
      "Requirement already satisfied: charset-normalizer<4,>=2 in /Users/ashu/opt/anaconda3/envs/videoDB/lib/python3.12/site-packages (from requests>=2.25.1->videodb) (3.3.2)\n",
      "Requirement already satisfied: idna<4,>=2.5 in /Users/ashu/opt/anaconda3/envs/videoDB/lib/python3.12/site-packages (from requests>=2.25.1->videodb) (3.6)\n",
      "Requirement already satisfied: urllib3<3,>=1.21.1 in /Users/ashu/opt/anaconda3/envs/videoDB/lib/python3.12/site-packages (from requests>=2.25.1->videodb) (2.1.0)\n",
      "Requirement already satisfied: certifi>=2017.4.17 in /Users/ashu/opt/anaconda3/envs/videoDB/lib/python3.12/site-packages (from requests>=2.25.1->videodb) (2023.11.17)\n"
     ]
    }
   ],
   "source": [
    "!pip install videodb"
   ]
  },
  {
   "cell_type": "markdown",
   "metadata": {},
   "source": [
    "### Configuration\n",
    "\n",
    "We need to setup VideoDB connection, so that we store our video in VideoDB and then later on clip (clipping is as simple as a db query with VideoDB 😉🤌)\n",
    "\n",
    "we need `api_key` to setup a connection (if you haven't already, grab yours from [console.videodb.io](https://console.videodb.io))"
   ]
  },
  {
   "cell_type": "code",
   "execution_count": 2,
   "metadata": {},
   "outputs": [],
   "source": [
    "from videodb import connect\n",
    "conn = connect(api_key=\"\")"
   ]
  },
  {
   "cell_type": "markdown",
   "metadata": {},
   "source": [
    "### Upload the video\n",
    "Upload the video to VideoDB."
   ]
  },
  {
   "cell_type": "code",
   "execution_count": 6,
   "metadata": {},
   "outputs": [],
   "source": [
    "video_url = \"https://www.youtube.com/watch?v=DE9K5N18rf0\"\n",
    "vid = conn.upload(url=video_url)"
   ]
  },
  {
   "cell_type": "code",
   "execution_count": 7,
   "metadata": {},
   "outputs": [
    {
     "data": {
      "text/plain": [
       "'https://console.videodb.io/player?url=https://d27qzqw9ehjjni.cloudfront.net/v3/published/manifests/6abfac2d-6f6b-4dd8-828c-b7fc82467b04.m3u8'"
      ]
     },
     "execution_count": 7,
     "metadata": {},
     "output_type": "execute_result"
    }
   ],
   "source": [
    "# play the video\n",
    "vid.play()"
   ]
  },
  {
   "cell_type": "markdown",
   "metadata": {},
   "source": [
    "### Video analysis data\n",
    "We have analyzed the content of video and extracted out timestamps that appears to be safe."
   ]
  },
  {
   "cell_type": "code",
   "execution_count": 11,
   "metadata": {},
   "outputs": [],
   "source": [
    "safe_shots  = [[0, 7], [12, 53], [58, 60], [70, 242], [244, 260], [262, 263], [271, 388], [395, 543]]"
   ]
  },
  {
   "cell_type": "markdown",
   "metadata": {},
   "source": [
    "### Removing unsafe visual sections using VideoDB\n",
    "\n",
    "Pass timeline in `generate_stream()`, and get a streaming link of a your clip as a response (in less than 3s 😉)"
   ]
  },
  {
   "cell_type": "code",
   "execution_count": 12,
   "metadata": {},
   "outputs": [],
   "source": [
    "stream_link = vid.generate_stream(timeline=safe_shots)  "
   ]
  },
  {
   "cell_type": "markdown",
   "metadata": {},
   "source": [
    "### View the Results in Videodb Player\n",
    "\n",
    "You can also embed this link into your website as an iframe for seamless integration."
   ]
  },
  {
   "cell_type": "code",
   "execution_count": 13,
   "metadata": {},
   "outputs": [
    {
     "data": {
      "text/plain": [
       "'https://console.videodb.io/player?url=https://d27qzqw9ehjjni.cloudfront.net/v3/published/manifests/f2ada3fe-c569-4561-81b9-7d4b69a7aa65.m3u8'"
      ]
     },
     "execution_count": 13,
     "metadata": {},
     "output_type": "execute_result"
    }
   ],
   "source": [
    "from videodb import play_stream\n",
    "# play the video in browser/notebook\n",
    "play_stream(stream_link)"
   ]
  }
 ],
 "metadata": {
  "kernelspec": {
   "display_name": "Python 3 (ipykernel)",
   "language": "python",
   "name": "python3"
  },
  "language_info": {
   "codemirror_mode": {
    "name": "ipython",
    "version": 3
   },
   "file_extension": ".py",
   "mimetype": "text/x-python",
   "name": "python",
   "nbconvert_exporter": "python",
   "pygments_lexer": "ipython3",
   "version": "3.12.0"
  }
 },
 "nbformat": 4,
 "nbformat_minor": 4
}
