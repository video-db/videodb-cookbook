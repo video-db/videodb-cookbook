{
 "cells": [
  {
   "cell_type": "markdown",
   "metadata": {},
   "source": [
    "<a href=\"https://colab.research.google.com/github/video-db/videodb-cookbook/blob/dev/examples/intro_outro_video_inline.ipynb\" target=\"_parent\"><img src=\"https://colab.research.google.com/assets/colab-badge.svg\" alt=\"Open In Colab\"/></a>"
   ]
  },
  {
   "cell_type": "markdown",
   "metadata": {},
   "source": [
    "# 💬 Overview"
   ]
  },
  {
   "cell_type": "markdown",
   "metadata": {},
   "source": [
    "## Setup"
   ]
  },
  {
   "cell_type": "markdown",
   "metadata": {},
   "source": [
    "### 📦  Installing packages "
   ]
  },
  {
   "cell_type": "code",
   "execution_count": 1,
   "metadata": {},
   "outputs": [
    {
     "name": "stdout",
     "output_type": "stream",
     "text": [
      "Requirement already satisfied: videodb in /Users/rohit/Spext/videodb/videodb-cookbook/.venv/lib/python3.11/site-packages (0.1.0)\n",
      "Requirement already satisfied: requests>=2.25.1 in /Users/rohit/Spext/videodb/videodb-cookbook/.venv/lib/python3.11/site-packages (from videodb) (2.31.0)\n",
      "Requirement already satisfied: backoff>=2.2.1 in /Users/rohit/Spext/videodb/videodb-cookbook/.venv/lib/python3.11/site-packages (from videodb) (2.2.1)\n",
      "Requirement already satisfied: tqdm>=4.66.1 in /Users/rohit/Spext/videodb/videodb-cookbook/.venv/lib/python3.11/site-packages (from videodb) (4.66.2)\n",
      "Requirement already satisfied: charset-normalizer<4,>=2 in /Users/rohit/Spext/videodb/videodb-cookbook/.venv/lib/python3.11/site-packages (from requests>=2.25.1->videodb) (3.3.2)\n",
      "Requirement already satisfied: idna<4,>=2.5 in /Users/rohit/Spext/videodb/videodb-cookbook/.venv/lib/python3.11/site-packages (from requests>=2.25.1->videodb) (3.6)\n",
      "Requirement already satisfied: urllib3<3,>=1.21.1 in /Users/rohit/Spext/videodb/videodb-cookbook/.venv/lib/python3.11/site-packages (from requests>=2.25.1->videodb) (2.2.1)\n",
      "Requirement already satisfied: certifi>=2017.4.17 in /Users/rohit/Spext/videodb/videodb-cookbook/.venv/lib/python3.11/site-packages (from requests>=2.25.1->videodb) (2024.2.2)\n",
      "\n",
      "\u001b[1m[\u001b[0m\u001b[34;49mnotice\u001b[0m\u001b[1;39;49m]\u001b[0m\u001b[39;49m A new release of pip is available: \u001b[0m\u001b[31;49m23.2.1\u001b[0m\u001b[39;49m -> \u001b[0m\u001b[32;49m24.0\u001b[0m\n",
      "\u001b[1m[\u001b[0m\u001b[34;49mnotice\u001b[0m\u001b[1;39;49m]\u001b[0m\u001b[39;49m To update, run: \u001b[0m\u001b[32;49mpip install --upgrade pip\u001b[0m\n",
      "Note: you may need to restart the kernel to use updated packages.\n"
     ]
    }
   ],
   "source": [
    "%pip install videodb"
   ]
  },
  {
   "cell_type": "markdown",
   "metadata": {},
   "source": [
    "### 🔑 API Keys"
   ]
  },
  {
   "cell_type": "code",
   "execution_count": 2,
   "metadata": {},
   "outputs": [],
   "source": [
    "import os\n",
    "\n",
    "os.environ[\"VIDEO_DB_API_KEY\"] = \"\""
   ]
  },
  {
   "cell_type": "markdown",
   "metadata": {},
   "source": [
    "## Implementation"
   ]
  },
  {
   "cell_type": "markdown",
   "metadata": {},
   "source": [
    "### 🌐 Step 1: Connect to VideoDB"
   ]
  },
  {
   "cell_type": "code",
   "execution_count": 3,
   "metadata": {},
   "outputs": [],
   "source": [
    "from videodb import connect\n",
    "\n",
    "# Connect to VideoDB using your API key\n",
    "conn = connect()\n",
    "coll = conn.get_collection()"
   ]
  },
  {
   "cell_type": "markdown",
   "metadata": {},
   "source": [
    "### 🎥 Step 2: Upload Videos"
   ]
  },
  {
   "cell_type": "code",
   "execution_count": 4,
   "metadata": {},
   "outputs": [],
   "source": [
    "intro = coll.upload(url=\"https://github.com/video-db/videodb-cookbook-assets/raw/main/videos/intro.mp4\")\n",
    "outro = coll.upload(url=\"https://github.com/video-db/videodb-cookbook-assets/raw/main/videos/outro.mp4\")\n",
    "base = coll.upload(url=\"https://github.com/video-db/videodb-cookbook-assets/raw/main/videos/sugar_craving.mp4\")"
   ]
  },
  {
   "cell_type": "markdown",
   "metadata": {},
   "source": [
    "### 🎼 Step 3: Create Assets"
   ]
  },
  {
   "cell_type": "code",
   "execution_count": 5,
   "metadata": {},
   "outputs": [],
   "source": [
    "from videodb.asset import VideoAsset\n",
    "\n",
    "intro_asset = VideoAsset(asset_id=intro.id, start=0, end=3)\n",
    "base_asset = VideoAsset(asset_id=base.id, start=0, end=90)\n",
    "outro_asset = VideoAsset(asset_id=outro.id, start=0, end=3)"
   ]
  },
  {
   "cell_type": "markdown",
   "metadata": {},
   "source": [
    "### Step 4: Create timeline"
   ]
  },
  {
   "cell_type": "code",
   "execution_count": 6,
   "metadata": {},
   "outputs": [],
   "source": [
    "from videodb.timeline import Timeline\n",
    "\n",
    "timeline = Timeline(conn)\n",
    "\n",
    "timeline.add_inline(intro_asset)\n",
    "timeline.add_inline(base_asset)\n",
    "timeline.add_inline(outro_asset)"
   ]
  },
  {
   "cell_type": "markdown",
   "metadata": {},
   "source": [
    "### Step 5: Play the generated video stream"
   ]
  },
  {
   "cell_type": "code",
   "execution_count": 7,
   "metadata": {},
   "outputs": [
    {
     "data": {
      "text/plain": [
       "'https://console.videodb.io/player?url=https://dseetlpshk2tb.cloudfront.net/v3/published/manifests/33bf9c58-6685-48ba-b680-b086ab114d03.m3u8'"
      ]
     },
     "execution_count": 7,
     "metadata": {},
     "output_type": "execute_result"
    }
   ],
   "source": [
    "from videodb import play_stream\n",
    "\n",
    "stream = timeline.generate_stream()\n",
    "play_stream(stream)"
   ]
  },
  {
   "cell_type": "markdown",
   "metadata": {},
   "source": [
    "## 🎉 Conclusion\n",
    "Finally, we've generated a stream URL for the timeline, enabling playback or further processing of the combined video. Through the demonstrated steps, developers can efficiently manipulate and assemble video elements, resulting in professional-quality compositions. By previewing the integrated video and sharing the generated stream link, users can showcase their creations and collaborate with others seamlessly. With VideoDB's robust features and intuitive workflow, the possibilities for video creation are endless, empowering developers to bring their visions to life effortlessly.\n",
    "\n",
    "\n",
    "For more information and advanced features, explore the [VideoDB Documentation](https://docs.videodb.io) and join the VideoDB community on [GitHub](https://github.com) or [Discord](https://discord.com/invite/py9P639jGz) for support and collaboration.\n"
   ]
  },
  {
   "cell_type": "markdown",
   "metadata": {},
   "source": []
  }
 ],
 "metadata": {
  "kernelspec": {
   "display_name": ".venv",
   "language": "python",
   "name": "python3"
  },
  "language_info": {
   "codemirror_mode": {
    "name": "ipython",
    "version": 3
   },
   "file_extension": ".py",
   "mimetype": "text/x-python",
   "name": "python",
   "nbconvert_exporter": "python",
   "pygments_lexer": "ipython3",
   "version": "3.11.7"
  }
 },
 "nbformat": 4,
 "nbformat_minor": 2
}
