{
 "cells": [
  {
   "cell_type": "markdown",
   "metadata": {},
   "source": [
    "# 🔊 Translation With Lecto"
   ]
  },
  {
   "cell_type": "markdown",
   "metadata": {},
   "source": [
    "<a href=\"https://colab.research.google.com/github/video-db/videodb-cookbook/blob/nb/translation_lecto/examples/Translation_Lecto.ipynb\" target=\"_parent\"><img src=\"https://colab.research.google.com/assets/colab-badge.svg\" alt=\"Open In Colab\"/></a>"
   ]
  },
  {
   "cell_type": "markdown",
   "metadata": {},
   "source": [
    "## Overview"
   ]
  },
  {
   "cell_type": "markdown",
   "metadata": {},
   "source": [
    "## Setup\n",
    "---"
   ]
  },
  {
   "cell_type": "markdown",
   "metadata": {},
   "source": [
    "### 📦  Installing packages "
   ]
  },
  {
   "cell_type": "code",
   "execution_count": null,
   "metadata": {},
   "outputs": [],
   "source": [
    "%pip install videodb"
   ]
  },
  {
   "cell_type": "markdown",
   "metadata": {},
   "source": [
    "### 🔑 API Keys"
   ]
  },
  {
   "cell_type": "markdown",
   "metadata": {},
   "source": [
    "Ensure you have access to [ElevenLabs](https://openai.com), [Lecto](https://wellsaidlabs.com/features/api/) and [VideoDB](https://videodb.io) API keys. If you haven't already, sign up for API access on the respective platforms.\n",
    "\n",
    "> Get your API key from [VideoDB Console](https://console.videodb.io). ( Free for first 50 uploads, **No credit card required** ) 🎉"
   ]
  },
  {
   "cell_type": "code",
   "execution_count": 66,
   "metadata": {},
   "outputs": [],
   "source": [
    "import os\n",
    "\n",
    "os.environ[\"LECTO_API_KEY\"] = \"\"\n",
    "os.environ[\"VIDEO_DB_API_KEY\"] = \"\"\n",
    "os.environ[\"ELEVEN_LABS_API_KEY\"] = \"\""
   ]
  },
  {
   "cell_type": "markdown",
   "metadata": {},
   "source": [
    "### 🎙️  ElevenLab's Voice ID  \n",
    "You will also need ElevenLab's VoiceID of a Voice that you want to use.\n",
    "\n",
    "For this demo, we will be using [Sam Elliot's Voice](https://elevenlabs.io/app/voice-lab/share/bcf1f77ee30ba698ec2808b47188b4189a69c862c073d704fde7034608eeaec5/nRjJQMMnjuyMXVyDw9TC). ElevenLabs has a large variety of voices to choose from (browse them [here](https://elevenlabs.io/voice-library)). Once finalized, copy the Voice ID from ElevenLabs and link it here."
   ]
  },
  {
   "cell_type": "code",
   "execution_count": 67,
   "metadata": {},
   "outputs": [],
   "source": [
    "voiceover_artist_id = \"zT03pEAEi0VHKciJODfn\""
   ]
  },
  {
   "cell_type": "markdown",
   "metadata": {},
   "source": [
    "## Implementation\n",
    "---"
   ]
  },
  {
   "cell_type": "markdown",
   "metadata": {},
   "source": [
    "### 🌐 Step 1: Connect to VideoDB"
   ]
  },
  {
   "cell_type": "code",
   "execution_count": 6,
   "metadata": {},
   "outputs": [],
   "source": [
    "from videodb import connect\n",
    "\n",
    "# Connect to VideoDB using your API key\n",
    "conn = connect()\n",
    "coll = conn.get_collection()"
   ]
  },
  {
   "cell_type": "markdown",
   "metadata": {},
   "source": [
    "### 🎥 Step 2: Upload Video\n",
    "\n",
    "Upload your product video to VideoDB using its URL or file path."
   ]
  },
  {
   "cell_type": "code",
   "execution_count": 7,
   "metadata": {},
   "outputs": [],
   "source": [
    "video = conn.upload(url=\"https://www.youtube.com/watch?v=L-9iwhEHi7Q\")"
   ]
  },
  {
   "cell_type": "markdown",
   "metadata": {},
   "source": [
    "### 🔍 Step 3: Index Spoken words "
   ]
  },
  {
   "cell_type": "code",
   "execution_count": 8,
   "metadata": {},
   "outputs": [
    {
     "name": "stderr",
     "output_type": "stream",
     "text": [
      "100%|████████████████████████████████████████████████████████████████████████████████████████████████████| 100/100 [00:12<00:00,  8.04it/s]\n"
     ]
    }
   ],
   "source": [
    "video.index_spoken_words()\n",
    "transcript = video.get_transcript_text()"
   ]
  },
  {
   "cell_type": "markdown",
   "metadata": {},
   "source": []
  },
  {
   "cell_type": "code",
   "execution_count": null,
   "metadata": {},
   "outputs": [],
   "source": [
    "import os\n",
    "import requests\n",
    "import json\n",
    "\n",
    "\n",
    "headers = {\n",
    "    \"X-API-Key\": os.getenv(\"LECTO_API_KEY\"),\n",
    "    \"Content-Type\": \"application/json\",\n",
    "    \"Accept\": \"application/json\",\n",
    "}\n",
    "\n",
    "responses = []\n",
    "\n",
    "for transcript_chunk in [\n",
    "    transcript[i : i + 1000] for i in range(0, len(transcript), 1000)\n",
    "]:\n",
    "    print(transcript_chunk)\n",
    "    data = {\"texts\": [transcript_chunk], \"to\": [\"hi\"], \"from\": \"en\"}\n",
    "    payload = json.dumps(data)\n",
    "\n",
    "    response = requests.post('https://api.lecto.ai/v1/translate/text', headers=headers, data=payload)\n",
    "    responses.append(response.json())"
   ]
  },
  {
   "cell_type": "code",
   "execution_count": 19,
   "metadata": {},
   "outputs": [],
   "source": [
    "final_script = \" \".join([response[\"translations\"][0]['translated'][0] for response in responses])"
   ]
  },
  {
   "cell_type": "code",
   "execution_count": 68,
   "metadata": {},
   "outputs": [],
   "source": [
    "import requests\n",
    "\n",
    "# Call ElevenLabs API to generate voiceover\n",
    "url = f\"https://api.elevenlabs.io/v1/text-to-speech/{voiceover_artist_id}\"\n",
    "headers = {\n",
    "    \"xi-api-key\": os.environ.get(\"ELEVEN_LABS_API_KEY\"),\n",
    "    \"Content-Type\": \"application/json\"\n",
    "}\n",
    "payload = {\n",
    "    \"model_id\": \"eleven_multilingual_v2\",\n",
    "    \"text\": final_script\n",
    "}\n",
    "elevenlabs_res = requests.request(\"POST\", url, json=payload, headers=headers)\n",
    "\n",
    "audio_file = \"audio.mp3\"\n",
    "try:\n",
    "    elevenlabs_res = requests.request(\"POST\", url, json=payload, headers=headers)\n",
    "    elevenlabs_res.raise_for_status()\n",
    "except Exception as e:\n",
    "    print(\"Error in generating voiceover\", e)\n",
    "    print(elevenlabs_res.json())\n",
    "# Save the audio file\n",
    "with open(audio_file, \"wb\") as f:\n",
    "    f.write(elevenlabs_res.content)"
   ]
  },
  {
   "cell_type": "code",
   "execution_count": 71,
   "metadata": {},
   "outputs": [],
   "source": [
    "from videodb import MediaType\n",
    "audio = conn.upload(file_path=audio_file, media_type=MediaType.audio)"
   ]
  },
  {
   "cell_type": "code",
   "execution_count": 77,
   "metadata": {},
   "outputs": [
    {
     "data": {
      "text/plain": [
       "'https://console.videodb.io/player?url=https://dseetlpshk2tb.cloudfront.net/v3/published/manifests/ba0361fc-1c84-4337-8619-a24dbc220959.m3u8'"
      ]
     },
     "execution_count": 77,
     "metadata": {},
     "output_type": "execute_result"
    }
   ],
   "source": [
    "from videodb import play_stream\n",
    "from videodb.timeline import Timeline\n",
    "from videodb.asset import  VideoAsset , AudioAsset\n",
    "\n",
    "timeline = Timeline(conn)\n",
    "\n",
    "video_asset = VideoAsset(asset_id=video.id)\n",
    "audio_asset = AudioAsset(asset_id=audio.id, disable_other_tracks=True)\n",
    "\n",
    "\n",
    "timeline.add_inline(video_asset)\n",
    "timeline.add_overlay(0, asset=audio_asset)\n",
    "\n",
    "\n",
    "stream_url = timeline.generate_stream()\n",
    "play_stream(stream_url)\n",
    "\n"
   ]
  },
  {
   "cell_type": "code",
   "execution_count": null,
   "metadata": {},
   "outputs": [],
   "source": []
  }
 ],
 "metadata": {
  "kernelspec": {
   "display_name": ".venv",
   "language": "python",
   "name": "python3"
  },
  "language_info": {
   "codemirror_mode": {
    "name": "ipython",
    "version": 3
   },
   "file_extension": ".py",
   "mimetype": "text/x-python",
   "name": "python",
   "nbconvert_exporter": "python",
   "pygments_lexer": "ipython3",
   "version": "3.11.7"
  }
 },
 "nbformat": 4,
 "nbformat_minor": 2
}
