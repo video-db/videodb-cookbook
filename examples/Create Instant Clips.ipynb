{
 "cells": [
  {
   "cell_type": "markdown",
   "metadata": {},
   "source": [
    "### Create Instant Clips of Your Favorite Characters with VideoDB: Effortless Video Editing at Your Fingertip\n",
    "\n",
    "We all have our favorite characters in TV shows the we love. What if you can create the clips of the scenes when they appear. You can use it in your content creation, analysis workflow or just watch how they talk, dress or act in an episode. \n",
    "\n",
    "[VideoDB](https://videodb.io) is the database for your AI applicaitons and enables it with ease. No need for fancy editing software or waiting around – you get to see your video right away. ⚡️"
   ]
  },
  {
   "cell_type": "markdown",
   "metadata": {},
   "source": [
    "<div style=\"height:40px;\"></div>\n",
    "\n",
    "### Workflow\n",
    "---  \n",
    "\n",
    "Here’s a [15-minute video](https://www.youtube.com/watch?v=NNAgJ5p4CIY) from HBO's Silicon Valley show.  We've done the pre work of finding, instances when `Gilfoyle`, `Jian Yang`, `Erlich`, `Jared`, `Dinesh` and `Richard` make appearances. (This was achieved using [AWS Rekognition API](https://docs.aws.amazon.com/rekognition/). If you're curious about the full process, including how to index faces and pinpoint timestamps in videos, check out our blog where we walk through the entire process)"
   ]
  },
  {
   "cell_type": "markdown",
   "metadata": {},
   "source": [
    "<div style=\"height:40px;\"></div>\n",
    "\n",
    "### Setup\n",
    "---\n",
    "#### 🔧 Installing VideoDB in your environment\n",
    "\n",
    "VideoDB is available as [python package 📦](https://pypi.org/project/videodb/)"
   ]
  },
  {
   "cell_type": "code",
   "execution_count": null,
   "metadata": {},
   "outputs": [],
   "source": [
    "!pip install videodb"
   ]
  },
  {
   "cell_type": "markdown",
   "metadata": {},
   "source": [
    "#### 🔗 Setting Up a connection to db\n",
    "\n",
    "To connect to `VideoDB`, simply create a `Connection` object.\n",
    "\n",
    "This can be done by either providing your VideoDB API key directly to the constructor or by setting the `VIDEO_DB_API_KEY` environment variable with your API key.\n",
    "\n",
    ">💡\n",
    ">Get your API key from [VideoDB Console](https://console.videodb.io). ( Free for first 50 uploads, No credit card required ) 🎉."
   ]
  },
  {
   "cell_type": "code",
   "execution_count": 1,
   "metadata": {},
   "outputs": [],
   "source": [
    "import videodb\n",
    "conn = videodb.connect(api_key=\"YOUR_API_KEY\")"
   ]
  },
  {
   "cell_type": "markdown",
   "metadata": {},
   "source": [
    "<div style=\"height:40px;\"></div>\n",
    "\n",
    "### 🔍 Video Analysis data\n",
    "---\n",
    "\n",
    "The `persons_data` contains timeline  for each character, representing the timestamps of shots when they were present in the video."
   ]
  },
  {
   "cell_type": "code",
   "execution_count": 2,
   "metadata": {},
   "outputs": [],
   "source": [
    "persons_data = {\n",
    "    \"gilfoyle\": {\n",
    "        \"timeline\": [[0, 4], [160, 185], [330, 347], [370, 378], [382, 391], [391, 400]]\n",
    "    },\n",
    "    \"jianyang\": {\n",
    "        \"timeline\": [[232, 271], [271, 283], [284, 308], [312, 343], [398, 407]]\n",
    "    },\n",
    "    \"erlic\": {\n",
    "        \"timeline\": [[0, 8], [12, 30], [31, 41], [44, 52], [56, 97], [97, 124], [147, 165], [185, 309], [316, 336], [336, 345], [348, 398], [398, 408]]\n",
    "    },\n",
    "    \"jared\": {\n",
    "        \"timeline\": [[0, 15], [148, 165], [182, 190], [343, 355], [358, 381], [384, 393]]\n",
    "    },\n",
    "    \"dinesh\": {\n",
    "        \"timeline\": [[0, 4], [160, 189], [343, 354], [374, 383], [392, 402]]\n",
    "    },\n",
    "    \"richard\": {\n",
    "        \"timeline\": [[12, 41], [127, 137], [137, 154], [159, 167], [360, 378], [381, 398], [399, 407]]\n",
    "    }\n",
    "}"
   ]
  },
  {
   "cell_type": "markdown",
   "metadata": {},
   "source": [
    "\n",
    "<div style=\"height:40px;\"></div>\n",
    "\n",
    "### 🎬️ Clips \n",
    "---\n",
    "\n",
    "\n",
    "#### Generate Clip for each character using VideoDB\n",
    "\n",
    "For this step,\n",
    "\n",
    "*  We will upload our video to VideoDB using `conn.upload()`\n",
    "*  Create clips of each character from our analyzed data by passing `timeline` in `video.generate_stream()`"
   ]
  },
  {
   "cell_type": "code",
   "execution_count": 3,
   "metadata": {},
   "outputs": [],
   "source": [
    "video_url_yt = \"https://www.youtube.com/watch?v=NNAgJ5p4CIY\"\n",
    "video = conn.upload(url=video_url_yt)"
   ]
  },
  {
   "cell_type": "code",
   "execution_count": 9,
   "metadata": {},
   "outputs": [],
   "source": [
    "for person in persons_data:\n",
    "  person_data = persons_data[person]\n",
    "  stream_link = video.generate_stream(timeline=person_data[\"timeline\"])  \n",
    "  person_data[\"clip\"] = stream_link"
   ]
  },
  {
   "cell_type": "markdown",
   "metadata": {},
   "source": [
    "### View the results in Videodb Player \n",
    "Now, it's time to check out our results.\n",
    "\n",
    "Let's take a look at a clip featuring Erlich Bachman (or, feel free to choose your favorite character)."
   ]
  },
  {
   "cell_type": "code",
   "execution_count": 10,
   "metadata": {},
   "outputs": [
    {
     "data": {
      "text/plain": [
       "'https://console.videodb.io/player?url=https://d27qzqw9ehjjni.cloudfront.net/v3/published/manifests/d3b49d95-5c6e-4262-8d11-51c639309a0d.m3u8'"
      ]
     },
     "execution_count": 10,
     "metadata": {},
     "output_type": "execute_result"
    }
   ],
   "source": [
    "from videodb import play_stream \n",
    "\n",
    "name = \"erlic\"\n",
    "play_stream(persons_data[name][\"clip\"])"
   ]
  },
  {
   "cell_type": "code",
   "execution_count": null,
   "metadata": {},
   "outputs": [],
   "source": []
  }
 ],
 "metadata": {
  "kernelspec": {
   "display_name": "Python 3 (ipykernel)",
   "language": "python",
   "name": "python3"
  },
  "language_info": {
   "codemirror_mode": {
    "name": "ipython",
    "version": 3
   },
   "file_extension": ".py",
   "mimetype": "text/x-python",
   "name": "python",
   "nbconvert_exporter": "python",
   "pygments_lexer": "ipython3",
   "version": "3.9.12"
  }
 },
 "nbformat": 4,
 "nbformat_minor": 4
}
