{
 "cells": [
  {
   "cell_type": "markdown",
   "metadata": {},
   "source": [
    "<a href=\"https://colab.research.google.com/github/video-db/videodb-cookbook/blob/nb/censor/examples/Censor.ipynb\" target=\"_parent\"><img src=\"https://colab.research.google.com/assets/colab-badge.svg\" alt=\"Open In Colab\"/></a>"
   ]
  },
  {
   "cell_type": "code",
   "execution_count": null,
   "metadata": {},
   "outputs": [],
   "source": [
    "!pip install videodb openai"
   ]
  },
  {
   "cell_type": "code",
   "execution_count": null,
   "metadata": {},
   "outputs": [],
   "source": [
    "import os\n",
    "\n",
    "os.environ[\"OPENAI_API_KEY\"] = \"\"\n",
    "os.environ[\"VIDEO_DB_API_KEY\"] = \"\""
   ]
  },
  {
   "cell_type": "code",
   "execution_count": 11,
   "metadata": {},
   "outputs": [],
   "source": [
    "from videodb import connect \n",
    "conn = connect()"
   ]
  },
  {
   "cell_type": "code",
   "execution_count": 12,
   "metadata": {},
   "outputs": [],
   "source": [
    "coll = conn.get_collection()\n",
    "video = conn.upload(url=\"https://www.youtube.com/watch?v=NFTtDY0efF0\")"
   ]
  },
  {
   "cell_type": "code",
   "execution_count": 15,
   "metadata": {},
   "outputs": [],
   "source": [
    "video.index_scenes()"
   ]
  },
  {
   "cell_type": "code",
   "execution_count": 16,
   "metadata": {},
   "outputs": [],
   "source": [
    "scenes = video.get_scenes()\n",
    "print(f\"{scenes[0]['start']} - {scenes[0]['end']}\")\n",
    "print(scenes[0][\"response\"])"
   ]
  },
  {
   "cell_type": "code",
   "execution_count": 42,
   "metadata": {},
   "outputs": [],
   "source": [
    "llm_prompt = \"\"\"Here’s the data from a vision (scene) index run on a video footage. The structure of the data is { - index: scene description}. \n",
    "Based on this information, identify and filter the scenes safe for mature audiences but do not include nudity.\n",
    "As a response, return a json which contains one fields, safe and its value is a list of all indexes(numbers) that are safe \\n \\n\"\"\"\n",
    "\n",
    "for index, scene in enumerate(scenes):\n",
    "    llm_prompt += f\"{index}: {scene['response']}\\n\""
   ]
  },
  {
   "cell_type": "code",
   "execution_count": 48,
   "metadata": {},
   "outputs": [],
   "source": [
    "import openai\n",
    "import json\n",
    "\n",
    "client = openai.OpenAI()\n",
    "\n",
    "openai_res = client.chat.completions.create(\n",
    "    model=\"gpt-3.5-turbo\",\n",
    "    messages=[{\"role\": \"system\", \"content\": llm_prompt}],\n",
    "    response_format={\"type\": \"json_object\"}\n",
    ")\n",
    "openai_res = json.loads(openai_res.choices[0].message.content)"
   ]
  },
  {
   "cell_type": "code",
   "execution_count": 61,
   "metadata": {},
   "outputs": [],
   "source": [
    "shots = []\n",
    "for i in openai_res[\"safe\"]:\n",
    "    shots.append([float(scenes[i]['start']), float(scenes[i]['end'])])\n",
    "\n",
    "print(shots)"
   ]
  },
  {
   "cell_type": "code",
   "execution_count": 86,
   "metadata": {},
   "outputs": [],
   "source": [
    "def merge_timestamps(shots, threshold):\n",
    "    merged_shots = [shots[0]]  \n",
    "\n",
    "    for current_start, current_end in shots[1:]:\n",
    "        last_end = merged_shots[-1][1]\n",
    "\n",
    "        # If the current start time is within the threshold of the last end time, merge them.\n",
    "        if current_start - last_end <= threshold:\n",
    "            merged_shots[-1][1] = max(last_end, current_end)  # Update the end time of the last interval.\n",
    "        else:\n",
    "            # Otherwise, add the current interval as a new entry.\n",
    "            merged_shots.append([current_start, current_end])\n",
    "\n",
    "    return merged_shots \n",
    "\n",
    "\n",
    "merged_shots = merge_timestamps(shots, 1)"
   ]
  },
  {
   "cell_type": "code",
   "execution_count": null,
   "metadata": {},
   "outputs": [],
   "source": [
    "from videodb import play_stream\n",
    "\n",
    "stream_url = video.generate_stream(timeline=merged_shots)\n",
    "play_stream(stream_url)"
   ]
  },
  {
   "cell_type": "code",
   "execution_count": null,
   "metadata": {},
   "outputs": [],
   "source": []
  }
 ],
 "metadata": {
  "kernelspec": {
   "display_name": ".venv",
   "language": "python",
   "name": "python3"
  },
  "language_info": {
   "codemirror_mode": {
    "name": "ipython",
    "version": 3
   },
   "file_extension": ".py",
   "mimetype": "text/x-python",
   "name": "python",
   "nbconvert_exporter": "python",
   "pygments_lexer": "ipython3",
   "version": "3.11.7"
  }
 },
 "nbformat": 4,
 "nbformat_minor": 2
}
