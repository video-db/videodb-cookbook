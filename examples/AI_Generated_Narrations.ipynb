{
 "cells": [
  {
   "cell_type": "markdown",
   "metadata": {},
   "source": [
    "<a href=\"https://colab.research.google.com/github/video-db/videodb-cookbook/blob/dev/examples/AI_Generated_Narrations.ipynb\" target=\"_parent\"><img src=\"https://colab.research.google.com/assets/colab-badge.svg\" alt=\"Open In Colab\"/></a>"
   ]
  },
  {
   "cell_type": "markdown",
   "metadata": {},
   "source": [
    "# 🔊 Elevating Trailers with Automated Narration"
   ]
  },
  {
   "cell_type": "markdown",
   "metadata": {},
   "source": [
    "## Overview\n",
    "Narration is the heartbeat of trailers, injecting excitement and intrigue into every frame. With VideoDB, OpenAI, and elevenlabs.io at your fingertips, adding narration to trailers becomes a thrilling adventure. This tutorial will guide you through the exhilarating process of seamlessly integrating narration into trailers using these powerful tools. Here’s an example of weaving a thrilling storyline from a reel of unrelated, but valuable cinematic shots:"
   ]
  },
  {
   "cell_type": "markdown",
   "metadata": {},
   "source": [
    "\n",
    "Let’s try adding an automatically generated voiceover to this silent footage in the style and voice of Sir David Attenborough. We shall do this using the powerful tech provided by [Open AI](https://openai.com), [ElevenLabs](https://elevenlabs.io) and [VideoDB](https://videodb.io)\n",
    "\n"
   ]
  },
  {
   "cell_type": "markdown",
   "metadata": {},
   "source": [
    "## Setup"
   ]
  },
  {
   "cell_type": "markdown",
   "metadata": {},
   "source": [
    "### Installing the required packages"
   ]
  },
  {
   "cell_type": "code",
   "execution_count": null,
   "metadata": {},
   "outputs": [],
   "source": [
    "%pip install openai\n",
    "%pip install videodb"
   ]
  },
  {
   "cell_type": "markdown",
   "metadata": {},
   "source": [
    "### API keys\n",
    "Before proceeding, ensure access to [VideoDB](https://videodb.io), [OpenAI](https://openai.com), and [ElevenLabs](https://elevenlabs.io) API key. If not, sign up for API access on the respective platforms.\n",
    "\n",
    "> You can get VideoDB's API key from 👉🏼 [VideoDB Console](https://console.videodb.io). ( Free for first 50 uploads, **No credit card required!** )"
   ]
  },
  {
   "cell_type": "code",
   "execution_count": 13,
   "metadata": {},
   "outputs": [],
   "source": [
    "import os\n",
    "\n",
    "os.environ[\"OPENAI_API_KEY\"] = \"\"\n",
    "os.environ[\"ELEVEN_LABS_API_KEY\"] = \"\"\n",
    "os.environ[\"VIDEO_DB_API_KEY\"] = \"\""
   ]
  },
  {
   "cell_type": "markdown",
   "metadata": {},
   "source": [
    "### ElevenLab's Voice ID \n",
    "\n",
    "You will also need ElevenLab's VoiceID of a Voice that you want to use.\n",
    "\n",
    "For this demo, we will be using David Attenborough's Voice.   \n",
    "Please add [this](https://elevenlabs.io/app/voice-lab/share/eea2654def1e6c5bda5b4ce8f99f8f2c857b71a15cd6188c27d337206ea98177/s6sJbrmNIsT6M7vdjjES) Voice to Your VoiceLab and copy VoiceID from there.\n",
    "\n"
   ]
  },
  {
   "cell_type": "code",
   "execution_count": 15,
   "metadata": {},
   "outputs": [],
   "source": [
    "voiceover_artist_id = \"VOICEOVER_ARTIST_ID\""
   ]
  },
  {
   "cell_type": "markdown",
   "metadata": {},
   "source": [
    "\n",
    "### 🌐 Step 1: Connect to VideoDB\n",
    "Connect to VideoDB using your API key to establish a session for uploading and manipulating video files."
   ]
  },
  {
   "cell_type": "code",
   "execution_count": 4,
   "metadata": {},
   "outputs": [],
   "source": [
    "from videodb import connect\n",
    "\n",
    "# Connect to VideoDB using your API key\n",
    "conn = connect()"
   ]
  },
  {
   "cell_type": "markdown",
   "metadata": {},
   "source": [
    "### 🎥 Step 2: Upload Video"
   ]
  },
  {
   "cell_type": "code",
   "execution_count": 5,
   "metadata": {},
   "outputs": [],
   "source": [
    "video = conn.upload(url='https://www.youtube.com/watch?v=WQmGwmc-XUY')"
   ]
  },
  {
   "cell_type": "markdown",
   "metadata": {},
   "source": [
    "### 🔍 Step 3: Analyze Scenes and Generate Scene Descriptions\n",
    "\n",
    "Start by analyzing the scenes within your Video using VideoDB's scene indexing capabilities. This will provide context for generating the script prompt."
   ]
  },
  {
   "cell_type": "code",
   "execution_count": 6,
   "metadata": {},
   "outputs": [],
   "source": [
    "video.index_scenes()"
   ]
  },
  {
   "cell_type": "markdown",
   "metadata": {},
   "source": [
    "Let's view the description of first scene from the video"
   ]
  },
  {
   "cell_type": "code",
   "execution_count": 8,
   "metadata": {},
   "outputs": [
    {
     "name": "stdout",
     "output_type": "stream",
     "text": [
      "0 - 0.7090416666666666\n",
      "The image captures a fiery blaze, a dynamic dance of flames in vivid shades of orange, gold, and red. Light flickers intensely, radiance expanding, contracting with the fire's rhythm. No specific source is visible; the fire dominates entirely, filling the frame with energetic movement. The luminosity suggests a fierce heat, powerful enough to demand respect and caution. Each tongue of flame is seemingly alive, almost writhing against a darker, indistinct background. This could be a natural fire or a controlled blaze—there’s no context to indicate its origin. Amidst the searing heat, the flames create a mesmeric, albeit destructive, spectacle.\n"
     ]
    }
   ],
   "source": [
    "scenes = video.get_scenes()\n",
    "print(f\"{scenes[0]['start']} - {scenes[0]['end']}\")\n",
    "print(scenes[0][\"response\"])"
   ]
  },
  {
   "cell_type": "markdown",
   "metadata": {},
   "source": [
    "### 🎤 Step 4: Generate Voiceover Script with ChatGPT\n",
    "Combine scene descriptions with the script prompt, instructing ChatGPT to create a voiceover script in David Attenborough's style.\n",
    "\n",
    "This script prompt can be refined and tweaked to generate the most suitable output. Check out these examples to explore more usecases."
   ]
  },
  {
   "cell_type": "code",
   "execution_count": 9,
   "metadata": {},
   "outputs": [],
   "source": [
    "# Generate narration script with ChatGPT\n",
    "import openai\n",
    "\n",
    "client = openai.OpenAI()\n",
    "\n",
    "script_prompt = \"Craft a dynamic narration script for this trailer, incorporating scene descriptions to enhance storytelling. Ensure that the narration aligns seamlessly with the timestamps provided in the scene index.\"\n",
    "\n",
    "full_prompt = script_prompt + \"\\n\\n\"\n",
    "for scene in scenes:\n",
    "  full_prompt += f\"- {scene}\\n\"\n",
    "\n",
    "openai_res = client.chat.completions.create(\n",
    "    model=\"gpt-3.5-turbo\",\n",
    "    messages=[{\"role\": \"system\", \"content\": full_prompt}],\n",
    ")\n",
    "voiceover_script = openai_res.choices[0].message.content\n",
    "\n",
    "# If you have ElevenLab's paid plan remove this\n",
    "voiceover_script = voiceover_script[:2500]"
   ]
  },
  {
   "cell_type": "markdown",
   "metadata": {},
   "source": [
    "### 🎤 Step 5: Generate Voiceover Audio with ElevenLabs\n",
    "Utilize the generated script to synthesize AI-generated voiceover narration in David Attenborough's voice using ElevenLabs API."
   ]
  },
  {
   "cell_type": "code",
   "execution_count": null,
   "metadata": {},
   "outputs": [],
   "source": [
    "import requests\n",
    "\n",
    "\n",
    "# Call ElevenLabs API to generate voiceover\n",
    "url = f\"https://api.elevenlabs.io/v1/text-to-speech/{voiceover_artist_id}\"\n",
    "headers = {\n",
    "    \"xi-api-key\": os.environ.get(\"ELEVEN_LABS_API_KEY\"),\n",
    "    \"Content-Type\": \"application/json\"\n",
    "}\n",
    "payload = {\n",
    "    \"model_id\": \"eleven_monolingual_v1\",\n",
    "    \"text\": voiceover_script,\n",
    "    \"voice_settings\": {\n",
    "        \"stability\": 0.5,\n",
    "        \"similarity_boost\": 0.5\n",
    "    }\n",
    "}\n",
    "elevenlabs_res = requests.request(\"POST\", url, json=payload, headers=headers)\n",
    "\n",
    "print(elevenlabs_res.json())\n",
    "\n",
    "# Save the audio file\n",
    "audio_file = \"audio.mp3\"\n",
    "CHUNK_SIZE = 1024\n",
    "with open(audio_file, 'wb') as f:\n",
    "    for chunk in elevenlabs_res.iter_content(chunk_size=CHUNK_SIZE):\n",
    "        if chunk:\n",
    "            f.write(chunk)"
   ]
  },
  {
   "cell_type": "markdown",
   "metadata": {},
   "source": [
    "### 🎬 Step 6: Add Voiceover to Video with VideoDB"
   ]
  },
  {
   "cell_type": "markdown",
   "metadata": {},
   "source": [
    "In order to use the voiceover generated above, let's upload the audio file (voiceover) to VideoDB first"
   ]
  },
  {
   "cell_type": "code",
   "execution_count": null,
   "metadata": {},
   "outputs": [],
   "source": [
    "audio = conn.upload(file_path=audio_file)"
   ]
  },
  {
   "cell_type": "markdown",
   "metadata": {},
   "source": [
    "Finally, add the AI-generated voiceover to the silent footage of the underwater world using VideoDB's [timeline feature](https://docs.videodb.io/version-0-0-3-timeline-and-assets-44)."
   ]
  },
  {
   "cell_type": "code",
   "execution_count": null,
   "metadata": {},
   "outputs": [],
   "source": [
    "from videodb.timeline import Timeline\n",
    "from videodb.asset import VideoAsset, AudioAsset\n",
    "\n",
    "timeline = Timeline(conn)\n",
    "\n",
    "video_asset = VideoAsset(asset_id=video.id, start=0, end=180)\n",
    "\n",
    "audio_asset1 = AudioAsset(asset_id=audio.id, start=5, end=25.5, disable_other_tracks=False)\n",
    "audio_asset2 = AudioAsset(asset_id=audio.id, start=35, end=49, disable_other_tracks=False)\n",
    "\n",
    "# add asset overlay\n",
    "timeline.add_inline(asset=video_asset)\n",
    "timeline.add_overlay(start=4, asset=audio_asset1)\n",
    "timeline.add_overlay(start=35, asset=audio_asset2)\n"
   ]
  },
  {
   "cell_type": "markdown",
   "metadata": {},
   "source": [
    "### 🪄 Step 7: Review and Share\n",
    "Preview the video with the integrated voiceover to ensure it functions correctly.   \n",
    "Once satisfied, generate a stream of the video and share the link for others to view and enjoy this wholesome creation!\n"
   ]
  },
  {
   "cell_type": "code",
   "execution_count": 15,
   "metadata": {},
   "outputs": [
    {
     "data": {
      "text/plain": [
       "'https://console.videodb.io/player?url=https://dseetlpshk2tb.cloudfront.net/v3/published/manifests/fea6943a-0ac6-4a13-9309-4df35e41f6f7.m3u8'"
      ]
     },
     "execution_count": 15,
     "metadata": {},
     "output_type": "execute_result"
    }
   ],
   "source": [
    "from videodb import play_stream\n",
    "\n",
    "stream_url = timeline.generate_stream()\n",
    "play_stream(stream_url)"
   ]
  },
  {
   "cell_type": "markdown",
   "metadata": {},
   "source": [
    "## Bonus"
   ]
  },
  {
   "cell_type": "code",
   "execution_count": null,
   "metadata": {},
   "outputs": [],
   "source": [
    "from videodb.asset import ImageAsset\n",
    "from videodb import MediaType, play_stream\n",
    "\n",
    "image = conn.upload(url=\"https://raw.githubusercontent.com/video-db/videodb-cookbook/dev/images/chase_trailer.png\", media_type=MediaType.image)\n",
    "\n",
    "image_asset = ImageAsset(\n",
    "    asset_id=image.id,\n",
    "    width=1392,\n",
    "    height=783,\n",
    "    x=0,\n",
    "    y=0,\n",
    "    duration=13\n",
    ")\n",
    "\n",
    "timeline.add_overlay(start=67.5, asset=image_asset)\n",
    "\n",
    "stream_url = timeline.generate_stream()\n",
    "play_stream(stream_url)"
   ]
  },
  {
   "cell_type": "markdown",
   "metadata": {},
   "source": [
    "### 🎉 Conclusion:\n",
    "Congratulations! You have successfully automated the process of creating custom and personalised voiceovers based on a simple prompt and raw video footage using VideoDB, ChatGPT, and ElevenLabs. By leveraging advanced AI technologies, you can enhance the storytelling and immersive experience of your video content. Experiment with different prompts and scene analysis techniques to further improve the quality and accuracy of the voiceovers. Enjoy creating captivating narratives with AI-powered voiceovers using VideoDB! We're excited to see your creations so you're welcome to share them on our Discord channel [here](https://discord.com/invite/py9P639jGz) "
   ]
  },
  {
   "cell_type": "markdown",
   "metadata": {},
   "source": []
  }
 ],
 "metadata": {
  "kernelspec": {
   "display_name": ".venv",
   "language": "python",
   "name": "python3"
  },
  "language_info": {
   "codemirror_mode": {
    "name": "ipython",
    "version": 3
   },
   "file_extension": ".py",
   "mimetype": "text/x-python",
   "name": "python",
   "nbconvert_exporter": "python",
   "pygments_lexer": "ipython3",
   "version": "3.11.7"
  }
 },
 "nbformat": 4,
 "nbformat_minor": 2
}
