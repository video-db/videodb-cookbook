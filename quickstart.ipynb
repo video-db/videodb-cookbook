{
 "cells": [
  {
   "cell_type": "markdown",
   "metadata": {},
   "source": [
    "### VideoDB QuickStart \n",
    "\n",
    "<a href=\"https://colab.research.google.com/github/video-db/videodb-cookbook/blob/main/quickstart/quickstart.ipynb\" target=\"_parent\"><img src=\"https://colab.research.google.com/assets/colab-badge.svg\" alt=\"Open In Colab\"/></a>\n",
    "\n",
    "This notebook is designed to help you get started with [VideoDB](https://videodb.io). "
   ]
  },
  {
   "cell_type": "markdown",
   "metadata": {},
   "source": [
    "<div style=\"height:40px;\"></div>\n",
    "\n",
    "### Setup\n",
    "---  "
   ]
  },
  {
   "cell_type": "markdown",
   "metadata": {},
   "source": [
    "\n",
    "##### 🔧 Installing VideoDB in your environment\n",
    "\n",
    "VideoDB is available as [python package 📦](https://pypi.org/project/videodb)  "
   ]
  },
  {
   "cell_type": "code",
   "execution_count": null,
   "metadata": {},
   "outputs": [],
   "source": [
    "!pip install videodb "
   ]
  },
  {
   "cell_type": "markdown",
   "metadata": {},
   "source": [
    "##### 🔗 Setting Up a connection to db\n",
    "To connect to VideoDB, simply create a `Connection` object. \n",
    "\n",
    "This can be done by either providing your VideoDB API key directly to the constructor or by setting the `VIDEO_DB_API_KEY` environment variable with your API key. \n",
    "\n",
    ">💡\n",
    ">Get your API key from [VideoDB Console](https://console.videodb.io). ( Free for first 50 uploads, No credit card required ) 🎉."
   ]
  },
  {
   "cell_type": "code",
   "execution_count": 54,
   "metadata": {},
   "outputs": [],
   "source": [
    "from videodb import connect, play_stream\n",
    "conn = connect(api_key=\"\")"
   ]
  },
  {
   "cell_type": "markdown",
   "metadata": {},
   "source": [
    "<div style=\"height:40px;\"></div>\n",
    "\n",
    "### Working with a single Video\n",
    "---"
   ]
  },
  {
   "cell_type": "markdown",
   "metadata": {},
   "source": [
    "<div style=\"height:10px;\"></div>\n",
    "\n",
    "##### ⬆️ Uploading a video\n",
    "Now that you have established a connection to VideoDB, you can now upload your videos using `conn.upload()`.\n",
    "\n",
    "You can upload your media by a `url` or from your `local file system` \n",
    "\n",
    "`upload` returns a `Video` Object, which can be used to access video"
   ]
  },
  {
   "cell_type": "code",
   "execution_count": 55,
   "metadata": {},
   "outputs": [],
   "source": [
    "#Upload a video by url\n",
    "video = conn.upload(url=\"https://www.youtube.com/watch?v=vZ4kOr38JhY\")"
   ]
  },
  {
   "cell_type": "markdown",
   "metadata": {},
   "source": [
    "<div style=\"background-color: #ffffcc; color: black; padding: 10px; border-radius: 5px;\">\n",
    "VideoDB simplifies your upload by supporting links from Youtube, S3 or any Public URL with video\n",
    "</div>"
   ]
  },
  {
   "cell_type": "markdown",
   "metadata": {},
   "source": [
    "<div style=\"height:15px;\"></div>\n",
    "\n",
    "##### 📺 Viewing your video\n",
    "\n",
    "Your video is instantly available for viewing 720p resolution ⚡️\n",
    "\n",
    "* Generate a streamable url for video using `video.generate_stream()` \n",
    "* Preview the video using Video.play(). This will open the video in your default browser/notebook.\n",
    "\n",
    "<div style=\"background-color: #ffffcc; color: black; padding: 10px; border-radius: 5px;\">\n",
    "    <strong>Note:</strong>if you are viewing this notebook on github, you won't be able to see iframe player, because of security restrictions. <br> \n",
    "    Please open the printed link of player in your browser</div>\n"
   ]
  },
  {
   "cell_type": "code",
   "execution_count": 56,
   "metadata": {},
   "outputs": [
    {
     "data": {
      "text/plain": [
       "'https://console.videodb.io/player?url=https://d27qzqw9ehjjni.cloudfront.net/v3/published/manifests/ab9d1cac-b340-4ca6-82b2-c6c6692b9329.m3u8'"
      ]
     },
     "execution_count": 56,
     "metadata": {},
     "output_type": "execute_result"
    }
   ],
   "source": [
    "video.generate_stream()\n",
    "video.play()"
   ]
  },
  {
   "cell_type": "markdown",
   "metadata": {},
   "source": [
    "##### ✂️ Get Specific Sections of videos\n",
    "\n",
    "You can easily clip specific sections of a video by passing timeline  of start and end sections. It accepts seconds.   \n",
    "For example Here’s we are streaming only first 10 seconds and then 120 to 140 second of uploaded video"
   ]
  },
  {
   "cell_type": "code",
   "execution_count": 57,
   "metadata": {},
   "outputs": [
    {
     "data": {
      "text/plain": [
       "'https://console.videodb.io/player?url=https://d27qzqw9ehjjni.cloudfront.net/v3/published/manifests/232cfe61-a111-409f-b17f-17124603c811.m3u8'"
      ]
     },
     "execution_count": 57,
     "metadata": {},
     "output_type": "execute_result"
    }
   ],
   "source": [
    "stream_link = video.generate_stream(timeline=[[0,10], [120,140]]) \n",
    "play_stream(stream_link)"
   ]
  },
  {
   "cell_type": "markdown",
   "metadata": {},
   "source": [
    "<div style=\"height:15px;\"></div>\n",
    "\n",
    "##### 🔍 Searching inside a video\n",
    "To search bits inside a video — you  have to index the video first. This can be done by a simple command.\n",
    "`video.index_spoken_words()`\n",
    "\n",
    "<div style=\"background-color: #ffffcc; color: black; padding: 10px; border-radius: 5px;\">\n",
    "    <strong>Note:</strong>Index may take time for longer videos</div>"
   ]
  },
  {
   "cell_type": "code",
   "execution_count": 58,
   "metadata": {},
   "outputs": [],
   "source": [
    "video.index_spoken_words()"
   ]
  },
  {
   "cell_type": "markdown",
   "metadata": {},
   "source": [
    "**Searching inside video**:  \n",
    "  \n",
    "Search can peformed on indexed video using `video.search()`"
   ]
  },
  {
   "cell_type": "code",
   "execution_count": 59,
   "metadata": {},
   "outputs": [
    {
     "data": {
      "text/plain": [
       "'https://console.videodb.io/player?url=https://d27qzqw9ehjjni.cloudfront.net/v3/published/manifests/17474b1c-82e2-4da8-ba27-da44587b1dc6.m3u8'"
      ]
     },
     "execution_count": 59,
     "metadata": {},
     "output_type": "execute_result"
    }
   ],
   "source": [
    "result = video.search(\"How to control sugar cravings?\")\n",
    "result.play()"
   ]
  },
  {
   "cell_type": "markdown",
   "metadata": {},
   "source": [
    "##### 📺 Viewing Search Results :\n",
    "\n",
    "`video.search()` will return a SearchResults object, which contains the sections/shots of videos which semantically match your search query\n",
    "\n",
    "* `result.get_shots()` - Returns a list of Shot that matched search query\n",
    "* `result.play()`  - This will open the video in your default browser/notebook"
   ]
  },
  {
   "cell_type": "markdown",
   "metadata": {},
   "source": [
    "##### 🗑️ Cleanup\n",
    "You can delete the video from database using `video.delete()`"
   ]
  },
  {
   "cell_type": "code",
   "execution_count": 60,
   "metadata": {},
   "outputs": [],
   "source": [
    "video.delete()"
   ]
  },
  {
   "cell_type": "markdown",
   "metadata": {},
   "source": [
    "<div style=\"height:40px;\"></div>\n",
    "\n",
    "### RAG: Working with Multiple Videos\n",
    "---\n",
    "`VideoDB` can store and search inside multiple videos with ease.  \n",
    "By default, videos are uploaded to your default collection."
   ]
  },
  {
   "cell_type": "markdown",
   "metadata": {},
   "source": [
    "<div style=\"height:15px;\"></div>\n",
    "\n",
    "##### 🔄 Using Collection to upload multiple Videos"
   ]
  },
  {
   "cell_type": "code",
   "execution_count": 61,
   "metadata": {},
   "outputs": [
    {
     "data": {
      "text/plain": [
       "Video(id=m-6d1b1bf6-a2ba-4786-a3a8-8efbabfee28c, collection_id=c-a2dc1100-1faa-4394-803c-ca808da09c47, stream_url=https://d27qzqw9ehjjni.cloudfront.net/v3/published/manifests/4e41464d-0ca6-40da-86f7-3e803ff8d840.m3u8, player_url=https://console.videodb.io/player?url=https://d27qzqw9ehjjni.cloudfront.net/v3/published/manifests/4e41464d-0ca6-40da-86f7-3e803ff8d840.m3u8, name=AMA #3: Adaptogens, Fasting & Fertility, Bluetooth/EMF Risks, Cognitive Load Limits & More, description=None, thumbnail_url=None, length=1921.2193)"
      ]
     },
     "execution_count": 61,
     "metadata": {},
     "output_type": "execute_result"
    }
   ],
   "source": [
    "# Get a collection\n",
    "coll = conn.get_collection()\n",
    "\n",
    "# Upload Videos to a collection\n",
    "coll.upload(url=\"https://www.youtube.com/watch?v=lsODSDmY4CY\")\n",
    "coll.upload(url=\"https://www.youtube.com/watch?v=vZ4kOr38JhY\")\n",
    "coll.upload(url=\"https://www.youtube.com/watch?v=uak_dXHh6s4\")"
   ]
  },
  {
   "cell_type": "markdown",
   "metadata": {},
   "source": [
    "* `conn.get_collection()` : Returns Collection object, the default collection\n",
    "* `coll.get_videos()` : Returns list of Video, all videos in collections\n",
    "* `coll.get_video(video_id)` : Returns Video, respective video object from given video_id\n",
    "* `coll.delete_video(video_id)` : Deletes the video from Collection"
   ]
  },
  {
   "cell_type": "markdown",
   "metadata": {},
   "source": [
    "<div style=\"height:15px;\"></div>\n",
    "\n",
    "##### 📂 Search on Multiple Videos from a collection\n",
    "\n",
    "You can simply Index all the videos in a collection and use search method on collection to find relevant results.   \n",
    "Here we are indexing spoken content of a collection and searching \n",
    "\n",
    "<div style=\"background-color: #ffffcc; color: black; padding: 10px; border-radius: 5px;\">\n",
    "    <strong>Note:</strong>Index may take time for longer videos</div>"
   ]
  },
  {
   "cell_type": "code",
   "execution_count": 62,
   "metadata": {},
   "outputs": [
    {
     "name": "stdout",
     "output_type": "stream",
     "text": [
      "Indexed AMA #3: Adaptogens, Fasting & Fertility, Bluetooth/EMF Risks, Cognitive Load Limits & More\n",
      "Indexed AMA #1: Leveraging Ultradian Cycles, How to Protect Your Brain, Seed Oils Examined and More\n",
      "Indexed AMA #2: Improve Sleep, Reduce Sugar Cravings, Optimal Protein Intake, Stretching Frequency & More\n"
     ]
    }
   ],
   "source": [
    "for video in coll.get_videos():\n",
    "    video.index_spoken_words()\n",
    "    print(f\"Indexed {video.name}\")"
   ]
  },
  {
   "cell_type": "markdown",
   "metadata": {},
   "source": [
    "**Searching Inside Collection** :   \n",
    "  \n",
    "Search can peformed on collection using `coll.search()`"
   ]
  },
  {
   "cell_type": "code",
   "execution_count": 66,
   "metadata": {},
   "outputs": [
    {
     "data": {
      "text/plain": [
       "'https://console.videodb.io/player?url=https://d27qzqw9ehjjni.cloudfront.net/v3/published/manifests/fdd420dd-b104-43dd-9a0f-d3f0afd5b718.m3u8'"
      ]
     },
     "execution_count": 66,
     "metadata": {},
     "output_type": "execute_result"
    }
   ],
   "source": [
    "# search in the collection of videos\n",
    "results = coll.search(query = \"Deep sleep\")\n",
    "results.play()"
   ]
  },
  {
   "cell_type": "code",
   "execution_count": 67,
   "metadata": {},
   "outputs": [
    {
     "data": {
      "text/plain": [
       "'https://console.videodb.io/player?url=https://d27qzqw9ehjjni.cloudfront.net/v3/published/manifests/60cc252f-abf9-497d-93db-0a53dbffdcf0.m3u8'"
      ]
     },
     "execution_count": 67,
     "metadata": {},
     "output_type": "execute_result"
    }
   ],
   "source": [
    "results = coll.search(query= \"What are the benefits of morning sunlight?\")\n",
    "results.play()"
   ]
  },
  {
   "cell_type": "code",
   "execution_count": 68,
   "metadata": {},
   "outputs": [
    {
     "data": {
      "text/plain": [
       "'https://console.videodb.io/player?url=https://d27qzqw9ehjjni.cloudfront.net/v3/published/manifests/9f690de4-758e-4ac8-9316-916a30e01e72.m3u8'"
      ]
     },
     "execution_count": 68,
     "metadata": {},
     "output_type": "execute_result"
    }
   ],
   "source": [
    "results = coll.search(query= \"What are Adaptogens?\")\n",
    "results.play()"
   ]
  },
  {
   "cell_type": "markdown",
   "metadata": {},
   "source": [
    "##### 📺 Viewing Search Results :\n",
    "\n",
    "`video.search()` will return a SearchResults object, which contains the sections/shots of videos which semantically match your search query\n",
    "\n",
    "* `result.get_shots()` - Returns a list of Shot that matched search query\n",
    "* `result.play()`  - This will open the video in your default browser/notebook"
   ]
  },
  {
   "cell_type": "markdown",
   "metadata": {},
   "source": [
    "<div style=\"background-color: #ffffcc; color: black; padding: 10px; border-radius: 5px;\">\n",
    "As you can see VideoDB fundamentally removes the limitation of files and gives you power to access and stream videos in a very seamless way. Stay tuned for exciting features in our upcoming version and keep building awesome stuff with VideoDB 🤘\n",
    "</div>"
   ]
  },
  {
   "cell_type": "markdown",
   "metadata": {},
   "source": [
    "### 🌟 Explore more with Video object\n",
    "There are multiple methods available on a Video Object, that can be helpful for your use-case."
   ]
  },
  {
   "cell_type": "markdown",
   "metadata": {},
   "source": [
    "##### Access Transcript"
   ]
  },
  {
   "cell_type": "code",
   "execution_count": 29,
   "metadata": {},
   "outputs": [
    {
     "name": "stdout",
     "output_type": "stream",
     "text": [
      "Welcome to the huberman Lab podcast who we discussed science science basic tools for everyday life. I'm Andrew huberman, and I'm a professor of neurobiology and Ophthalmology at Stanford school of medicine. Today is an ask me anything or AMA episode which is part of our premium subscriber content. Our premium channel was launched in order to raise support for the standard human Life podcast Channel which still comes out once a week every Monday. And of course is zero cost of consumer. The premium channel is also designed to support exciting research being done at major universities like Stanford and elsewhere research that done on humans that should lead to protocols for mental health physical health and performance in the near future. If you'd like to check out the premium channel subscription model, you can go to huberman live.com slash premium and there you can Guy for $10 a month or $100 a year. We also have a lifetime subscriber option. For those of you that are already huberman Lab podcast premium subscribers and you're watching and or hearing this, please go to huberman lab.com premium and download the premium podcast feed. And for those of you that are not already here in lab premium podcast subscribers, you will be able to hear the first 15 minutes or so of this episode and hopefully that will allow you to discern whether or not you would like to become a premium subscriber without further Ado. Let's get to answering your questions. And as always I will strive to be as accurate as possible as thorough as possible and yet as concise as possible, the first question today is about adaptogens. Some of you may have heard of it out to Jen's I'm guessing many of you have not heard of adaptogens. The strict definition of adaptogens is still evolving meaning no one really knows what adaptogen Water soluble vitamins and maybe even storing excess amount of the fat-soluble vitamins in a way that's unhealthy or not cost effective and so on. When we talk about supplements, yes, it can include vitamin supplements. However, there are many compounds that we would describe as supplements that are not vitamin supplements and that you could not obtain from food or that you could never obtain from food and sufficient enough qualities to have a robust positive biological effect without consuming enormous number of calories are overriding your your gut mechanically for instance. If there were say a herb and we'll talk about such herbs in a moment that contained an effective adaptogen but you would never want to eat the plant itself or include that herb in any kind of recipe will then chances are this herb, which was it? In a moment is not a vitamin supplement. It is probably not even best thought of as a supplement is best thought of as a compound that sold over-the-counter much like a prescription drug. Although it's not prescription. It doesn't require a prescription to get it. So they're a lot of things like that that we include Under the Umbrella of this word supplements and unfortunately because of that a lot of people to go you don't need supplements and of course, you don't need supplements per se but many people do derived from its benefit from them in the context of adaptogens there two or three in particular that can be very beneficial for buffering the stress response, especially over short periods of time of about 2 to 3 weeks. So when would you use is well, for instance? If you are in a particularly stressful mode of life either because of family or relational or school or work demands our new kid in the house or any number of different things. So you've been ill are you recovering from injury taking it in the DAP tudzin in the form of supplement can actually be very useful for buffering this hormone and the general systems is associated with called cortisol. It's very healthy to have high levels of cortisol early in the day shortly after you wake up and then that ought to taper off for the afternoon and evening. However, if cortisol is chronically elevated throughout the day or if that pecan cortisol is arriving too late in the day that is known to be associated with mental health and physical health issues has been shown by Labs at Stanford and elsewhere and show up in animal models and in humans talked many times before and I'll just remind you again one of the best ways to restrict that cortisol Peak to the early part of the day is to get morning sun light in your eyes as soon as you can once the Sun is up hit outside face in the directions son even on overcast days. Wear sunglasses look at it for 5 to 30 minutes definitely blink. So you don't damage your eyes so on and so forth y 5 minutes or 30 minutes 15 minutes on a clear day should be sufficient longer would be fine again link so that you'd protect your eyes blink as needed facing the general direction the sun on days when you have a lot of overcast or it's really dark dense cloud cover will then you want to be outside longer and if you don't have access to sunlight for whatever reason you want to do the same thing with bright artificial lights indoors other so-called saddle a otherwise that's a great way to restrict that cortisol pee too early in the day. But even if you're doing that if you have a stressful life for whatever reason even if you're getting that morning sunlight, which I hope you are you getting your exercise to trying to sleep better and more as we all should most of the time well, then you're you maybe somebody who wants to take a Adaptogen in the form of a supplement and the three supplements that can be very effective in buffering cortisol or ashwagandha, which I'll talk about first lion's mane and chaga lines meaning jog are in the fungi group. So they count as mushrooms are not psychedelic mushrooms. Let's talk about ashwagandha first ashwagandha is at the top of the list because it is indeed a very potent adaptogen. How can I say that? Well, there are number of studies now including several excellent ones in humans that report that taking two doses of 300 mg of ashwagandha per day can vary dramatically buffer cortisol. So this is something that you would have a near-impossible Time accessing from food. I can't imagine that unless your cookie. With a very sources of ashwagandha in extracting exact amount that you be able to get this in any other form except supplement form. So I just briefly reference a paper and we can provide a reference to a reference to the status. This is write a paper from 2012 that had a lot of excellent follow-up papers that support it. The title of the paper is a prospective randomized double-blind placebo-controlled study of safety and efficacy of high concentration of full spectrum extract of ashwagandha root in reducing Stress and Anxiety in adults, and it's a really nice study. Not a huge subject for both men and women and is carried out for long enough that they got to see some really interesting results send it the I think the the most interesting result is that taking 300 mg of ashwagandha twice a day led to enormous. I mean just enormous changes in serum. Is all the statistical significance that they observed in the study was really a fantastic fantastically High statistical significance. They saw the effects of ashwagandha on day 15 having initiated the the ashwagandha consumption on on day one, of course day 30 and a 45. And again, this was dramatic reductions in stress as perceived by people. So subjective stress and cortisol levels of ashwagandha is very potent at reducing cortisol. How would you recapitulate this if you wanted to use ashwagandha to buffer stress or a couple of key Point mentioned earlier that you want your cortisol Peaks come earlier in the day. Therefore you would not want the buffer cortisol early in the day. In fact cortisol peaking early in the day provides an anti-inflammatory. Immune supporting focus and mood supporting effect all day long. So I would recommend that people take their first dose of ashwagandha of anywhere from 250 to 300 mg sometime in the early afternoon. And then again in the evening as opposed to taking a morning dose in an afternoon dose. Also if you're somebody who's exercising for sake of trying to induce adaptation like hypertrophy the growth of muscles or strength or improve your endurance in any way muscular endurance or more traditional cardiovascular endurance. Then I recommend that you not take your ashwagandha prior to exercise because part of the adaptation response is triggered by increases in cortisol during exercise stored in the same way that some of the best adaptations exercise of reductions in blood pressure and resting heart. And those are stimulated by increases in blood pressure and increases in heart rate during exercise. That's just how these biological systems work. So the takeaway is pretty simple. If you're interested in using ashwagandha has an adaptogen I would restrict it to later in the day if you can and not before exercise divided into two doses of 250 to 300 mg this paper and other papers like it it seemed to indicate and then a very important final point about ashwagandha, which is that if you're going to take ashwagandha, I recommend not taking it for longer than a month and a half as they did in this study. In fact, I was suggest that you only take ashwagandha around periods of moderate to extreme stress. What's moderate what's extreme is going to depend on what you're going through only, you know, how much stress and life events you can tolerate so if you had trouble sleeping and that's on you. For you you're dealing with a very difficult life circumstances or excessive work demandar a new kid as I mentioned before it will then buffering stressed with ashwagandha buffering cortisol in the afternoon and evening to be very beneficial for you. But then I would say after about 30 days maximum. I would take at least 2 to 4 weeks off 2 weeks is probably enough but four weeks off if you don't want the chronically buffer cortisol, it's just not a good idea. But that said I think I forgot is a very powerful adaptogen place at the top of the list of supplement base adaptogens. But keep in mind that even if you're taking a selfie on the base adaptogen, that's no reason to abandon the nutrition and behavioral type adaptogenic effects that you can create through eating dark leafy greens cruciferous vegetables, and we'll talk about the haters in the moment. The other supplement base adaptogens as I mentioned. Mean and what's included an adaptogen and what's excluded from adaptogens? But the most common definition of an adaptogen is a compound that is typically a supplement or a drug. Although it could be a behavior. If you really think about it that helps you adapt to and buffer stress. So when you hear about adaptogen, there's three main categories of adaptogens that come to mind the first or things that are contained in food. So these would be vitamins are micronutrients that one could easily find in food, but one would have to consume a fairly restricted number or type of foods in order to obtain those things or consume a lot of those Foods in order to get sufficient dosages of those adaptogen compound in order to buffer stress some good examples of be any kind of vibe. Are lion's mane mushroom and chaga and I get asked a lot about lion's mane and shagga for sake of their purported roles in acting is nootropics US couldn't go smart drugs. There are fewer data on the beneficial rolls of lines mean in chaga for sake of nootropic effects entire episode on nootropics at some point, but there have been a few studies showing that lines made and supplementation in chaga supplementation can improve memory and maybe even Divergent thinking associate with Craig creativity and things of that sort of these are not psychedelic mushrooms that said there are good data showing that 1000mg. That is 1 G of lion's mane per day. Endor okay, these I will talk about the end or poor. In a moment and or chaga mushroom at 500 to 1500 mg per day can act as adaptogens in again reducing. Cortisol, but also and mainly reducing some of the anti inflammatory cytokines that are known to circulate in high abundance when you're under a lot of psychological and or physical stress things, like interleukin-6 and some related molecules. So here's what I would recommend if you are interested in exploring adaptogens. I'm a big fan of some of you probably know if you heard that episode on rational guy just up limitation. I'm a big fan of mainly focusing on taking supplements in single-ingredient formulations so that you can figure out what dosages are best for you. And so you can toggle in and out those adaptogens as needed. So I have course Emma fan. In certain Blends in mixes, the one that we talked about a lot on this podcast have been a sponsor for the beginning of Taken for a decade. Now long before I ever had a podcast is that let it greens which some of you might know does contain some ashwagandha, although the levels of ashwagandha that are containing athletic greens are low enough that I don't see any issue with taking the athletic greens consistently day today every day because you're not getting anywhere near that 600 mg dosage, but the idea is that if you were going to take any adoption for sake of buffering stress over the short-term stay for a week or two weeks or a month and then taking that I recommended time off I would start with ashwagandha. And then if you feel you need something else to buffer stress keeping mine, of course that you're doing the behavioral in the nutritional things to buy for stress is why you can never abandon those right? Well, then I would suggest a die. 1000mg or 1,000 mg of chaga per day and seeing how that further benefits your your system in terms of buffering stress. How do you measure if your stress is being reduced? Well, you're going to be sleeping better at night. You're going to feel subjectively better lower levels of anxiety all the things that are measured in the types of studies. I just grab before of course, there's nothing preventing you from taking 600 mg of ashwagandha a gram of lion's mane and a gram of chalk. I know some people like to just kind of Go full tilt and everything but I am a big believer in really trying to isolate which supplements in molecules work best for you. And which ones don't do you need to cycle on and off lion's mane in chaga. I'm not aware of any data showing that you do if however you're taking them everyday. I recommend that you cycle off them after a period of 30 days or so. And I want to be very clear about this just because I said cycle off after a period of 30 days or so does not mean that you can't take them for a shorter period of time. So for instance, if you know that you're coming up on a big week of stress. Well, then you could take ashwagandha and or lion's mane and or chaga for that week or just a tweaker heading into that week or in the following week and then stop there's no reason why you couldn't take them even just for one day. I'll do that the effects tend to be a bit cumulative at least when we're talking about buffering anxiety in terms of buffering cortisol. That's a very potent affected as far as we know is going to take place on day one keep that cortisol buffering effect away from exercise at least don't take it before exercise and try and buffer your cortisol in the afternoon and evening in this is assuming that you're working a conventional shift and you're not up all night and sleeping all For sake of of shift work, so hopefully that clarifies things about what adaptogens are. In fact, I never actually read the specific question, but I think I've touched on a number of issues that relate to this specific question and then I'll answer the last portion of the answer this question in the moment as it relates to behavioral tools that can act as adaptogen. The question itself was there's a lot of mixed information about out there about adaptogens like ashwagandha in it. I think that relates to what I said earlier, which is the definition of an adaptogen has not really been cemented in various communities. It's different in different communities and it's generally used as a matter of convenience rather than really strictly defining what it is and hopefully we've defined it accurately and and broadly enough today or something that buffers stress on the second part of the question was what does Find a picture of it and say about adoption to their ability to mediate body stress response. They said quite a lot and they they say that the stress response can be Bufford substantially by certain adaptogens mainly dark leafy greens cruciferous vegetables, ashwagandha lines mean in chaga and of course all the behavioral things that are critical to a list off in the moment. And then the third portion of the question is is there any solid evidence that has an effect on neurotransmitters or the HP a which is part of the stress modulation access. The best evidence is that adaptogen can reduce cortisol itself. There is very little evidence that adaptions can directly modulating neurotransmitters or neuromodulators like dopamine serotonin etcetera, but by adjusting the timing and levels of cortisol, especially in the afternoon and evening. that Going to have indirect effects on levels of dopamine norepinephrine Etc and serotonin but not Direct effects. So the general Contour that makes for an ideal diurnal schedule a herd of nocturnal the opposite of diurnal being awake during the daytime and sleep at night be ideal and a landscape of neurotransmitters is higher levels of dopamine norepinephrine and epinephrine in the early part of day and cortisol so-called catecholamine dopamine norepinephrine and epinephrine and high levels of cortisol early in the day as directed by sunlight exercise caffeine hydration movement, all that stuff being awakened busy and outside or indoors with bright lights and moving about in the early part of the day and into the early afternoon. That's the best possible way that we are aware of to try and get those catecholamines released at the highest levels in the early part of the day and then the ideal Contour A 24-hour cycle be in the later half of the day the evening and night time you have higher levels of things like serotonin the Gaborik system all the things that are somewhat sedative and preparing you for sleep and lower levels of the catecholamines and cortisol as I described before so to directly answer the question. Is there any evidence that adaptogens can alter your neurotransmitters? Yes, but only indirectly and yeah that indirect control over the neurotransmitters is substantial and is important and if you do what I described such as getting morning sunlight and ideally you'd get a little bit of delivery Coldwater exposure by the way to boost adrenaline and norepinephrine and dopamine those catecholamines early in the day. So quick one minute cold shower, even or 3 minutes called shower you have access to a nice bath early in the day plus some sunlight doesn't matter which one you do first. Do not really in the day is really going to Great at Peak of cortisol dopamine epinephrine early in the day. I can't emphasize how beneficial all of that can be an exercise if you can or early in the day. Some people can't exercise till later in the day. I'd rather see exercise later in the day, but not at all provided. It does not disrupt their nighttime sleep. Your course sleep is the foundation of mental health physical health and performance. So yes, there's modulation or no transmitters, but most of those are Downstream of the effects of cortisol that we've been talking about. So we've defined nutritional adaptogens supplement base adaptogens. Although I don't really like the word supplements anymore unless we talked about vitamin supplements for reasons. We talked about earlier and then there's the third category of adaptogens which are the behavioral tools that you can use to buffer stress which qualifies those as an adaptogen. I think it's really important that we always keep in mind that yes, there are supplements. Yes, they're prescription drugs out there and back. Either water soluble or fat soluble that can adjust to reduce what are so-called reactive oxygen species. And then that's what gives rise to this idea that antioxidants are good for us now over the last 10 years or so. There's been a shift what shift has occurred well about 10 years ago you often heard about antioxidant antioxidant antioxidant vitamins antioxidants in this food this super food at cetera. And why were people talk to you about antioxidants will just remind you reactive oxygen species are types of reactions and molecules that occur in cells when cells get stressed and or age and antioxidants are the compounds that reduce does reactive oxygen species reactive oxygen species are bad for cells because they tend to hinder the function of mitochondria with your associate. Their prescription drugs that you can get from a doctor that will potent Lee zero out your cortisol, but most doctors are very reluctant to prescribe those drugs because cortisol provides a very important functional role early in the day. Behaviors are very effective at reducing cortisol. What are the most effective behaviors to reduce cortisol? Well, we talked about 1 to restrict cortisol the early part of the day, which is viewing morning sunlight. But how would you buffer cortisol in the late afternoon? It's going to be all the things associated with reducing stress for instance 10 minutes or even my laboratory. Another Laboratories have shown its even five minutes a day of just what would be called mindfulness meditation very simple. You don't need to over-complicate this you could use a great app like the waking up app or another app with a sort or you can simply sit. No, nice clothes breathe through your nose and just concentrate on your breathing everytime your mind drift to something else bring it back to your breathing that's shown to reduce stress. You could do a five-minute delivered breathwork practice. My laboratory is published and work related to that. The breathwork practice could be any number of things the two that I recommend the most will be double in Hell Followed by a full XL and then repeat for a 25 minutes known to substantially reduce anxiety stress and the various physiological systems associated with arousal. You could also use box breathing inhale. Hold XL hold for equal duration for a period of five minutes will substantially reduce stress. I'm a big fan as many of you know of Yoga Nidra which involves no movement. It involves. Just lying there listening to a script lots of yoga need your scripts available online if you're not interested in the intentions and other things including Yoga Nidra you can buff. Stress using an adaptogen like nstr non sleep deep breath. If you're interested in trying these sorts of things. There's a n s Dr. Protocol that 10 minutes long to put my name huberman and nsdr into the search browser on YouTube and virtuous and is provided in Tennessee are that's completely zero cost and works very well for reducing stress. It will also help teach your system and teach you how to learn to fall asleep better at night. So any of those practices 5 to 10 minutes reading practice or meditation or a n s Dr. Yoga Nidra me if you can do longer 20 or 30 minutes in the afternoon, that's a known to buffer cortisol substantially as well anytime you're in town during stress in real time. I highly recommend a tool over and over because it's so effective the fastest way we know to buffer stress and calm down is the Uso. Physiological side big inhale through the nose. So your lungs or empty but then sneak in a little bit more air b a s inhale Maxima inflate the lungs than a long XL until your lungs or empty. One two, three of those will reduce your stress substantially over time that should reduce that is buffer. Your cortisol acting is an adaption a lot of things. You could take a hot bath and a hot shower. You can listen to some pleasant music anything that reduces your stress technically is an adaptogen. So I hope I've thoroughly I answered your question by yours. I mean this corset answer is going out to all of you. This is a question that was asked by Justine. Bevilacqua. I hope I pronounce that correctly Justine. I meant thank you for that question. I think a lot of people interested in the Dapper gents. So now, you know, you can use nutrition such as cruciferous vegetables dark leafy greens and I should also mention if you're not ingesting enough calories. Stay well. Then you are going to be in a mild mode of stress. That's not to say that was some people shouldn't take in fewer calories than they burn in order to lose weight. Some people really need to do that for their health or for whatever other reason but if you restrict calories too much you are going to increase cortisol output. So keep that in mind. So it just sufficient calories for you and for your goals and to get dark leafy greens and cruciferous vegetables don't overcook them. If you want to explore supplements, the best supplements. The actors adaptogens are going to be ashwagandha lines mean in chaga one or two or three of those although if you're going to pick one, I'd recommend ashwagandha 600 mg per day taken in later half a day and then they're the behavioral tools that we just talked about now, which are anything that reduces stress can reduce cortisol. And in doing so are technically adaptogen if you want to know more behavioral tools and other tools for adjusting stress and learn more about adaptions. We did a whole episode called mastering stress. You can look to that it that episode also pretty clearly defines. I I like to think what short-term medium-term and long-term stress really are keeping mine stress is part of life learning how to work with it how to dance with it had a buffer it is terrific but zeroing out cortisol is not the goal. The goal is to learn to modulate and control your cortisol. And that's really what adaptations are all about. Thank you for joining for the beginning of this ask me anything episode to hear the full episode and to hear future episodes of these ask me anything sessions plus to receive transcripts of them and transcripts of the human Lab podcast standard Channel and premium tools not released anywhere else, please go Doberman Lab, premium just remind you why we launched the human Lab podcast premium channel truly to fold. First of all is to raise support for the standard huberman Lab podcast Channel, which of course will still be continued to be released every Monday in full length. We are not going to change the format or anything about the standard huberman Lab podcast and the fund research in particular research done on human beings are not animal models butt on human beings, which I think we all agree that species that we are most interested in and we are going to specifically fund research that is aimed toward developing further protocols for mental health physical health and performance and those protocols will be distributed through all channels. Not just the premium channel, but through all channels here in the lab podcast and other media channels. The idea here is to give you information to your burning question in And allow you the opportunity to support the kind of research that provides those kinds of answers in the first place now and especially exciting feature. The premium channel is that the tiny Foundation has generously offered to do a dollar-for-dollar match on all funds raised for research through the premium channel is this is a terrific way that they're going to amplify whatever funds come in through the premium channel to further support research for Science and science related tools for mental health physical health and performance. If you like to sign up for the human lab premium channel again, there's a cost of $10 per month or you can pay $100 up front for the entire year that will give you access to all the anime's you can ask questions and get answers to your question and you'll of course get answers to all the questions of other people ask as well. There will also be some premium content such as transcripts of the amas and various transcription Protocols of huberman iPod. Last episodes not found elsewhere. And again, you'll be supporting research for mental health physical health and performance. You can sign up for the premium channel by going to huberman lab.com premium. Again, that's hubermann lab.com premium, and as always thank you for your interest in science. Energy production in those cells. So what do we know for sure, we know that as cells get older or as any seller biological system organ tissue Etc get stressed a lot over time the number of reactive oxygen species increases in those cells and tissues and organs and antioxidants which can include certain vitamins, but also some micronutrients are effective in reducing those reactive oxygen species know what occurred over the last 10 years is that we know that reactive oxygen species are a major source of depleting cellular function by way of depleting mitochondrial function, but they are just one of many mechanisms that can deplete seller function mitochondrial function. So nowadays, you'll hear about reactive oxygen species and antioxidants, but not as much as you used to now you hear a lot more about Tori responses and inflammatory cytokines also being an issue and the truth is all of these things are an issue. So going back to this question about adaptogens adaptogen include these three categories. I told you the first which are the vitamins and micronutrients that are contained in food that can reduce reactive oxygen species and other aspects of seller stress such as inflammatory cytokines. What are some of those things that occur in Foods wealth nor to answer that. Let's just think about what sorts of foods themselves can act as a Dapper Gents. It's commonly held that the dark leafy greens type foods. For those of you that eat plants. I think the majority of people out there do wheat plants. I know that the carnivore diet and lion diet and some mother died ten decks good plan. So it will address that in briefly at some point. I'm in today's discussion. Dark leafy greens are known to contain a number of compounds in the form of vitamins and micronutrients that are very effective in reducing reactive oxygen species and inflammatory cytokines. So if you're someone who's interested in adaptogens and adaptogenic process is reducing stress and buffering stress, which of course has its role in buffering daily stress in order to help you sleep better to improve cellular function for longevity Sports Performance cognitive performance. That is all good. And it makes sense why people would be interested in adaptogens. But remember that the two main adaptogen that you should think to First are going to be behaviors and nutrition. I started with nutrition on purpose as much will get the behaviors in the moment. So if you're interested in adaptogens at all, I highly recommend that you include at least two to four servings of dark leafy greens and Cruciferous vegetables per day going to be highly advantageous and just be aware that excessively heating dark leafy greens are cruciferous vegetables can actually destroy the very nutrients are micronutrients that I can an adaptogenic wake that does not mean that you need to eat raw broccoli or cauliflower. Just a thought of that makes me nauseous. It's very hard to digest some people might like that or can digest it. I'm more easily than others. So it's perfectly fine to cook your cruciferous vegetables and dark leafy greens, but you don't want to overcook them. What's overcooking and what's under cooking and there's no strict cut off in terms of temperature. But basically what the literature says that if you keep vegetables to the point where the colored fluid is leaking out of them into a broth type, you know into water or whatever fluid surrounds them. Well, then you'd be well off to ingest that Good as well because it contained in the water where the fluid that's leaching out from the cruciferous vegetables are for the dark leafy greens are going to be a lot of those very adaptogenic molecules that you're interested in the first place. Okay, so I'll probably surprise some people buy starting off my answer to the question of what are adaptogens. Are they worth thinking about in pursuing and if so, how can I get them? I talk to you about food, but I think it is important to understand you can get a lot of adaptogen some food and indeed some of the best adaptions do come from dark leafy greens and cruciferous vegetables. Be remiss if I didn't mention that the other two categories of adaptogens are going to be supplements based adaptogens and then behavioral adaption begin. Your adaptogen to find is anything that can buffer stress in a substantial or meaningful way in order to support seller Health, Oregon Health and overall daily living in And functioning including sleeping performance in mental health. So the second category of adaptogenic going to be supplement and here again, I just want to take a step back make sure that we are clear about our operational definition about what a supplement is. We had an episode all about how to design a rational guide to supplementation it which included for example, the idea that for some people the optimal dosage of many supplements is going to be zero and four other people that dosage will be something else but they're really pinpoint the key message from that episode that I'd like to read it right now, but they but I keep message from that episode that I'd like to reiterate now is that many people think of supplements as just vitamin supplements. And for that reason you'll often hear the argument I will iron supplements. Just expensive urine. Could you get all of that food, aren't you just urinating out all\n"
     ]
    }
   ],
   "source": [
    "# words with timestamps\n",
    "text_json = video.get_transcript()\n",
    "text = video.get_transcript_text()\n",
    "print(text)"
   ]
  },
  {
   "cell_type": "markdown",
   "metadata": {},
   "source": [
    "##### Add Subtitle to a video \n",
    "It returns a new stream instantly with subtitle added into the video. "
   ]
  },
  {
   "cell_type": "code",
   "execution_count": null,
   "metadata": {},
   "outputs": [],
   "source": [
    "new_stream = video.add_subtitle()\n",
    "play_stream(new_stream)"
   ]
  },
  {
   "cell_type": "markdown",
   "metadata": {},
   "source": [
    "In upcoming versions, VideoDB would support subtitle in multiple languages and more options to style your subtitles. "
   ]
  },
  {
   "cell_type": "markdown",
   "metadata": {},
   "source": [
    "##### Generate Thumbnail of Video :\n",
    "\n",
    "You can use `video.generate_thumbnail()` to generate a thumbnail image of video."
   ]
  },
  {
   "cell_type": "code",
   "execution_count": 53,
   "metadata": {},
   "outputs": [
    {
     "data": {
      "text/html": [
       "<img src=\"https://storage.googleapis.com/videodbx1.appspot.com/public/m-fca10baf-4b9c-4f08-af2b-cb2e60f3aa6e/47964de9-4de0-4db6-8fba-6aef1aca3084.jpg\"/>"
      ],
      "text/plain": [
       "<IPython.core.display.Image object>"
      ]
     },
     "execution_count": 53,
     "metadata": {},
     "output_type": "execute_result"
    }
   ],
   "source": [
    "from IPython.display import Image\n",
    "\n",
    "thumbnail_url = video.generate_thumbnail()\n",
    "Image(url=thumbnail_url) "
   ]
  },
  {
   "cell_type": "markdown",
   "metadata": {},
   "source": [
    "##### Delete a video :\n",
    "\n",
    "* `video.delete()` :deletes a video."
   ]
  },
  {
   "cell_type": "code",
   "execution_count": null,
   "metadata": {},
   "outputs": [],
   "source": [
    "video.delete()"
   ]
  },
  {
   "cell_type": "markdown",
   "metadata": {},
   "source": [
    "\n",
    "<div style=\"background-color: #ffffcc; color: black; padding: 10px; border-radius: 5px;\">\n",
    "Checkout more examples and tutorials 👉 <a href=\"https://docs.videodb.io/build-with-videodb-35\"> Build with VideoDB </a> to explore what you can build with VideoDB\n",
    "</div>"
   ]
  }
 ],
 "metadata": {
  "kernelspec": {
   "display_name": "Python 3 (ipykernel)",
   "language": "python",
   "name": "python3"
  },
  "language_info": {
   "codemirror_mode": {
    "name": "ipython",
    "version": 3
   },
   "file_extension": ".py",
   "mimetype": "text/x-python",
   "name": "python",
   "nbconvert_exporter": "python",
   "pygments_lexer": "ipython3",
   "version": "3.12.0"
  }
 },
 "nbformat": 4,
 "nbformat_minor": 4
}
