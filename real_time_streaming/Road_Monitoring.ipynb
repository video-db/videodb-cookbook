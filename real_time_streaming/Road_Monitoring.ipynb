{
  "cells": [
    {
      "cell_type": "markdown",
      "metadata": {
        "id": "fVwlZ3taSuZT"
      },
      "source": [
        "# 🚦 Smart Road Safety Monitoring using VideoDB RTStream\n",
        "\n",
        "[![Open In Colab](https://colab.research.google.com/assets/colab-badge.svg)](https://colab.research.google.com/github/video-db/videodb-cookbook/blob/main/real_time_streaming/Road_Monitoring.ipynb)\n",
        "\n",
        "## 📖 Storytime: Why This Matters\n",
        "\n",
        "Road accidents happen every single day — and many lives are lost not because of the severity of the crash itself, but because victims don’t receive timely aid and medical attention.\n",
        "\n",
        "Often, there’s no one around to report an incident, or bystanders take too long to respond — either from shock, panic, or the overwhelming nature of witnessing an accident.  \n",
        "But in those critical moments, even a **few seconds can make the difference between life and death**.\n",
        "\n",
        "**This is where AI can help.**\n",
        "\n",
        "With **VideoDB RTStream**, we can deploy cameras at accident-prone locations and let AI constantly monitor live video streams.  \n",
        "As soon as an accident occurs, AI will detect it and instantly send alerts to nearby emergency services or traffic authorities.\n",
        "\n",
        "---\n",
        "\n",
        "## 🚀 What You’ll Build in This Notebook  \n",
        "\n",
        "This notebook demonstrates a smart, AI-powered road safety monitoring system by:\n",
        "- 📺 Connecting a road surveillance video stream to VideoDB\n",
        "- 🤖 Using AI to analyze live video and detect accidents in real time\n",
        "- 🚨 Sending an automatic alert the moment an accident is detected\n",
        "\n",
        "Let's build it!"
      ]
    },
    {
      "cell_type": "markdown",
      "metadata": {
        "id": "YOLosD65SxZM"
      },
      "source": [
        "---\n",
        "\n",
        "## 📦 Step 1: Install Dependencies  \n",
        "\n",
        "We’ll begin by installing the VideoDB."
      ]
    },
    {
      "cell_type": "code",
      "execution_count": 1,
      "metadata": {
        "colab": {
          "base_uri": "https://localhost:8080/"
        },
        "id": "9qXdnI_USvHB",
        "outputId": "2cd02992-f51a-4261-feb7-ebb870155c39"
      },
      "outputs": [
        {
          "name": "stdout",
          "output_type": "stream",
          "text": [
            "  Preparing metadata (setup.py) ... \u001b[?25l\u001b[?25hdone\n",
            "  Building wheel for videodb (setup.py) ... \u001b[?25l\u001b[?25hdone\n"
          ]
        }
      ],
      "source": [
        "!pip install -q videodb"
      ]
    },
    {
      "cell_type": "markdown",
      "metadata": {
        "id": "x3rCy2flS4Yj"
      },
      "source": [
        "---\n",
        "## 📦 Step 2: Connect to VideoDB\n",
        "\n",
        "Let's connect to VideoDB's API using your credentials to prepare for stream monitoring.\n",
        "\n",
        "Please enter your `VIDEO_DB_API_KEY` in the input box that appears below after you run this cell.\n",
        "\n",
        "Your input will be masked.\n"
      ]
    },
    {
      "cell_type": "code",
      "execution_count": 2,
      "metadata": {
        "colab": {
          "base_uri": "https://localhost:8080/"
        },
        "id": "-GXWpXTwS4Fz",
        "outputId": "d62abf26-c73c-4006-9897-dd8812ec1006"
      },
      "outputs": [
        {
          "name": "stdout",
          "output_type": "stream",
          "text": [
            "Please enter your VideoDB API Key: ··········\n",
            "Connected to VideoDB securely!\n"
          ]
        }
      ],
      "source": [
        "import videodb\n",
        "import os\n",
        "from getpass import getpass\n",
        "\n",
        "api_key = getpass(\"Please enter your VideoDB API Key: \")\n",
        "\n",
        "os.environ[\"VIDEO_DB_API_KEY\"] = api_key\n",
        "\n",
        "conn = videodb.connect()\n",
        "coll = conn.get_collection()\n",
        "\n",
        "print(\"Connected to VideoDB securely!\")"
      ]
    },
    {
      "cell_type": "markdown",
      "metadata": {
        "id": "PqyviwxuS_ZL"
      },
      "source": [
        "---\n",
        "\n",
        "## 📦 Step 3: Connect to the Accident Monitoring RTSP Stream  \n",
        "Connect to the live camera stream monitoring a toll plaza — a high-risk accident location.\n",
        "\n",
        "In this demo, the stream is running at `rtsp://samples.rts.videodb.io:8554/accident`.\n"
      ]
    },
    {
      "cell_type": "code",
      "execution_count": null,
      "metadata": {
        "colab": {
          "base_uri": "https://localhost:8080/"
        },
        "id": "ft_nrviUTEqG",
        "outputId": "58996897-05ad-4038-cc58-58857e2e5e12"
      },
      "outputs": [
        {
          "name": "stdout",
          "output_type": "stream",
          "text": [
            "RTStream(id=rts-019719e8-f7fb-71c1-bb3d-c4418eefdecd, name=Toll Plaza Accident Stream, collection_id=None, created_at=None, sample_rate=30, status=connected)\n"
          ]
        }
      ],
      "source": [
        "rtsp_url = \"rtsp://samples.rts.videodb.io:8554/accident\"\n",
        "accident_stream = coll.connect_rtstream(\n",
        "    name=\"Toll Plaza Accident Stream\",\n",
        "    url=rtsp_url,\n",
        ")\n",
        "print(accident_stream)"
      ]
    },
    {
      "cell_type": "markdown",
      "metadata": {
        "id": "Dn1sk6iX6Y80"
      },
      "source": [
        "\n",
        "#### If you have already connected the stream, run the below cell with the **rtstream id** to reconnect."
      ]
    },
    {
      "cell_type": "code",
      "execution_count": 3,
      "metadata": {
        "id": "EREENsqo6ZxB"
      },
      "outputs": [],
      "source": [
        "# accident_stream = coll.get_rtstream(\"\")"
      ]
    },
    {
      "cell_type": "code",
      "execution_count": null,
      "metadata": {
        "id": "_SqudCbN6cua"
      },
      "outputs": [],
      "source": [
        "# To stop the stream\n",
        "# accident_stream.stop()"
      ]
    },
    {
      "cell_type": "code",
      "execution_count": 4,
      "metadata": {
        "id": "MZdd-R4s6dDv"
      },
      "outputs": [],
      "source": [
        "# To start the stream\n",
        "# accident_stream.start()"
      ]
    },
    {
      "cell_type": "markdown",
      "metadata": {
        "id": "tG1T-DGCTN_r"
      },
      "source": [
        "---\n",
        "### 👀 Let us have a look at the toll palza"
      ]
    },
    {
      "cell_type": "markdown",
      "metadata": {
        "id": "zvGXp9YQ66U7"
      },
      "source": [
        "\n",
        "#### 📺 Helper Function: Display Video Stream\n",
        "\n",
        "This cell contains a small utility function to help visualize the video streams with helpful information. You don't need to modify this code."
      ]
    },
    {
      "cell_type": "code",
      "execution_count": 5,
      "metadata": {
        "id": "6KyfCkwVTVKj"
      },
      "outputs": [],
      "source": [
        "# To display the stream with relevant information\n",
        "\n",
        "from IPython.display import HTML\n",
        "import re\n",
        "from datetime import datetime\n",
        "from videodb import play_stream\n",
        "\n",
        "def display_stream(video_url, video_name=\"🎥 Camera Feed\"):\n",
        "\n",
        "    match = re.search(r'/(\\d{16})-(\\d{16})\\.m3u8', video_url)\n",
        "    if match:\n",
        "        start_ts = int(match.group(1)) / 1e6\n",
        "        end_ts = int(match.group(2)) / 1e6\n",
        "        start_time = datetime.utcfromtimestamp(start_ts).strftime('%Y-%m-%d %H:%M:%S')\n",
        "        end_time = datetime.utcfromtimestamp(end_ts).strftime('%Y-%m-%d %H:%M:%S')\n",
        "        time_range = f\"{start_time} → {end_time} UTC\"\n",
        "    else:\n",
        "        time_range = \"Time Unknown\"\n",
        "\n",
        "    video_player_html = play_stream(video_url)\n",
        "\n",
        "    return HTML(f\"\"\"\n",
        "    <div style=\"position:relative;width:640px;\">\n",
        "      {video_player_html._repr_html_() if hasattr(video_player_html, '_repr_html_') else video_player_html}\n",
        "      <div style=\"position:absolute;top:10px;left:10px;background:rgba(0,0,0,0.6);color:#fff;padding:6px 12px;border-radius:4px;font-size:13px;font-family:sans-serif;\">\n",
        "        <strong>{video_name}</strong><br>{time_range}\n",
        "      </div>\n",
        "    </div>\n",
        "    \"\"\")"
      ]
    },
    {
      "cell_type": "markdown",
      "metadata": {
        "id": "yD85ycwD7Dyh"
      },
      "source": [
        "\n",
        "#### 🔗 Get & Display Recent Stream\n",
        "\n",
        "This cell uses the helper function above to fetch and display the last few minutes of the stream."
      ]
    },
    {
      "cell_type": "code",
      "execution_count": 7,
      "metadata": {
        "colab": {
          "base_uri": "https://localhost:8080/",
          "height": 422
        },
        "id": "XSwaKQ6FTPg_",
        "outputId": "fe16a3d0-5950-4ce2-ba35-a9fc2fef6167"
      },
      "outputs": [
        {
          "data": {
            "text/html": [
              "\n",
              "    <div style=\"position:relative;width:640px;\">\n",
              "      \n",
              "        <iframe\n",
              "            width=\"800\"\n",
              "            height=\"400\"\n",
              "            src=\"https://console.videodb.io/player?url=https://rt.stream.videodb.io/manifests/rts-019719e8-f7fb-71c1-bb3d-c4418eefdecd/1748517293000000-1748517593000000.m3u8\"\n",
              "            frameborder=\"0\"\n",
              "            allowfullscreen\n",
              "            \n",
              "        ></iframe>\n",
              "        \n",
              "      <div style=\"position:absolute;top:10px;left:10px;background:rgba(0,0,0,0.6);color:#fff;padding:6px 12px;border-radius:4px;font-size:13px;font-family:sans-serif;\">\n",
              "        <strong>🚧 Toll Plaza · Accident Detection</strong><br>2025-05-29 11:14:53 → 2025-05-29 11:19:53 UTC\n",
              "      </div>\n",
              "    </div>\n",
              "    "
            ],
            "text/plain": [
              "<IPython.core.display.HTML object>"
            ]
          },
          "execution_count": 7,
          "metadata": {},
          "output_type": "execute_result"
        }
      ],
      "source": [
        "# To get last few minutes stream link\n",
        "import time\n",
        "\n",
        "def fetch_stream(rtstream):\n",
        "\n",
        "    now = int(time.time())\n",
        "    start = int(now - (5 * 60))\n",
        "    stream_url = rtstream.generate_stream(start, now)\n",
        "    return stream_url\n",
        "\n",
        "video_url = fetch_stream(accident_stream)\n",
        "\n",
        "stream_name = \"🚧 Toll Plaza · Accident Detection\"\n",
        "display_stream(video_url , stream_name)"
      ]
    },
    {
      "cell_type": "markdown",
      "metadata": {
        "id": "cV38KJbSTZuD"
      },
      "source": [
        "---\n",
        "## 📦 Step 4: Index Scenes and Detect Accidents  \n",
        "We’ll create a real-time scene index that periodically analyzes video frames and generates natural language descriptions of what’s happening in the stream.\n",
        "\n",
        "The AI will look for visual signs of crashes, vehicle collisions, or people falling down.\n"
      ]
    },
    {
      "cell_type": "code",
      "execution_count": null,
      "metadata": {
        "colab": {
          "base_uri": "https://localhost:8080/"
        },
        "id": "_exbRcxb8KUI",
        "outputId": "de41aab2-eee5-42da-e0ad-27ea33138b49"
      },
      "outputs": [
        {
          "name": "stdout",
          "output_type": "stream",
          "text": [
            "Scene Index ID: c57e9eac387f0414\n"
          ]
        }
      ],
      "source": [
        "from videodb import SceneExtractionType\n",
        "\n",
        "accident_scene_index = accident_stream.index_scenes(\n",
        "    extraction_type=SceneExtractionType.time_based,\n",
        "    extraction_config={\n",
        "        \"time\":10,\n",
        "        \"frame_count\": 2,\n",
        "    },\n",
        "    prompt=\"Monitor the toll plaza road carefully. Detect if a vehicle collides, crashes, or a person falls. Describe the situation clearly if an accident occurs.\",\n",
        "    name=\"Accident_Index\"\n",
        ")\n",
        "\n",
        "accident_index_id = accident_scene_index.rtstream_index_id\n",
        "print(\"Scene Index ID:\", accident_index_id)"
      ]
    },
    {
      "cell_type": "markdown",
      "metadata": {
        "id": "FFgY73hB8eMF"
      },
      "source": [
        "\n",
        "#### If you have already created a scene index, run the below cell with your **scene index id** to reconnect."
      ]
    },
    {
      "cell_type": "code",
      "execution_count": null,
      "metadata": {
        "id": "k2bA19wr8fGv"
      },
      "outputs": [],
      "source": [
        "# accident_index_id = \"\"\n",
        "# accident_scene_index = accident_stream.get_scene_index(accident_index_id)"
      ]
    },
    {
      "cell_type": "code",
      "execution_count": null,
      "metadata": {
        "id": "sXtZzujF8fbl"
      },
      "outputs": [],
      "source": [
        "# To stop the index\n",
        "# accident_scene_index.stop()"
      ]
    },
    {
      "cell_type": "code",
      "execution_count": null,
      "metadata": {
        "id": "U7TwfLhe8fzl"
      },
      "outputs": [],
      "source": [
        "# To start the index\n",
        "# accident_scene_index.start()"
      ]
    },
    {
      "cell_type": "markdown",
      "metadata": {
        "id": "5UIWFfSJTjqE"
      },
      "source": [
        "---\n",
        "### Let us see the result of the scene indexing\n"
      ]
    },
    {
      "cell_type": "code",
      "execution_count": null,
      "metadata": {
        "colab": {
          "base_uri": "https://localhost:8080/"
        },
        "id": "YVBhVVqqTkwu",
        "outputId": "7d01b178-63a8-4085-f169-23cc6ad68c4a"
      },
      "outputs": [
        {
          "name": "stdout",
          "output_type": "stream",
          "text": [
            "2025-05-29 08:21:54-2025-05-29 08:22:02: **Accident Detected:**\n",
            "\n",
            "A black car has crashed at the toll plaza. Debris is scattered across the road, indicating a significant impact. The car appears to have collided with the toll booth structure. A person is standing near the car, seemingly assessing the damage. The situation suggests a potentially serious accident.\n",
            "--------------------------------------------------------------------------------\n",
            "2025-05-29 08:21:45-2025-05-29 08:21:53: **Accident Detected:**\n",
            "\n",
            "**Description:**\n",
            "\n",
            "It appears there has been a collision at the toll plaza. Debris is scattered across the road, and a black car is positioned between two toll booths with its door open. A person is standing near the car, and another individual wearing a yellow vest is present at the scene, possibly assessing the situation. The presence of debris suggests a significant impact.\n",
            "--------------------------------------------------------------------------------\n",
            "2025-05-29 08:21:36-2025-05-29 08:21:44: **Accident Detected:**\n",
            "\n",
            "A vehicle has crashed at the toll plaza. There is debris scattered across the road, and smoke is visible. A black car is stopped in one of the lanes, and a person is exiting the vehicle. A worker in a safety vest is standing near one of the toll booths. The extent of the damage and any potential injuries are not clear from the image.\n",
            "--------------------------------------------------------------------------------\n",
            "2025-05-29 08:21:27-2025-05-29 08:21:35: **Accident Detected:**\n",
            "\n",
            "Based on the image, it appears there has been a significant accident at the toll plaza. Here's a breakdown of the situation:\n",
            "\n",
            "*   **Collision/Crash:** There is debris scattered across the road, indicating a collision has occurred. A white vehicle is visible further down the road, possibly involved in the accident.\n",
            "*   **Vehicle Damage:** The black car in the foreground appears to be damaged.\n",
            "*   **Person Present:** A person is standing near the black car.\n",
            "*   **Emergency Personnel:** An individual wearing a high-visibility vest is present, suggesting that emergency personnel are on the scene.\n",
            "\n",
            "**Overall Situation:**\n",
            "\n",
            "The scene suggests a high-impact collision at the toll plaza. The presence of debris, damaged vehicles, and emergency personnel indicates a serious incident that requires immediate attention.\n",
            "--------------------------------------------------------------------------------\n",
            "2025-05-29 08:21:18-2025-05-29 08:21:26: **Accident Detected:**\n",
            "\n",
            "**Description:** A white vehicle has crashed into the toll plaza. Debris is scattered across the road. A black car is stopped in the lane to the left of the crash site. The severity of the crash and any potential injuries are unknown.\n",
            "--------------------------------------------------------------------------------\n"
          ]
        }
      ],
      "source": [
        "import time\n",
        "from datetime import datetime\n",
        "from zoneinfo import ZoneInfo\n",
        "\n",
        "def _convert_to_ist(timestamp: float) -> str:\n",
        "    \"\"\"Convert UTC timestamp to IST (Asia/Kolkata) datetime string.\"\"\"\n",
        "    return (\n",
        "        datetime.fromtimestamp(timestamp)\n",
        "        .astimezone(ZoneInfo(\"Asia/Kolkata\"))\n",
        "        .strftime(\"%Y-%m-%d %H:%M:%S\")\n",
        "    )\n",
        "\n",
        "def get_scenes(rtstream, index_id):\n",
        "    # Print indexed scenes\n",
        "    rtstream_scene_index = rtstream.get_scene_index(index_id)\n",
        "    scenes = rtstream_scene_index.get_scenes(page_size=5)\n",
        "    # print(scenes[\"scenes\"][:2])\n",
        "    if scenes:\n",
        "        for scene in scenes.get(\"scenes\"):\n",
        "            start = _convert_to_ist(scene[\"start\"])\n",
        "            end = _convert_to_ist(scene[\"end\"])\n",
        "            description = scene[\"description\"]\n",
        "            print(f\"{start}-{end}: {description}\")\n",
        "            print(\"-\" * 80)\n",
        "    else:\n",
        "        print(\"Scenes not found for given index.\")\n",
        "\n",
        "get_scenes(accident_stream, accident_index_id)"
      ]
    },
    {
      "cell_type": "markdown",
      "metadata": {
        "id": "6rI9zsuHTqrs"
      },
      "source": [
        "---\n",
        "## 📦 Step 5: Define an Accident Detection Event  \n",
        "Now, we’ll define an event type in the system to detect visual signs of a road accident.\n"
      ]
    },
    {
      "cell_type": "code",
      "execution_count": null,
      "metadata": {
        "colab": {
          "base_uri": "https://localhost:8080/"
        },
        "id": "i5NRGNOeTsNa",
        "outputId": "eb2f515f-326b-49af-a1b0-f09888da4352"
      },
      "outputs": [
        {
          "name": "stdout",
          "output_type": "stream",
          "text": [
            "Event ID: e1d716cd32a6fbd1\n"
          ]
        }
      ],
      "source": [
        "accident_event_id = conn.create_event(\n",
        "    event_prompt=\"Detect if an accident or vehicle collision takes place.\",\n",
        "    label=\"road_accident\"\n",
        ")\n",
        "print(\"Event ID:\", accident_event_id)"
      ]
    },
    {
      "cell_type": "markdown",
      "metadata": {
        "id": "KvynpKnQTvlL"
      },
      "source": [
        "---\n",
        "\n",
        "## 📦 Step 6: Attach an Alert to the Accident Event  \n",
        "Finally, we’ll link a real-time alert to this event. This will send a notification to our webhook the moment an accident is detected.\n"
      ]
    },
    {
      "cell_type": "code",
      "execution_count": null,
      "metadata": {
        "colab": {
          "base_uri": "https://localhost:8080/"
        },
        "id": "5GSOv6k6TwvD",
        "outputId": "37ce4dfb-3477-46af-b917-0c3e20cdd3ba"
      },
      "outputs": [
        {
          "name": "stdout",
          "output_type": "stream",
          "text": [
            "Alert ID: dc2896f3698072e9\n"
          ]
        }
      ],
      "source": [
        "webhook_url = \"\"\n",
        "\n",
        "if webhook_url:\n",
        "  accident_alert_id = accident_scene_index.create_alert(\n",
        "      accident_event_id,\n",
        "      callback_url=webhook_url\n",
        "  )\n",
        "  print(\"Alert ID:\", accident_alert_id)\n",
        "else:\n",
        "  print(\"Error: Please provide Webhook URL. Alert cannot be created without it.\")"
      ]
    },
    {
      "cell_type": "markdown",
      "metadata": {
        "id": "UzVBUUc1Tyj8"
      },
      "source": [
        "---\n",
        "## 📡 Example Alert Payload  \n",
        "When an accident was detected, the system sent this alert:\n",
        "\n",
        "```json\n",
        "{\n",
        "  \"event_id\": \"event-4566fbdc1c6a309c\",\n",
        "  \"label\": \"road_accident\",\n",
        "  \"confidence\": 0.95,\n",
        "  \"explanation\": \"The scene analysis indicates a significant collision at the toll plaza involving at least two vehicles and scattering of debris. This strongly suggests an accident has occurred.\",\n",
        "  \"timestamp\": \"2025-05-11T05:35:01.052189+00:00\",\n",
        "  \"start_time\": \"2025-05-11T10:44:59.580915+05:30\",\n",
        "  \"end_time\": \"2025-05-11T10:45:01.504513+05:30\",\n",
        "  \"stream_url\": \"https://rt.stream.videodb.io/manifests/rts-019719e8-f7fb-71c1-bb3d-c4418eefdecd/1748487351000000-1748487360000000.m3u8\"\n",
        "}\n",
        "```"
      ]
    },
    {
      "cell_type": "code",
      "execution_count": 7,
      "metadata": {
        "colab": {
          "base_uri": "https://localhost:8080/",
          "height": 422
        },
        "id": "-XaftWVo979r",
        "outputId": "7f98e9e8-2df1-4e82-d635-572e83303658"
      },
      "outputs": [
        {
          "data": {
            "text/html": [
              "\n",
              "    <div style=\"position:relative;width:640px;\">\n",
              "      \n",
              "        <iframe\n",
              "            width=\"800\"\n",
              "            height=\"400\"\n",
              "            src=\"https://console.videodb.io/player?url=https://rt.stream.videodb.io/manifests/rts-019719e8-f7fb-71c1-bb3d-c4418eefdecd/1748487351000000-1748487360000000.m3u8\"\n",
              "            frameborder=\"0\"\n",
              "            allowfullscreen\n",
              "            \n",
              "        ></iframe>\n",
              "        \n",
              "      <div style=\"position:absolute;top:10px;left:10px;background:rgba(0,0,0,0.6);color:#fff;padding:6px 12px;border-radius:4px;font-size:13px;font-family:sans-serif;\">\n",
              "        <strong>🚧 Toll Plaza · road_accident</strong><br>2025-05-29 02:55:51 → 2025-05-29 02:56:00 UTC\n",
              "      </div>\n",
              "    </div>\n",
              "    "
            ],
            "text/plain": [
              "<IPython.core.display.HTML object>"
            ]
          },
          "execution_count": 7,
          "metadata": {},
          "output_type": "execute_result"
        }
      ],
      "source": [
        "alert_stream_url = \"https://rt.stream.videodb.io/manifests/rts-019719e8-f7fb-71c1-bb3d-c4418eefdecd/1748487351000000-1748487360000000.m3u8\"\n",
        "video_name = \"🚧 Toll Plaza · road_accident\"\n",
        "\n",
        "display_stream(alert_stream_url, video_name)"
      ]
    },
    {
      "cell_type": "markdown",
      "metadata": {
        "id": "JPetvuDq_hiI"
      },
      "source": [
        "---\n",
        "- Disabling the alert after use"
      ]
    },
    {
      "cell_type": "code",
      "execution_count": null,
      "metadata": {
        "id": "_i6ELvNP_mOS"
      },
      "outputs": [],
      "source": [
        "accident_scene_index.disable_alert(accident_alert_id)"
      ]
    },
    {
      "cell_type": "markdown",
      "metadata": {
        "id": "5omGHiFj_v5C"
      },
      "source": [
        "- To re-enable the alert"
      ]
    },
    {
      "cell_type": "code",
      "execution_count": null,
      "metadata": {
        "id": "TFAEaAiI_07W"
      },
      "outputs": [],
      "source": [
        "accident_scene_index.enable_alert(accident_alert_id)"
      ]
    },
    {
      "cell_type": "markdown",
      "metadata": {
        "id": "2L_qLZ19-lM3"
      },
      "source": [
        "- Let us stop the accident index and proceed with the notebook to explore more possibilities."
      ]
    },
    {
      "cell_type": "code",
      "execution_count": null,
      "metadata": {
        "id": "3Rq-HHs5-trc"
      },
      "outputs": [],
      "source": [
        "accident_scene_index.stop()"
      ]
    },
    {
      "cell_type": "markdown",
      "metadata": {
        "id": "KM4T6N7nT2bE"
      },
      "source": [
        "---\n",
        "## 🚦 Detecting Traffic Rule Violations at the Toll Plaza\n",
        "\n",
        "Apart from accident monitoring, we can extend our system to detect **traffic rule violations** at the toll plaza as well.\n",
        "\n",
        "For this, we’ll:\n",
        "- Create a **new scene index** specifically focused on monitoring rule compliance.\n",
        "- Define an **event** to catch rule-breaking behavior (such as skipping tolls, wrong-lane driving, or ignoring barriers).\n",
        "- Attach an **alert** that notifies authorities when a violation is detected.\n",
        "\n",
        "---\n",
        "\n",
        "### 📦 Create a New Scene Index for Rule Monitoring  \n"
      ]
    },
    {
      "cell_type": "code",
      "execution_count": null,
      "metadata": {
        "colab": {
          "base_uri": "https://localhost:8080/"
        },
        "id": "dkuuHWvxTzxX",
        "outputId": "6934ff10-7e58-4fad-8c55-7f43f8466a77"
      },
      "outputs": [
        {
          "name": "stdout",
          "output_type": "stream",
          "text": [
            "Scene Index ID: ef827612a22d78b3\n"
          ]
        }
      ],
      "source": [
        "rule_scene_index = accident_stream.index_scenes(\n",
        "    extraction_type=SceneExtractionType.time_based,\n",
        "    extraction_config={\n",
        "        \"time\": 3,\n",
        "        \"frame_count\": 2,\n",
        "    },\n",
        "    prompt=\"Monitor the toll plaza carefully. Detect if any vehicle breaks traffic rules — for example, skipping the toll booth, crossing without stopping, driving in the wrong lane, or ignoring the barrier. Describe such violations clearly.\",\n",
        "    name=\"Toll_Rule_Violation_Index\"\n",
        ")\n",
        "rule_index_id = rule_scene_index.rtstream_index_id\n",
        "print(\"Scene Index ID:\", rule_index_id)\n"
      ]
    },
    {
      "cell_type": "markdown",
      "metadata": {
        "id": "eNMJudng-7_Y"
      },
      "source": [
        "#### Let us list the scene indexes created on our rtstream."
      ]
    },
    {
      "cell_type": "code",
      "execution_count": null,
      "metadata": {
        "colab": {
          "base_uri": "https://localhost:8080/"
        },
        "id": "2YcPWmYP_Ppw",
        "outputId": "398ea2a5-5d1d-4089-ba30-4ff099728fa0"
      },
      "outputs": [
        {
          "name": "stdout",
          "output_type": "stream",
          "text": [
            "RTStreamSceneIndex:\n",
            "            Index ID       : c57e9eac387f0414\n",
            "            RTStream ID    : rts-019719e8-f7fb-71c1-bb3d-c4418eefdecd\n",
            "            Name           : Accident_Index\n",
            "            Status         : stopped\n",
            "            Config         : {'frame_count': '2', 'time': '10'}\n",
            "            Prompt         : Monitor the toll plaza road carefully. Detect if a vehicle collides, crashes, or a person falls. Describe the situation clearly if an accident occurs.\n",
            "        \n",
            "--------------------------------------------------------------------------------\n",
            "RTStreamSceneIndex:\n",
            "            Index ID       : ef827612a22d78b3\n",
            "            RTStream ID    : rts-019719e8-f7fb-71c1-bb3d-c4418eefdecd\n",
            "            Name           : Toll_Rule_Violation_Index\n",
            "            Status         : running\n",
            "            Config         : {'frame_count': '2', 'time': '3'}\n",
            "            Prompt         : Monitor the toll plaza carefully. Detect if any vehicle breaks traffic rules — for example, skipping the toll booth, crossing without stopping, driving in the wrong lane, or ignoring the barrier. Describe such violations clearly.\n",
            "        \n",
            "--------------------------------------------------------------------------------\n"
          ]
        }
      ],
      "source": [
        "def list_rtstream_indexes(rtstream):\n",
        "    # List live stream indexes\n",
        "    rtstream_indexes = rtstream.list_scene_indexes()\n",
        "    for rtstream_index in rtstream_indexes:\n",
        "\n",
        "        print(f\"\"\"RTStreamSceneIndex:\n",
        "            Index ID       : {rtstream_index.rtstream_index_id}\n",
        "            RTStream ID    : {rtstream_index.rtstream_id}\n",
        "            Name           : {rtstream_index.name}\n",
        "            Status         : {rtstream_index.status}\n",
        "            Config         : {rtstream_index.extraction_config}\n",
        "            Prompt         : {rtstream_index.prompt}\n",
        "        \"\"\")\n",
        "        print(\"-\" * 80)\n",
        "\n",
        "list_rtstream_indexes(accident_stream)"
      ]
    },
    {
      "cell_type": "markdown",
      "metadata": {
        "id": "cXP4j0WAT_6a"
      },
      "source": [
        "---\n",
        "### Let us see the scenes generated"
      ]
    },
    {
      "cell_type": "code",
      "execution_count": null,
      "metadata": {
        "colab": {
          "base_uri": "https://localhost:8080/"
        },
        "id": "SktVw1nsUA8f",
        "outputId": "b3a82662-dd59-4dc3-fc10-ee51aa5169da"
      },
      "outputs": [
        {
          "name": "stdout",
          "output_type": "stream",
          "text": [
            "2025-05-29 08:32:30-2025-05-29 08:32:33: Based on the image, it appears there has been a significant incident at the toll plaza. Debris is scattered across multiple lanes, and a white vehicle is positioned at an angle, suggesting it may have crashed. The black car in the foreground seems to be approaching the scene cautiously.\n",
            "\n",
            "**Potential Violations:**\n",
            "\n",
            "*   **Skipping the toll booth/Crossing without stopping:** The white vehicle's position and the debris suggest it may have bypassed the toll booth without stopping, potentially at high speed.\n",
            "*   **Damage to property:** The extensive debris and the position of the white vehicle indicate damage to the toll plaza infrastructure.\n",
            "\n",
            "It's important to note that without more information, it's difficult to determine the exact sequence of events or the specific violations that occurred. Further investigation would be needed to ascertain the cause of the incident and any traffic violations involved.\n",
            "--------------------------------------------------------------------------------\n",
            "2025-05-29 08:32:26-2025-05-29 08:32:29: Based on the images, it appears that a white vehicle has crashed at the toll plaza. In the first image, the white vehicle is airborne, indicating a high-speed impact. In the second image, the white vehicle is on the ground, and debris is scattered around the area. This suggests a severe violation of traffic rules, including:\n",
            "\n",
            "1.  **Failure to Stop:** The vehicle did not stop at the toll booth.\n",
            "2.  **Excessive Speed:** The vehicle was traveling at a high rate of speed, resulting in a crash.\n",
            "3.  **Damage to Property:** The crash has caused damage to the toll plaza infrastructure.\n",
            "\n",
            "The black vehicle in the foreground appears to be unaffected by the incident.\n",
            "--------------------------------------------------------------------------------\n",
            "2025-05-29 08:32:22-2025-05-29 08:32:25: Based on the images, it appears a white vehicle has crashed at high speed through the toll plaza. Debris is scattered across the lanes, and the vehicle is airborne in the second image. This constitutes a severe violation of traffic rules, including:\n",
            "\n",
            "*   **Skipping the toll booth:** The vehicle did not stop to pay the toll.\n",
            "*   **Crossing without stopping:** The vehicle proceeded through the toll plaza at high speed without stopping.\n",
            "*   **Ignoring the barrier:** The vehicle crashed through the barrier.\n",
            "*   **Reckless driving:** The high speed and resulting crash indicate reckless driving.\n",
            "--------------------------------------------------------------------------------\n",
            "2025-05-29 08:32:18-2025-05-29 08:32:21: In the second image, a white vehicle appears to have crashed into the toll barrier on the right side of the image. This constitutes a traffic violation, as it involves damaging toll infrastructure and likely failing to stop or control the vehicle properly at the toll plaza.\n",
            "--------------------------------------------------------------------------------\n",
            "2025-05-29 08:32:14-2025-05-29 08:32:17: Okay, I've analyzed the video of the toll plaza.\n",
            "\n",
            "Based on the image provided, I cannot detect any traffic violations. The black car appears to be proceeding through the toll booth in a normal manner. There is no evidence of skipping the toll, crossing without stopping, driving in the wrong lane, or ignoring the barrier.\n",
            "\n",
            "--------------------------------------------------------------------------------\n"
          ]
        }
      ],
      "source": [
        "get_scenes(accident_stream, rule_index_id)"
      ]
    },
    {
      "cell_type": "markdown",
      "metadata": {
        "id": "SmOvrJ59UC0y"
      },
      "source": [
        "---\n",
        "### 📦 Create Event for Traffic Rule Violation  "
      ]
    },
    {
      "cell_type": "code",
      "execution_count": null,
      "metadata": {
        "colab": {
          "base_uri": "https://localhost:8080/"
        },
        "id": "wztzY0bvUD8G",
        "outputId": "82eee2a4-07a4-44c9-f799-9369817f7f10"
      },
      "outputs": [
        {
          "name": "stdout",
          "output_type": "stream",
          "text": [
            "Event ID: 08da2d1e62a5fca2\n"
          ]
        }
      ],
      "source": [
        "rule_violation_event_id = conn.create_event(\n",
        "    event_prompt=\"Detect if a vehicle breaks traffic rules at the toll plaza.\",\n",
        "    label=\"toll_rule_violation\"\n",
        ")\n",
        "print(\"Event ID:\", rule_violation_event_id)"
      ]
    },
    {
      "cell_type": "markdown",
      "metadata": {
        "id": "cMJvdtS3UFsi"
      },
      "source": [
        "---\n",
        "\n",
        "### 📦 Attach an Alert for Rule Violation Detection  "
      ]
    },
    {
      "cell_type": "code",
      "execution_count": null,
      "metadata": {
        "colab": {
          "base_uri": "https://localhost:8080/"
        },
        "id": "ag2Z278rUGsC",
        "outputId": "3efa8251-0f30-4717-a691-97976c429848"
      },
      "outputs": [
        {
          "name": "stdout",
          "output_type": "stream",
          "text": [
            "Alert ID: 31865b33a64e75f5\n"
          ]
        }
      ],
      "source": [
        "# Enter link to your webhook url where you want alerts to go.\n",
        "rule_violation_webhook_url = \"\"\n",
        "\n",
        "if rule_violation_webhook_url:\n",
        "  rule_violation_alert_id = rule_scene_index.create_alert(\n",
        "      rule_violation_event_id,\n",
        "      callback_url=rule_violation_webhook_url\n",
        "  )\n",
        "  print(\"Alert ID:\", rule_violation_alert_id)\n",
        "else:\n",
        "  print(\"Error: Please provide Webhook URL. Alert cannot be created without it.\")"
      ]
    },
    {
      "cell_type": "markdown",
      "metadata": {
        "id": "uFPo3v9XUNS-"
      },
      "source": [
        "---\n",
        "### The following alert was received on the webhook url identifying a potential traffic rule violation\n",
        "```json\n",
        "{\n",
        "  \"event_id\": \"event-08da2d1e62a5fca2\",\n",
        "  \"label\": \"toll_rule_violation\",\n",
        "  \"confidence\": 0.95,\n",
        "  \"explanation\": \"The extensive damage to the toll plaza and the position of the car strongly suggest a traffic rule violation, such as failure to stop or reckless driving.\",\n",
        "  \"timestamp\": \"2025-05-29T03:06:04.085416+00:00\",\n",
        "  \"start_time\": \"2025-05-29T08:34:43.276507+05:30\",\n",
        "  \"end_time\": \"2025-05-29T08:34:46.289540+05:30\",\n",
        "  \"stream_url\": \"https://rt.stream.videodb.io/manifests/rts-019719e8-f7fb-71c1-bb3d-c4418eefdecd/1748487883000000-1748487887000000.m3u8\"\n",
        "}\n",
        "```"
      ]
    },
    {
      "cell_type": "code",
      "execution_count": 8,
      "metadata": {
        "colab": {
          "base_uri": "https://localhost:8080/",
          "height": 422
        },
        "id": "HhpsLQ7JF59l",
        "outputId": "d47280b3-da7d-4ae5-e8b5-5278bc29781f"
      },
      "outputs": [
        {
          "data": {
            "text/html": [
              "\n",
              "    <div style=\"position:relative;width:640px;\">\n",
              "      \n",
              "        <iframe\n",
              "            width=\"800\"\n",
              "            height=\"400\"\n",
              "            src=\"https://console.videodb.io/player?url=https://rt.stream.videodb.io/manifests/rts-019719e8-f7fb-71c1-bb3d-c4418eefdecd/1748487883000000-1748487887000000.m3u8\"\n",
              "            frameborder=\"0\"\n",
              "            allowfullscreen\n",
              "            \n",
              "        ></iframe>\n",
              "        \n",
              "      <div style=\"position:absolute;top:10px;left:10px;background:rgba(0,0,0,0.6);color:#fff;padding:6px 12px;border-radius:4px;font-size:13px;font-family:sans-serif;\">\n",
              "        <strong>🚧 Toll Plaza · toll_rule_violation</strong><br>2025-05-29 03:04:43 → 2025-05-29 03:04:47 UTC\n",
              "      </div>\n",
              "    </div>\n",
              "    "
            ],
            "text/plain": [
              "<IPython.core.display.HTML object>"
            ]
          },
          "execution_count": 8,
          "metadata": {},
          "output_type": "execute_result"
        }
      ],
      "source": [
        "alert_stream_url = \"https://rt.stream.videodb.io/manifests/rts-019719e8-f7fb-71c1-bb3d-c4418eefdecd/1748487883000000-1748487887000000.m3u8\"\n",
        "video_name = \"🚧 Toll Plaza · toll_rule_violation\"\n",
        "\n",
        "display_stream(alert_stream_url, video_name)"
      ]
    },
    {
      "cell_type": "markdown",
      "metadata": {
        "id": "Ez8ocDcgADS4"
      },
      "source": [
        "- Let us stop the alert after use"
      ]
    },
    {
      "cell_type": "code",
      "execution_count": null,
      "metadata": {
        "id": "Z3TcBKVuAG8X"
      },
      "outputs": [],
      "source": [
        "rule_scene_index.disable_alert(rule_violation_alert_id)"
      ]
    },
    {
      "cell_type": "markdown",
      "metadata": {
        "id": "zqqbpqtzAHoe"
      },
      "source": [
        "- To re-enable the alert"
      ]
    },
    {
      "cell_type": "code",
      "execution_count": null,
      "metadata": {
        "id": "7cxhddmEAJrf"
      },
      "outputs": [],
      "source": [
        "rule_scene_index.enable_alert(rule_violation_alert_id)"
      ]
    },
    {
      "cell_type": "markdown",
      "metadata": {
        "id": "PFj2miFVU73t"
      },
      "source": [
        "\n",
        "- Let us stop the present stream and proceed forward in the notebook."
      ]
    },
    {
      "cell_type": "code",
      "execution_count": null,
      "metadata": {
        "id": "VUtF5qtT45NP"
      },
      "outputs": [],
      "source": [
        "accident_stream.stop()"
      ]
    },
    {
      "cell_type": "markdown",
      "metadata": {
        "id": "qXqc_irE5DYR"
      },
      "source": [
        "---\n",
        "## 🚦 Traffic Congestion Detection: Prevent Traffic Pile-Ups Early\n",
        "\n",
        "Since we’ve already built our accident alert system, let’s expand its capabilities.\n",
        "\n",
        "On busy roads, even a minor incident or slow-moving vehicle can quickly escalate into a traffic jam, wasting commuters' crucial time.  \n",
        "A person might miss an important meeting, a student might arrive late for an exam — and city traffic can get messy fast.\n",
        "\n",
        "It’s important to detect **the very start of a traffic jam** early, so authorities can intervene and resolve it before it spreads.\n",
        "\n",
        "Let's build a system to save your time!"
      ]
    },
    {
      "cell_type": "markdown",
      "metadata": {
        "id": "V9kQqM8D5JVA"
      },
      "source": [
        "---\n",
        "\n",
        "## 📦 Step 1: Connect to the Highway Traffic RTSP Stream  \n",
        "\n",
        "We’ll connect a live camera stream monitoring a busy multi-lane highway.\n"
      ]
    },
    {
      "cell_type": "code",
      "execution_count": null,
      "metadata": {
        "id": "CaT_T2CQ5F4H"
      },
      "outputs": [],
      "source": [
        "traffic_rtsp_url = \"rtsp://3.6.198.206:8554/traffic\"\n",
        "traffic_stream = coll.connect_rtstream(\n",
        "    name=\"Highway Traffic Stream\",\n",
        "    url=traffic_rtsp_url,\n",
        ")\n",
        "print(traffic_stream)"
      ]
    },
    {
      "cell_type": "markdown",
      "metadata": {
        "id": "pEdbjq5gAzZv"
      },
      "source": [
        "#### Let us list all the rtstreams in our collection."
      ]
    },
    {
      "cell_type": "code",
      "execution_count": null,
      "metadata": {
        "colab": {
          "base_uri": "https://localhost:8080/"
        },
        "id": "PZmj9saDA1fA",
        "outputId": "44b86767-82f4-4ef0-8463-49199b682d75"
      },
      "outputs": [
        {
          "name": "stdout",
          "output_type": "stream",
          "text": [
            "RTStream:\n",
            "        ID            : rts-01971a06-eb5c-7453-a257-e0135de60c29\n",
            "        Name          : Highway Traffic Stream\n",
            "        Collection ID : c-81fc6459-fe30-44ac-8c5b-ea0898c2e152\n",
            "        Created At    : 2025-05-29T03:12:30.556060\n",
            "        Sample Rate   : 30\n",
            "        Status        : connected\n",
            "        \n",
            "--------------------------------------------------------------------------------\n",
            "RTStream:\n",
            "        ID            : rts-019719e8-f7fb-71c1-bb3d-c4418eefdecd\n",
            "        Name          : Toll Plaza Accident Stream\n",
            "        Collection ID : c-81fc6459-fe30-44ac-8c5b-ea0898c2e152\n",
            "        Created At    : 2025-05-29T02:39:47.707342\n",
            "        Sample Rate   : 30\n",
            "        Status        : stopped\n",
            "        \n",
            "--------------------------------------------------------------------------------\n",
            "RTStream:\n",
            "        ID            : rts-019719b2-0c84-7a71-a037-311855a8d160\n",
            "        Name          : Arizona Flood Stream\n",
            "        Collection ID : c-81fc6459-fe30-44ac-8c5b-ea0898c2e152\n",
            "        Created At    : 2025-05-29T01:39:48.484134\n",
            "        Sample Rate   : 30\n",
            "        Status        : stopped\n",
            "        \n",
            "--------------------------------------------------------------------------------\n",
            "RTStream:\n",
            "        ID            : rts-019711db-1086-7750-ba79-8f47a4fed603\n",
            "        Name          : Cricket Finals Stream\n",
            "        Collection ID : c-81fc6459-fe30-44ac-8c5b-ea0898c2e152\n",
            "        Created At    : 2025-05-27T13:07:38.758741\n",
            "        Sample Rate   : 30\n",
            "        Status        : stopped\n",
            "        \n",
            "--------------------------------------------------------------------------------\n",
            "RTStream:\n",
            "        ID            : rts-019711a0-0fde-7911-b282-25bc0b4ecf65\n",
            "        Name          : Baby Crib Monitor\n",
            "        Collection ID : c-81fc6459-fe30-44ac-8c5b-ea0898c2e152\n",
            "        Created At    : 2025-05-27T12:03:11.966358\n",
            "        Sample Rate   : 30\n",
            "        Status        : stopped\n",
            "        \n",
            "--------------------------------------------------------------------------------\n",
            "RTStream:\n",
            "        ID            : rts-019710fa-9511-79c3-a924-e229e4815410\n",
            "        Name          : Property Security Stream\n",
            "        Collection ID : c-81fc6459-fe30-44ac-8c5b-ea0898c2e152\n",
            "        Created At    : 2025-05-27T09:02:27.089279\n",
            "        Sample Rate   : 30\n",
            "        Status        : stopped\n",
            "        \n",
            "--------------------------------------------------------------------------------\n"
          ]
        }
      ],
      "source": [
        "def list_rtstreams():\n",
        "    for rtstream in coll.list_rtstreams():\n",
        "        print(f\"\"\"RTStream:\n",
        "        ID            : {rtstream.id}\n",
        "        Name          : {rtstream.name}\n",
        "        Collection ID : {rtstream.collection_id}\n",
        "        Created At    : {rtstream.created_at}\n",
        "        Sample Rate   : {rtstream.sample_rate}\n",
        "        Status        : {rtstream.status}\n",
        "        \"\"\")\n",
        "        print(\"-\" * 80)\n",
        "\n",
        "list_rtstreams()"
      ]
    },
    {
      "cell_type": "markdown",
      "metadata": {
        "id": "9hlwyNp76cL3"
      },
      "source": [
        "#### If you have already connected the stream, run the below cell with the **rtstream id** to reconnect."
      ]
    },
    {
      "cell_type": "code",
      "execution_count": 9,
      "metadata": {
        "id": "OZ-Hg5A45QOJ"
      },
      "outputs": [],
      "source": [
        "# traffic_stream = coll.get_rtstream(id=\"\")"
      ]
    },
    {
      "cell_type": "markdown",
      "metadata": {
        "id": "GrtjXIp65Mwn"
      },
      "source": [
        "---\n",
        "### Let us have a look at the busy lanes"
      ]
    },
    {
      "cell_type": "code",
      "execution_count": 17,
      "metadata": {
        "colab": {
          "base_uri": "https://localhost:8080/",
          "height": 422
        },
        "id": "ZUg57M-65UrX",
        "outputId": "3a3d72ed-715e-4a3c-f68b-9e8022d4c270"
      },
      "outputs": [
        {
          "data": {
            "text/html": [
              "\n",
              "    <div style=\"position:relative;width:640px;\">\n",
              "      \n",
              "        <iframe\n",
              "            width=\"800\"\n",
              "            height=\"400\"\n",
              "            src=\"https://console.videodb.io/player?url=https://rt.stream.videodb.io/manifests/rts-01971a06-eb5c-7453-a257-e0135de60c29/1748516159000000-1748516459000000.m3u8\"\n",
              "            frameborder=\"0\"\n",
              "            allowfullscreen\n",
              "            \n",
              "        ></iframe>\n",
              "        \n",
              "      <div style=\"position:absolute;top:10px;left:10px;background:rgba(0,0,0,0.6);color:#fff;padding:6px 12px;border-radius:4px;font-size:13px;font-family:sans-serif;\">\n",
              "        <strong>🚥 Central Highway · Traffic Detection</strong><br>2025-05-29 10:55:59 → 2025-05-29 11:00:59 UTC\n",
              "      </div>\n",
              "    </div>\n",
              "    "
            ],
            "text/plain": [
              "<IPython.core.display.HTML object>"
            ]
          },
          "execution_count": 17,
          "metadata": {},
          "output_type": "execute_result"
        }
      ],
      "source": [
        "video_url = fetch_stream(traffic_stream)\n",
        "stream_name = \"🚥 Central Highway · Traffic Detection\"\n",
        "display_stream(video_url , stream_name)"
      ]
    },
    {
      "cell_type": "markdown",
      "metadata": {
        "id": "2wMP1XBN5XiA"
      },
      "source": [
        "---\n",
        "## 📦 Step 2: Index Scenes and Detect Traffic Congestion  \n",
        "\n",
        "We’ll create a real-time scene index that periodically analyzes video frames and generates natural language descriptions of what’s happening on the highway.\n",
        "\n",
        "The AI will look for **slow-moving traffic, halted vehicles, or signs of congestion building up**.\n"
      ]
    },
    {
      "cell_type": "code",
      "execution_count": null,
      "metadata": {
        "colab": {
          "base_uri": "https://localhost:8080/"
        },
        "id": "SA8nc30n5ZyJ",
        "outputId": "9ca02dc0-c615-4b03-ee7b-b135b0c8a3f2"
      },
      "outputs": [
        {
          "name": "stdout",
          "output_type": "stream",
          "text": [
            "Scene Index ID: 403efcbae504de61\n"
          ]
        }
      ],
      "source": [
        "from videodb import SceneExtractionType\n",
        "\n",
        "traffic_jam_scene_index = traffic_stream.index_scenes(\n",
        "    extraction_type=SceneExtractionType.time_based,\n",
        "    extraction_config={\n",
        "        \"time\": 5,\n",
        "        \"frame_count\": 3,\n",
        "    },\n",
        "    prompt=\"Monitor the lanes of vehicles over several video frames. If the whole lane of cars consistently moves very slowly or stops, classify the situation as 'traffic congestion detected.' Otherwise, classify it as 'regular traffic flow.\",\n",
        "    name=\"Traffic_Congestion_Index\"\n",
        ")\n",
        "traffic_jam_index_id = traffic_jam_scene_index.rtstream_index_id\n",
        "print(\"Scene Index ID:\", traffic_jam_index_id)"
      ]
    },
    {
      "cell_type": "markdown",
      "metadata": {
        "id": "d819cxWM-CNq"
      },
      "source": [
        "\n",
        "#### If you have already created a scene index, run the below cell with your **scene index id** to reconnect."
      ]
    },
    {
      "cell_type": "code",
      "execution_count": null,
      "metadata": {
        "id": "GBm3UYiO-Hlc"
      },
      "outputs": [],
      "source": [
        "# traffic_index_id = \"\"\n",
        "# traffic_scene_index = traffic_stream.get_scene_index(traffic_index_id)"
      ]
    },
    {
      "cell_type": "markdown",
      "metadata": {
        "id": "-tFI4QjB5dGw"
      },
      "source": [
        "---\n",
        "### Let us see the indexes being generated"
      ]
    },
    {
      "cell_type": "code",
      "execution_count": null,
      "metadata": {
        "colab": {
          "base_uri": "https://localhost:8080/"
        },
        "id": "14lqxoQO5mty",
        "outputId": "92f49be8-d65f-4071-994a-662e99b58824"
      },
      "outputs": [
        {
          "name": "stdout",
          "output_type": "stream",
          "text": [
            "2025-05-29 13:08:29-2025-05-29 13:08:34: Based on the provided video frames, the classification is:\n",
            "\n",
            "**Traffic congestion detected.**\n",
            "\n",
            "**Reasoning:**\n",
            "\n",
            "In all three frames, the lanes of vehicles appear densely packed and moving very slowly. The consistent slow movement across multiple frames indicates a sustained period of reduced traffic flow, which is a key characteristic of traffic congestion.\n",
            "\n",
            "--------------------------------------------------------------------------------\n",
            "2025-05-29 13:08:24-2025-05-29 13:08:28: Based on the provided images, here's the classification of traffic flow:\n",
            "\n",
            "**Traffic Congestion Detected**\n",
            "\n",
            "**Explanation:**\n",
            "\n",
            "The images show a high density of vehicles with very little visible movement. The blurred lights indicate that the camera is capturing the movement of the vehicles over time. The fact that the lights are blurred but the vehicles are still densely packed suggests that the vehicles are moving very slowly or are stopped. This is a clear indicator of traffic congestion.\n",
            "--------------------------------------------------------------------------------\n",
            "2025-05-29 13:08:18-2025-05-29 13:08:23: Based on the provided images, here's the classification:\n",
            "\n",
            "**Traffic Congestion Detected.**\n",
            "\n",
            "**Explanation:**\n",
            "\n",
            "The images show a high density of vehicles in multiple lanes. The blurred lights suggest slow movement or even stationary vehicles over the time period captured in the images. This indicates that the vehicles are not moving freely and are experiencing congestion.\n",
            "\n",
            "--------------------------------------------------------------------------------\n",
            "2025-05-29 13:08:13-2025-05-29 13:08:17: Based on the provided images, here's the classification of traffic flow:\n",
            "\n",
            "**Classification: Traffic Congestion Detected**\n",
            "\n",
            "**Reasoning:**\n",
            "\n",
            "*   In all three images, the right lanes are densely packed with vehicles. The vehicles are either stopped or moving very slowly.\n",
            "*   The consistent presence of closely packed vehicles across the images indicates a sustained period of slow or stopped movement.\n",
            "*   The left lanes appear to have more movement, but the right lanes are clearly congested.\n",
            "--------------------------------------------------------------------------------\n",
            "2025-05-29 13:08:08-2025-05-29 13:08:12: Based on the provided video frames, the classification is:\n",
            "\n",
            "**Traffic congestion detected.**\n",
            "\n",
            "**Reasoning:**\n",
            "\n",
            "In the sequence of images, the vehicles in multiple lanes appear to be moving very slowly or are stopped. The blurred streaks of light from the vehicles indicate slow movement over the duration of the frame capture. The density of vehicles is also high, suggesting a congested traffic situation.\n",
            "\n",
            "--------------------------------------------------------------------------------\n"
          ]
        }
      ],
      "source": [
        "get_scenes(traffic_stream , traffic_jam_index_id)"
      ]
    },
    {
      "cell_type": "markdown",
      "metadata": {
        "id": "eUAhAFuV5rNK"
      },
      "source": [
        "---\n",
        "\n",
        "## 📦 Step 3: Create Event and Attach Alert for Traffic Jam Detection  \n",
        "\n",
        "We’ll now define a single event for detecting traffic congestion and immediately attach a real-time alert to it.\n"
      ]
    },
    {
      "cell_type": "code",
      "execution_count": null,
      "metadata": {
        "colab": {
          "base_uri": "https://localhost:8080/"
        },
        "id": "Dp22xgVM5rff",
        "outputId": "e4080dba-2028-44a4-d241-b5ba2befd8ef"
      },
      "outputs": [
        {
          "name": "stdout",
          "output_type": "stream",
          "text": [
            "Event ID: c0f7b39718b545d9\n"
          ]
        }
      ],
      "source": [
        "# Creating Event\n",
        "traffic_event_id = conn.create_event(\n",
        "    event_prompt=\"Detect if traffic congestion or jam is forming.\",\n",
        "    label=\"traffic_congestion\"\n",
        ")\n",
        "print(\"Event ID:\", traffic_event_id)\n"
      ]
    },
    {
      "cell_type": "code",
      "execution_count": null,
      "metadata": {
        "colab": {
          "base_uri": "https://localhost:8080/"
        },
        "id": "Nq3RYvbd5uF_",
        "outputId": "1039656c-04c8-4c0a-f536-6bf766d73f0b"
      },
      "outputs": [
        {
          "name": "stdout",
          "output_type": "stream",
          "text": [
            "Alert ID: 140d39c7bb9596ca\n"
          ]
        }
      ],
      "source": [
        "# Enter link to your webhook url where you want alerts to go. You can create one simply on pipedream.\n",
        "traffic_webhook_url = \"\"\n",
        "\n",
        "if traffic_webhook_url:\n",
        "  traffic_alert_id = traffic_jam_scene_index.create_alert(\n",
        "      traffic_event_id,\n",
        "      callback_url=traffic_webhook_url\n",
        "  )\n",
        "  print(\"Alert ID:\", traffic_alert_id)\n",
        "else:\n",
        "  print(\"Error: Please provide Webhook URL. Alert cannot be created without it.\")"
      ]
    },
    {
      "cell_type": "markdown",
      "metadata": {
        "id": "heBIhjiu5xNp"
      },
      "source": [
        "\n",
        "---\n",
        "\n",
        "## 📡 Example Alert Payload  \n",
        "\n",
        "When traffic congestion was detected, the system sent this alert:\n",
        "\n",
        "```json\n",
        "{\n",
        "  \"event_id\": \"event-c0f7b39718b545d9\",\n",
        "  \"label\": \"traffic_congestion\",\n",
        "  \"confidence\": 0.95,\n",
        "  \"explanation\": \"High vehicle density and slow movement observed across multiple lanes, strongly indicating traffic congestion.\",\n",
        "  \"timestamp\": \"2025-05-29T07:41:20.520352+00:00\",\n",
        "  \"start_time\": \"2025-05-29T13:11:08.124127+05:30\",\n",
        "  \"end_time\": \"2025-05-29T13:11:12.622574+05:30\",\n",
        "  \"stream_url\": \"https://rt.stream.videodb.io/manifests/rts-01971a06-eb5c-7453-a257-e0135de60c29/1748504468000000-1748504473000000.m3u8\"\n",
        "}\n",
        "```"
      ]
    },
    {
      "cell_type": "markdown",
      "metadata": {
        "id": "q6YG-iP1_UUj"
      },
      "source": [
        "---\n",
        "### Let us have a look at the stream_url received in the alert."
      ]
    },
    {
      "cell_type": "code",
      "execution_count": 12,
      "metadata": {
        "colab": {
          "base_uri": "https://localhost:8080/",
          "height": 422
        },
        "id": "WXU-Db0z_T2S",
        "outputId": "36a64ffd-824a-409f-ee5e-32b2e448a803"
      },
      "outputs": [
        {
          "data": {
            "text/html": [
              "\n",
              "    <div style=\"position:relative;width:640px;\">\n",
              "      \n",
              "        <iframe\n",
              "            width=\"800\"\n",
              "            height=\"400\"\n",
              "            src=\"https://console.videodb.io/player?url=https://rt.stream.videodb.io/manifests/rts-01971a06-eb5c-7453-a257-e0135de60c29/1748504468000000-1748504473000000.m3u8\"\n",
              "            frameborder=\"0\"\n",
              "            allowfullscreen\n",
              "            \n",
              "        ></iframe>\n",
              "        \n",
              "      <div style=\"position:absolute;top:10px;left:10px;background:rgba(0,0,0,0.6);color:#fff;padding:6px 12px;border-radius:4px;font-size:13px;font-family:sans-serif;\">\n",
              "        <strong>🚥 Central Highway · traffic_congestion</strong><br>2025-05-29 07:41:08 → 2025-05-29 07:41:13 UTC\n",
              "      </div>\n",
              "    </div>\n",
              "    "
            ],
            "text/plain": [
              "<IPython.core.display.HTML object>"
            ]
          },
          "execution_count": 12,
          "metadata": {},
          "output_type": "execute_result"
        }
      ],
      "source": [
        "alert_stream_url = \"https://rt.stream.videodb.io/manifests/rts-01971a06-eb5c-7453-a257-e0135de60c29/1748504468000000-1748504473000000.m3u8\"\n",
        "video_name = \"🚥 Central Highway · traffic_congestion\"\n",
        "\n",
        "display_stream(alert_stream_url, video_name)"
      ]
    },
    {
      "cell_type": "markdown",
      "metadata": {
        "id": "jfKNjz4qAi6H"
      },
      "source": [
        "- Let us disable the alert after use"
      ]
    },
    {
      "cell_type": "code",
      "execution_count": null,
      "metadata": {
        "id": "f8TG8V9KAlUG"
      },
      "outputs": [],
      "source": [
        "traffic_jam_scene_index.disable_alert(traffic_alert_id)"
      ]
    },
    {
      "cell_type": "markdown",
      "metadata": {
        "id": "s5Mp7YBmAqq9"
      },
      "source": [
        "- To re-enable the alert"
      ]
    },
    {
      "cell_type": "code",
      "execution_count": null,
      "metadata": {
        "id": "bKQ2uq3jAsam"
      },
      "outputs": [],
      "source": [
        "traffic_jam_scene_index.enable_alert(traffic_alert_id)"
      ]
    },
    {
      "cell_type": "markdown",
      "metadata": {
        "id": "Bx832H6EAzH_"
      },
      "source": [
        "- We should stop the stream after use"
      ]
    },
    {
      "cell_type": "code",
      "execution_count": null,
      "metadata": {
        "id": "8MXq3pCDA3nH"
      },
      "outputs": [],
      "source": [
        "traffic_stream.stop()"
      ]
    },
    {
      "cell_type": "markdown",
      "metadata": {
        "id": "4FkFVPpC50Sf"
      },
      "source": [
        "---\n",
        "\n",
        "\n",
        "## 🛣️ Wrapping Up: Smarter Roads, Safer Lives\n",
        "\n",
        "In this notebook, we built a smart AI-powered road monitoring system addressing two major challenges:\n",
        "\n",
        "✅ **Accident Detection** at toll plazas — instantly spotting crashes and alerting emergency services without delay.\n",
        "\n",
        "✅ **Traffic Congestion Detection** on busy highways — catching early signs of jams so authorities can act before things spiral.\n",
        "\n",
        "Together, these tools show how AI video monitoring can make roads safer, traffic smoother, and emergency responses faster — all in real time.\n",
        "\n",
        "\n",
        "\n",
        "---\n",
        "\n",
        "## 🌍 What Else Could We Monitor?\n",
        "\n",
        "This kind of smart AI surveillance system isn’t limited to road safety:\n",
        "\n",
        "- 🛡️ **Public safety at concerts, rallies, and crowded events** — detecting mass gatherings, fights, or stampedes.\n",
        "- 🌧️ **Weather-Related Visibility & Road Hazard Assessment** — automatically detecting dangerous road conditions caused by weather.\n",
        "- 🚁 **Drone-based surveillance for rural highways, border roads, or disaster-affected zones.**\n",
        "\n",
        "Where would *you* deploy it next?"
      ]
    }
  ],
  "metadata": {
    "colab": {
      "provenance": []
    },
    "kernelspec": {
      "display_name": "Python 3",
      "name": "python3"
    },
    "language_info": {
      "name": "python"
    }
  },
  "nbformat": 4,
  "nbformat_minor": 0
}
